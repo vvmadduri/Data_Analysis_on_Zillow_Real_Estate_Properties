{
 "cells": [
  {
   "cell_type": "code",
   "execution_count": 122,
   "id": "34777aa2",
   "metadata": {},
   "outputs": [],
   "source": [
    "import pandas as pd\n"
   ]
  },
  {
   "cell_type": "markdown",
   "id": "692979a3",
   "metadata": {},
   "source": [
    "# Overview of the data set\n",
    "\n",
    "Displaying the first few rows of data collected from Zillow website."
   ]
  },
  {
   "cell_type": "code",
   "execution_count": 123,
   "id": "67c09f61",
   "metadata": {},
   "outputs": [
    {
     "data": {
      "text/html": [
       "<div>\n",
       "<style scoped>\n",
       "    .dataframe tbody tr th:only-of-type {\n",
       "        vertical-align: middle;\n",
       "    }\n",
       "\n",
       "    .dataframe tbody tr th {\n",
       "        vertical-align: top;\n",
       "    }\n",
       "\n",
       "    .dataframe thead th {\n",
       "        text-align: right;\n",
       "    }\n",
       "</style>\n",
       "<table border=\"1\" class=\"dataframe\">\n",
       "  <thead>\n",
       "    <tr style=\"text-align: right;\">\n",
       "      <th></th>\n",
       "      <th>Unnamed: 0</th>\n",
       "      <th>zpid</th>\n",
       "      <th>city</th>\n",
       "      <th>state</th>\n",
       "      <th>homeStatus</th>\n",
       "      <th>bedrooms</th>\n",
       "      <th>bathrooms</th>\n",
       "      <th>price</th>\n",
       "      <th>resoFacts_pricePerSquareFoot</th>\n",
       "      <th>yearBuilt</th>\n",
       "      <th>...</th>\n",
       "      <th>lotAreaUnits</th>\n",
       "      <th>streetAddress</th>\n",
       "      <th>zipcode</th>\n",
       "      <th>regionString</th>\n",
       "      <th>homeType</th>\n",
       "      <th>attributionInfo_agentEmail</th>\n",
       "      <th>attributionInfo_agentName</th>\n",
       "      <th>attributionInfo_agentPhoneNumber</th>\n",
       "      <th>attributionInfo_brokerName</th>\n",
       "      <th>attributionInfo_brokerPhoneNumber</th>\n",
       "    </tr>\n",
       "  </thead>\n",
       "  <tbody>\n",
       "    <tr>\n",
       "      <th>0</th>\n",
       "      <td>0</td>\n",
       "      <td>2103708987</td>\n",
       "      <td>Belmont</td>\n",
       "      <td>CA</td>\n",
       "      <td>FOR_SALE</td>\n",
       "      <td>NaN</td>\n",
       "      <td>NaN</td>\n",
       "      <td>135000</td>\n",
       "      <td>NaN</td>\n",
       "      <td>NaN</td>\n",
       "      <td>...</td>\n",
       "      <td>Acres</td>\n",
       "      <td>0 Alhambra Dr</td>\n",
       "      <td>94002</td>\n",
       "      <td>Belmont CA 94002</td>\n",
       "      <td>LOT</td>\n",
       "      <td>maxtherealtor@gmail.com</td>\n",
       "      <td>Max Reinhardt</td>\n",
       "      <td>415-860-1484</td>\n",
       "      <td>Berkshire Hathaway HomeServices DrysdaleProper...</td>\n",
       "      <td>650-393-5108</td>\n",
       "    </tr>\n",
       "    <tr>\n",
       "      <th>1</th>\n",
       "      <td>1</td>\n",
       "      <td>2103537912</td>\n",
       "      <td>Belmont</td>\n",
       "      <td>CA</td>\n",
       "      <td>FOR_SALE</td>\n",
       "      <td>NaN</td>\n",
       "      <td>NaN</td>\n",
       "      <td>375000</td>\n",
       "      <td>NaN</td>\n",
       "      <td>NaN</td>\n",
       "      <td>...</td>\n",
       "      <td>Acres</td>\n",
       "      <td>0 Bartlett Way</td>\n",
       "      <td>94002</td>\n",
       "      <td>Belmont CA 94002</td>\n",
       "      <td>LOT</td>\n",
       "      <td>maxtherealtor@gmail.com</td>\n",
       "      <td>Max Reinhardt</td>\n",
       "      <td>415-860-1484</td>\n",
       "      <td>Berkshire Hathaway HomeServices DrysdaleProper...</td>\n",
       "      <td>650-393-5108</td>\n",
       "    </tr>\n",
       "    <tr>\n",
       "      <th>2</th>\n",
       "      <td>2</td>\n",
       "      <td>2061329361</td>\n",
       "      <td>San Lorenzo</td>\n",
       "      <td>CA</td>\n",
       "      <td>FOR_SALE</td>\n",
       "      <td>NaN</td>\n",
       "      <td>NaN</td>\n",
       "      <td>2700000</td>\n",
       "      <td>NaN</td>\n",
       "      <td>NaN</td>\n",
       "      <td>...</td>\n",
       "      <td>Acres</td>\n",
       "      <td>0 Foothill Blvd</td>\n",
       "      <td>94580</td>\n",
       "      <td>San Lorenzo CA 94580</td>\n",
       "      <td>LOT</td>\n",
       "      <td>ngocanh.nguyen@kkhomes.net</td>\n",
       "      <td>Anh Nguyen</td>\n",
       "      <td>408-839-4708</td>\n",
       "      <td>K&amp;K Homes Realty</td>\n",
       "      <td>408-599-3401</td>\n",
       "    </tr>\n",
       "    <tr>\n",
       "      <th>3</th>\n",
       "      <td>3</td>\n",
       "      <td>2068613908</td>\n",
       "      <td>Redwood City</td>\n",
       "      <td>CA</td>\n",
       "      <td>FOR_SALE</td>\n",
       "      <td>NaN</td>\n",
       "      <td>NaN</td>\n",
       "      <td>376500</td>\n",
       "      <td>NaN</td>\n",
       "      <td>NaN</td>\n",
       "      <td>...</td>\n",
       "      <td>Acres</td>\n",
       "      <td>0 Huckleberry Trl</td>\n",
       "      <td>94062</td>\n",
       "      <td>Redwood City CA 94062</td>\n",
       "      <td>LOT</td>\n",
       "      <td>holly.moffitt.2020@gmail.com</td>\n",
       "      <td>Holly Moffitt</td>\n",
       "      <td>916-626-0015</td>\n",
       "      <td>Capitol Realty Center Inc.</td>\n",
       "      <td>916-224-1748</td>\n",
       "    </tr>\n",
       "    <tr>\n",
       "      <th>4</th>\n",
       "      <td>4</td>\n",
       "      <td>2106483047</td>\n",
       "      <td>La Honda</td>\n",
       "      <td>CA</td>\n",
       "      <td>FOR_SALE</td>\n",
       "      <td>0.0</td>\n",
       "      <td>0.0</td>\n",
       "      <td>349999</td>\n",
       "      <td>NaN</td>\n",
       "      <td>NaN</td>\n",
       "      <td>...</td>\n",
       "      <td>Acres</td>\n",
       "      <td>0 La Honda Rd</td>\n",
       "      <td>94020</td>\n",
       "      <td>La Honda CA 94020</td>\n",
       "      <td>LOT</td>\n",
       "      <td>NaN</td>\n",
       "      <td>Denis Hann</td>\n",
       "      <td>445-208-5585</td>\n",
       "      <td>Hann Realty</td>\n",
       "      <td>747-248-6618</td>\n",
       "    </tr>\n",
       "  </tbody>\n",
       "</table>\n",
       "<p>5 rows × 24 columns</p>\n",
       "</div>"
      ],
      "text/plain": [
       "   Unnamed: 0        zpid          city state homeStatus  bedrooms  bathrooms  \\\n",
       "0           0  2103708987       Belmont    CA   FOR_SALE       NaN        NaN   \n",
       "1           1  2103537912       Belmont    CA   FOR_SALE       NaN        NaN   \n",
       "2           2  2061329361   San Lorenzo    CA   FOR_SALE       NaN        NaN   \n",
       "3           3  2068613908  Redwood City    CA   FOR_SALE       NaN        NaN   \n",
       "4           4  2106483047      La Honda    CA   FOR_SALE       0.0        0.0   \n",
       "\n",
       "     price  resoFacts_pricePerSquareFoot  yearBuilt  ...  lotAreaUnits  \\\n",
       "0   135000                           NaN        NaN  ...         Acres   \n",
       "1   375000                           NaN        NaN  ...         Acres   \n",
       "2  2700000                           NaN        NaN  ...         Acres   \n",
       "3   376500                           NaN        NaN  ...         Acres   \n",
       "4   349999                           NaN        NaN  ...         Acres   \n",
       "\n",
       "       streetAddress  zipcode           regionString homeType  \\\n",
       "0      0 Alhambra Dr    94002       Belmont CA 94002      LOT   \n",
       "1     0 Bartlett Way    94002       Belmont CA 94002      LOT   \n",
       "2    0 Foothill Blvd    94580   San Lorenzo CA 94580      LOT   \n",
       "3  0 Huckleberry Trl    94062  Redwood City CA 94062      LOT   \n",
       "4      0 La Honda Rd    94020      La Honda CA 94020      LOT   \n",
       "\n",
       "     attributionInfo_agentEmail  attributionInfo_agentName  \\\n",
       "0       maxtherealtor@gmail.com              Max Reinhardt   \n",
       "1       maxtherealtor@gmail.com              Max Reinhardt   \n",
       "2    ngocanh.nguyen@kkhomes.net                 Anh Nguyen   \n",
       "3  holly.moffitt.2020@gmail.com              Holly Moffitt   \n",
       "4                           NaN                 Denis Hann   \n",
       "\n",
       "  attributionInfo_agentPhoneNumber  \\\n",
       "0                     415-860-1484   \n",
       "1                     415-860-1484   \n",
       "2                     408-839-4708   \n",
       "3                     916-626-0015   \n",
       "4                     445-208-5585   \n",
       "\n",
       "                          attributionInfo_brokerName  \\\n",
       "0  Berkshire Hathaway HomeServices DrysdaleProper...   \n",
       "1  Berkshire Hathaway HomeServices DrysdaleProper...   \n",
       "2                                   K&K Homes Realty   \n",
       "3                         Capitol Realty Center Inc.   \n",
       "4                                        Hann Realty   \n",
       "\n",
       "  attributionInfo_brokerPhoneNumber  \n",
       "0                      650-393-5108  \n",
       "1                      650-393-5108  \n",
       "2                      408-599-3401  \n",
       "3                      916-224-1748  \n",
       "4                      747-248-6618  \n",
       "\n",
       "[5 rows x 24 columns]"
      ]
     },
     "execution_count": 123,
     "metadata": {},
     "output_type": "execute_result"
    }
   ],
   "source": [
    "df.head()"
   ]
  },
  {
   "cell_type": "markdown",
   "id": "5091481d",
   "metadata": {},
   "source": [
    "Identifying the numeric and non-numeric columns"
   ]
  },
  {
   "cell_type": "code",
   "execution_count": 124,
   "id": "4aaf640a",
   "metadata": {},
   "outputs": [
    {
     "name": "stdout",
     "output_type": "stream",
     "text": [
      "Index(['Unnamed: 0', 'zpid', 'bedrooms', 'bathrooms', 'price',\n",
      "       'resoFacts_pricePerSquareFoot', 'yearBuilt', 'lotSize', 'rentZestimate',\n",
      "       'zestimate', 'zipcode'],\n",
      "      dtype='object')\n",
      "Index(['city', 'state', 'homeStatus', 'resoFacts_appliances', 'lotAreaUnits',\n",
      "       'streetAddress', 'regionString', 'homeType',\n",
      "       'attributionInfo_agentEmail', 'attributionInfo_agentName',\n",
      "       'attributionInfo_agentPhoneNumber', 'attributionInfo_brokerName',\n",
      "       'attributionInfo_brokerPhoneNumber'],\n",
      "      dtype='object')\n"
     ]
    }
   ],
   "source": [
    "numeric_cols = df.select_dtypes(include=['number']).columns\n",
    "print(numeric_cols)\n",
    "\n",
    "non_numeric_cols = df.select_dtypes(exclude=['number']).columns\n",
    "print(non_numeric_cols)"
   ]
  },
  {
   "cell_type": "markdown",
   "id": "03474557",
   "metadata": {},
   "source": [
    "# Missing data\n",
    "\n",
    "Missing data or missing values are when there’s no data value stored for a column in a row. It is very important to find missing data and handle it because the machine learning models that we will be using for data visualization won't work well if ther is missing data.\n",
    "\n",
    "\n",
    "\n",
    "# Showing Missing data using histogram\n",
    "\n",
    "Missing data histogram is a technique for summarizing information by rows."
   ]
  },
  {
   "cell_type": "code",
   "execution_count": 125,
   "id": "8409038b",
   "metadata": {},
   "outputs": [
    {
     "data": {
      "text/plain": [
       "<AxesSubplot:>"
      ]
     },
     "execution_count": 125,
     "metadata": {},
     "output_type": "execute_result"
    },
    {
     "data": {
      "image/png": "[encoded data removed]",
      "text/plain": [
       "<Figure size 432x288 with 1 Axes>"
      ]
     },
     "metadata": {
      "needs_background": "light"
     },
     "output_type": "display_data"
    }
   ],
   "source": [
    "missing_by_row = df.isna().sum(axis='columns')\n",
    "missing_by_row.hist(bins=50)"
   ]
  },
  {
   "cell_type": "markdown",
   "id": "dd845733",
   "metadata": {},
   "source": [
    "From the above histogram we can see that more than 400 rows have no missing values where as almost 300 rows have 1 missing values."
   ]
  },
  {
   "cell_type": "markdown",
   "id": "6eb37dcb",
   "metadata": {},
   "source": [
    "# Dealing with missing data\n",
    "\n",
    "impute the missing with constant values\n",
    "\n",
    "Instead of dropping data, we can also replace the missing. An easy method is to impute the missing or null data with zero.\n",
    "\n"
   ]
  },
  {
   "cell_type": "code",
   "execution_count": 126,
   "id": "4bbefcf7",
   "metadata": {},
   "outputs": [],
   "source": [
    "df['bedrooms'] = df['bedrooms'].fillna(0)\n",
    "df['bathrooms'] = df['bathrooms'].fillna(0)\n",
    "df['lotSize'] = df['lotSize'].fillna(0)\n"
   ]
  },
  {
   "cell_type": "code",
   "execution_count": 127,
   "id": "ddc9367a",
   "metadata": {},
   "outputs": [
    {
     "data": {
      "text/plain": [
       "Unnamed: 0                             0\n",
       "zpid                                   0\n",
       "city                                   0\n",
       "state                                  0\n",
       "homeStatus                             0\n",
       "bedrooms                               0\n",
       "bathrooms                              0\n",
       "price                                  0\n",
       "resoFacts_pricePerSquareFoot          38\n",
       "yearBuilt                             41\n",
       "lotSize                                0\n",
       "rentZestimate                         99\n",
       "zestimate                            145\n",
       "resoFacts_appliances                 180\n",
       "lotAreaUnits                           0\n",
       "streetAddress                          0\n",
       "zipcode                                0\n",
       "regionString                           0\n",
       "homeType                               0\n",
       "attributionInfo_agentEmail             4\n",
       "attributionInfo_agentName              1\n",
       "attributionInfo_agentPhoneNumber     192\n",
       "attributionInfo_brokerName             0\n",
       "attributionInfo_brokerPhoneNumber      7\n",
       "dtype: int64"
      ]
     },
     "execution_count": 127,
     "metadata": {},
     "output_type": "execute_result"
    }
   ],
   "source": [
    "num_missing_copy = df.isna().sum()\n",
    "num_missing_copy\n"
   ]
  },
  {
   "cell_type": "markdown",
   "id": "1d5a33bc",
   "metadata": {},
   "source": [
    "# Irregular data (outliers)\n",
    "\n",
    "Outliers are data that is distinct from other observations. They could bias our data analysis results, providing a misleading representation of the data. Outliers could be real outliers or mistakes.\n",
    "\n",
    "histogram & box plot\n",
    "Let’s use the data visualization method to detect outliers. We’ll plot a histogram and a box plot of the column life_sq.\n"
   ]
  },
  {
   "cell_type": "code",
   "execution_count": 128,
   "id": "06f7d98e",
   "metadata": {
    "scrolled": false
   },
   "outputs": [
    {
     "data": {
      "application/vnd.plotly.v1+json": {
       "config": {
        "plotlyServerURL": "https://plot.ly"
       },
       "data": [
        {
         "alignmentgroup": "True",
         "hovertemplate": "price=%{x}<extra></extra>",
         "legendgroup": "",
         "marker": {
          "color": "#636efa"
         },
         "name": "",
         "notched": false,
         "offsetgroup": "",
         "orientation": "h",
         "showlegend": false,
         "type": "box",
         "x": [
          135000,
          375000,
          2700000,
          376500,
          349999,
          180000,
          99000,
          180000,
          399000,
          1695000,
          825000,
          979000,
          788000,
          7498000,
          2840000,
          645000,
          729888,
          4950000,
          898000,
          1839000,
          995000,
          5350000,
          3899888,
          1088000,
          3498000,
          1198000,
          2288888,
          1098000,
          9000000,
          3950000,
          849900,
          8488000,
          2698000,
          2700000,
          848800,
          349995,
          4750000,
          1488888,
          2488000,
          1748000,
          2199950,
          1900000,
          1798000,
          6895000,
          199999,
          2788000,
          1299888,
          1648000,
          1680000,
          849000,
          1288000,
          3688000,
          1083000,
          349888,
          319000,
          595000,
          2189000,
          6495000,
          1498000,
          2145000,
          469000,
          1748888,
          1699999,
          1050000,
          650000,
          599000,
          360000,
          1425000,
          1724990,
          1898000,
          1099950,
          799000,
          1075000,
          515700,
          439000,
          419500,
          1605000,
          875000,
          1750000,
          3100000,
          1488000,
          1249800,
          958000,
          425000,
          2390000,
          999800,
          895000,
          995000,
          3995000,
          849000,
          1399000,
          248000,
          625000,
          3200000,
          5195000,
          2349500,
          1099000,
          3995000,
          599000,
          1468000,
          950000,
          695000,
          419000,
          1600000,
          1375000,
          2195000,
          1295000,
          907000,
          3850000,
          1450000,
          1538000,
          1899000,
          274900,
          169000,
          180000,
          299900,
          3998000,
          738000,
          899000,
          995000,
          1988800,
          1049000,
          359000,
          428000,
          1495000,
          4375000,
          699999,
          950000,
          3579000,
          989888,
          1726888,
          1150000,
          491800,
          999000,
          1049000,
          1088000,
          4995000,
          730000,
          1795000,
          3499000,
          4988000,
          2148000,
          3988000,
          799000,
          845000,
          4299888,
          5995000,
          859950,
          699975,
          2988000,
          2498000,
          3295000,
          4795000,
          959000,
          339000,
          764000,
          1949000,
          1500000,
          575000,
          3999000,
          549000,
          4995000,
          4750000,
          1750000,
          810000,
          850000,
          1998000,
          441000,
          1160000,
          550000,
          2950000,
          1950000,
          876000,
          3300000,
          1698000,
          3825000,
          2498000,
          4485000,
          888888,
          849000,
          1799888,
          1495000,
          7598000,
          2238000,
          1285000,
          525000,
          6399000,
          800000,
          3500000,
          2500000,
          5880000,
          90000,
          939000,
          2698000,
          1225000,
          639000,
          948000,
          18950000,
          2450000,
          8750000,
          699000,
          1095000,
          2476000,
          3200000,
          3495000,
          299888,
          898800,
          750000,
          899000,
          5250000,
          599000,
          998000,
          829000,
          14995000,
          789000,
          1498000,
          520000,
          18999000,
          2798000,
          2200000,
          449000,
          245000,
          1650000,
          1500000,
          7499999,
          5995000,
          215000,
          878000,
          550000,
          855000,
          1295000,
          499000,
          995000,
          880000,
          1049000,
          1095000,
          499999,
          1195000,
          679000,
          960000,
          19500000,
          749000,
          2398000,
          1269000,
          2400000,
          3980000,
          1240000,
          1648000,
          2700000,
          1325000,
          925000,
          1350000,
          843000,
          1999999,
          2699000,
          3500000,
          2588000,
          2700000,
          680000,
          1979000,
          1278000,
          1250000,
          750000,
          1650000,
          932000,
          689500,
          2100000,
          4438888,
          4895000,
          14500000,
          4198000,
          4000000,
          789500,
          799000,
          749888,
          1310000,
          2500000,
          898000,
          850000,
          3575000,
          1375000,
          799000,
          6999000,
          699999,
          649895,
          7695000,
          2588000,
          5198000,
          1100000,
          11988000,
          775000,
          3488000,
          799000,
          739000,
          4330000,
          1328000,
          1095000,
          1050000,
          1088000,
          469000,
          12500000,
          1600000,
          1698989,
          2599999,
          939000,
          1198000,
          1899000,
          750000,
          899000,
          1100000,
          2688000,
          1750000,
          1499000,
          4078245,
          275000,
          22000000,
          1299000,
          1165000,
          2098000,
          799000,
          1688888,
          352000,
          2495000,
          2495000,
          128000,
          1788880,
          14999000,
          3650000,
          529900,
          2348000,
          998888,
          825000,
          1949000,
          1549000,
          1388000,
          1695000,
          775000,
          1395000,
          1399000,
          899950,
          995000,
          1358800,
          425000,
          4329995,
          975000,
          699888,
          1749000,
          817000,
          969999,
          1725000,
          5350000,
          2998000,
          7450000,
          1449990,
          1750000,
          2935000,
          3250000,
          795000,
          1200000,
          899000,
          3225000,
          549888,
          974888,
          750000,
          499000,
          572500,
          1199000,
          875000,
          699950,
          3150000,
          9475000,
          5250000,
          1849000,
          710000,
          14988000,
          2498888,
          3950000,
          959000,
          1750000,
          1498000,
          785000,
          1195000,
          1800000,
          5350000,
          2388000,
          2498000,
          699000,
          2795000,
          2398000,
          1599000,
          1049999,
          849000,
          1500000,
          1299888,
          899000,
          890500,
          699000,
          499000,
          1288880,
          2998000,
          989000,
          1398000,
          779000,
          7950000,
          1149000,
          1248000,
          1279900,
          818888,
          5950000,
          1285000,
          1988800,
          1885000,
          724999,
          2998000,
          1750000,
          1590000,
          1795000,
          1429999,
          615000,
          495000,
          1401275,
          1675000,
          595000,
          1575000,
          755000,
          688000,
          1170000,
          2005000,
          2200000,
          998000,
          1750000,
          685000,
          1595000,
          1998000,
          1798000,
          989000,
          629000,
          445000,
          299000,
          2695000,
          1399999,
          529888,
          2549000,
          673000,
          220000,
          2500000,
          675000,
          1069000,
          599000,
          1995000,
          1469990,
          3895000,
          1399950,
          1888000,
          930000,
          2195000,
          475000,
          1438000,
          2198000,
          939218,
          699000,
          465000,
          330000,
          615000,
          899000,
          639950,
          1499000,
          998000,
          1995000,
          1575000,
          2085000,
          1699888,
          1199000,
          2395950,
          1328000,
          689000,
          2148000,
          3988000,
          799000,
          2898000,
          738000,
          1399000,
          725000,
          589000,
          1188800,
          847000,
          599900,
          775000,
          900000,
          2788000,
          599000,
          1799888,
          900000,
          2995000,
          2650000,
          3750000,
          1950000,
          1380000,
          3978000,
          525000,
          500000,
          784900,
          1395000,
          649000,
          789000,
          569000,
          1699888,
          2698000,
          1680000,
          1800000,
          924888,
          1569000,
          947000,
          220000,
          699000,
          1325000,
          1550000,
          2398000,
          1395000,
          4850000,
          5388000,
          1525000,
          1450000,
          1199000,
          409000,
          1748000,
          125000000,
          1250000,
          525000,
          879000,
          1349000,
          1199000,
          1895000,
          2488000,
          8275000,
          12750000,
          325000,
          1498000,
          1999888,
          298800,
          2199888,
          879000,
          2998000,
          2700000,
          2298000,
          425000,
          899000,
          1190000,
          3988000,
          675000,
          1181995,
          2688000,
          1220000,
          545000,
          2099500,
          970000,
          1399000,
          1689999,
          3450000,
          3098000,
          2200000,
          888000,
          710000,
          2000000,
          849900,
          1150000,
          1298000,
          749000,
          2488000,
          3500000,
          2789000,
          695000,
          525000,
          1100000,
          2599800,
          1190000,
          1295000,
          1799000,
          1295933,
          829000,
          999000,
          1249000,
          1299999,
          1250000,
          999888,
          435000,
          1788000,
          1649900,
          538000,
          875000,
          1188000,
          475000,
          1598888,
          1998800,
          2250000,
          788000,
          1100000,
          1050000,
          699800,
          699000,
          1059000,
          725000,
          1798000,
          899000,
          479000,
          449000,
          1595000,
          2980000,
          1859000,
          1999000,
          1898000,
          1648000,
          899000,
          1998500,
          749950,
          649999,
          299000,
          450000,
          1048000,
          520000,
          520000,
          500000,
          575000,
          650000,
          520000,
          505000,
          3000000,
          2680000,
          3395000,
          775000,
          1498888,
          1599000,
          1234900,
          3629000,
          999888,
          1149000,
          3650000,
          998000,
          450000,
          1540000,
          2299900,
          950000,
          912000,
          569000,
          1729000,
          4999999,
          6200000,
          3200000,
          2550000,
          1899000,
          2249000,
          1550000,
          1850000,
          1389000,
          2249800,
          995000,
          1250000,
          739000,
          989000,
          3295000,
          1795000,
          1398000,
          885000,
          849000,
          1499000,
          450000,
          1450000,
          1878000,
          690000,
          1488888,
          1499500,
          1150000,
          4495000,
          2998000,
          1049000,
          550000,
          1688000,
          1499000,
          1299000,
          1649000,
          4888000,
          899000,
          1549950,
          1450000,
          2795000,
          1799000,
          1298000,
          1698000,
          1249000,
          279000,
          1195000,
          1578000,
          1795000,
          325000,
          825888,
          949000,
          1399000,
          1698000,
          1098000,
          995000,
          724950,
          1848000,
          629900,
          2700000,
          3999000,
          16800000,
          299000,
          420000,
          509000,
          4280000,
          795000,
          1198000,
          1998000,
          798850,
          1486888,
          780000,
          2695000,
          949000,
          448000,
          499000,
          535000,
          379000,
          820000,
          765000,
          850000,
          1679999,
          649000,
          3880000,
          2495000,
          750000,
          899900,
          1288000,
          599000,
          1588000,
          1199000,
          1880000,
          2198000,
          749000,
          25000,
          1190000,
          2888000,
          445000,
          429000,
          1250000,
          1299888,
          1995000,
          1100000,
          2695000,
          4948000,
          1700000,
          1419000,
          1799000,
          1290000,
          1375000,
          15000000,
          1750000,
          1029000,
          618888,
          429900,
          1490000,
          4999500,
          5588000,
          599000,
          549000,
          488880,
          749000,
          400000,
          1395000,
          445000,
          390000,
          1815000,
          545000,
          573200,
          965000,
          998000,
          2395000,
          999999,
          1550000,
          362000,
          1350000,
          1265000,
          2589000,
          2898000,
          1098000,
          1925000,
          1349000,
          6995000,
          3149000,
          838000,
          1989000,
          1498000,
          2100000,
          179000,
          65000,
          1750000,
          440000,
          1195000,
          3488000,
          6888000,
          1350000,
          2400000,
          799000,
          2550000,
          399950,
          999999,
          7598000,
          750000,
          1250000,
          1095000,
          2745000,
          1785000,
          1495000,
          675000,
          1629000,
          2800000,
          1165000,
          1649000,
          1998000,
          950000,
          1650000,
          4298000,
          5695000,
          1050000,
          1350000,
          749900,
          798000,
          1599888,
          689000,
          405000,
          3299950,
          10980000,
          1680000,
          1078000,
          3099903,
          549000,
          998000,
          1750000,
          1095000,
          3500000,
          898000,
          2398000,
          2499000,
          975000,
          999000,
          1489000,
          1100000,
          4999999,
          2498000,
          1300000,
          1450000,
          1398000,
          1299000,
          1309439,
          899000,
          798000,
          1498000,
          1988888,
          519888,
          48000000,
          1298000,
          2495000,
          1549000,
          1850000,
          849000,
          1898000,
          899000,
          1758000,
          5498000,
          1450000,
          1388300,
          1916742,
          1301880,
          1495000,
          1498000,
          2008888,
          2499000,
          1590000,
          2998000,
          6950000,
          1498000,
          718000,
          2998000,
          4495000,
          899000,
          850000,
          719990,
          6850000,
          1249900,
          2275000,
          350000,
          399000,
          105000,
          4500000,
          1195000,
          1350000,
          1279000
         ],
         "x0": " ",
         "xaxis": "x",
         "y0": " ",
         "yaxis": "y"
        }
       ],
       "layout": {
        "boxmode": "group",
        "legend": {
         "tracegroupgap": 0
        },
        "margin": {
         "t": 60
        },
        "template": {
         "data": {
          "bar": [
           {
            "error_x": {
             "color": "#2a3f5f"
            },
            "error_y": {
             "color": "#2a3f5f"
            },
            "marker": {
             "line": {
              "color": "#E5ECF6",
              "width": 0.5
             },
             "pattern": {
              "fillmode": "overlay",
              "size": 10,
              "solidity": 0.2
             }
            },
            "type": "bar"
           }
          ],
          "barpolar": [
           {
            "marker": {
             "line": {
              "color": "#E5ECF6",
              "width": 0.5
             },
             "pattern": {
              "fillmode": "overlay",
              "size": 10,
              "solidity": 0.2
             }
            },
            "type": "barpolar"
           }
          ],
          "carpet": [
           {
            "aaxis": {
             "endlinecolor": "#2a3f5f",
             "gridcolor": "white",
             "linecolor": "white",
             "minorgridcolor": "white",
             "startlinecolor": "#2a3f5f"
            },
            "baxis": {
             "endlinecolor": "#2a3f5f",
             "gridcolor": "white",
             "linecolor": "white",
             "minorgridcolor": "white",
             "startlinecolor": "#2a3f5f"
            },
            "type": "carpet"
           }
          ],
          "choropleth": [
           {
            "colorbar": {
             "outlinewidth": 0,
             "ticks": ""
            },
            "type": "choropleth"
           }
          ],
          "contour": [
           {
            "colorbar": {
             "outlinewidth": 0,
             "ticks": ""
            },
            "colorscale": [
             [
              0,
              "#0d0887"
             ],
             [
              0.1111111111111111,
              "#46039f"
             ],
             [
              0.2222222222222222,
              "#7201a8"
             ],
             [
              0.3333333333333333,
              "#9c179e"
             ],
             [
              0.4444444444444444,
              "#bd3786"
             ],
             [
              0.5555555555555556,
              "#d8576b"
             ],
             [
              0.6666666666666666,
              "#ed7953"
             ],
             [
              0.7777777777777778,
              "#fb9f3a"
             ],
             [
              0.8888888888888888,
              "#fdca26"
             ],
             [
              1,
              "#f0f921"
             ]
            ],
            "type": "contour"
           }
          ],
          "contourcarpet": [
           {
            "colorbar": {
             "outlinewidth": 0,
             "ticks": ""
            },
            "type": "contourcarpet"
           }
          ],
          "heatmap": [
           {
            "colorbar": {
             "outlinewidth": 0,
             "ticks": ""
            },
            "colorscale": [
             [
              0,
              "#0d0887"
             ],
             [
              0.1111111111111111,
              "#46039f"
             ],
             [
              0.2222222222222222,
              "#7201a8"
             ],
             [
              0.3333333333333333,
              "#9c179e"
             ],
             [
              0.4444444444444444,
              "#bd3786"
             ],
             [
              0.5555555555555556,
              "#d8576b"
             ],
             [
              0.6666666666666666,
              "#ed7953"
             ],
             [
              0.7777777777777778,
              "#fb9f3a"
             ],
             [
              0.8888888888888888,
              "#fdca26"
             ],
             [
              1,
              "#f0f921"
             ]
            ],
            "type": "heatmap"
           }
          ],
          "heatmapgl": [
           {
            "colorbar": {
             "outlinewidth": 0,
             "ticks": ""
            },
            "colorscale": [
             [
              0,
              "#0d0887"
             ],
             [
              0.1111111111111111,
              "#46039f"
             ],
             [
              0.2222222222222222,
              "#7201a8"
             ],
             [
              0.3333333333333333,
              "#9c179e"
             ],
             [
              0.4444444444444444,
              "#bd3786"
             ],
             [
              0.5555555555555556,
              "#d8576b"
             ],
             [
              0.6666666666666666,
              "#ed7953"
             ],
             [
              0.7777777777777778,
              "#fb9f3a"
             ],
             [
              0.8888888888888888,
              "#fdca26"
             ],
             [
              1,
              "#f0f921"
             ]
            ],
            "type": "heatmapgl"
           }
          ],
          "histogram": [
           {
            "marker": {
             "pattern": {
              "fillmode": "overlay",
              "size": 10,
              "solidity": 0.2
             }
            },
            "type": "histogram"
           }
          ],
          "histogram2d": [
           {
            "colorbar": {
             "outlinewidth": 0,
             "ticks": ""
            },
            "colorscale": [
             [
              0,
              "#0d0887"
             ],
             [
              0.1111111111111111,
              "#46039f"
             ],
             [
              0.2222222222222222,
              "#7201a8"
             ],
             [
              0.3333333333333333,
              "#9c179e"
             ],
             [
              0.4444444444444444,
              "#bd3786"
             ],
             [
              0.5555555555555556,
              "#d8576b"
             ],
             [
              0.6666666666666666,
              "#ed7953"
             ],
             [
              0.7777777777777778,
              "#fb9f3a"
             ],
             [
              0.8888888888888888,
              "#fdca26"
             ],
             [
              1,
              "#f0f921"
             ]
            ],
            "type": "histogram2d"
           }
          ],
          "histogram2dcontour": [
           {
            "colorbar": {
             "outlinewidth": 0,
             "ticks": ""
            },
            "colorscale": [
             [
              0,
              "#0d0887"
             ],
             [
              0.1111111111111111,
              "#46039f"
             ],
             [
              0.2222222222222222,
              "#7201a8"
             ],
             [
              0.3333333333333333,
              "#9c179e"
             ],
             [
              0.4444444444444444,
              "#bd3786"
             ],
             [
              0.5555555555555556,
              "#d8576b"
             ],
             [
              0.6666666666666666,
              "#ed7953"
             ],
             [
              0.7777777777777778,
              "#fb9f3a"
             ],
             [
              0.8888888888888888,
              "#fdca26"
             ],
             [
              1,
              "#f0f921"
             ]
            ],
            "type": "histogram2dcontour"
           }
          ],
          "mesh3d": [
           {
            "colorbar": {
             "outlinewidth": 0,
             "ticks": ""
            },
            "type": "mesh3d"
           }
          ],
          "parcoords": [
           {
            "line": {
             "colorbar": {
              "outlinewidth": 0,
              "ticks": ""
             }
            },
            "type": "parcoords"
           }
          ],
          "pie": [
           {
            "automargin": true,
            "type": "pie"
           }
          ],
          "scatter": [
           {
            "marker": {
             "colorbar": {
              "outlinewidth": 0,
              "ticks": ""
             }
            },
            "type": "scatter"
           }
          ],
          "scatter3d": [
           {
            "line": {
             "colorbar": {
              "outlinewidth": 0,
              "ticks": ""
             }
            },
            "marker": {
             "colorbar": {
              "outlinewidth": 0,
              "ticks": ""
             }
            },
            "type": "scatter3d"
           }
          ],
          "scattercarpet": [
           {
            "marker": {
             "colorbar": {
              "outlinewidth": 0,
              "ticks": ""
             }
            },
            "type": "scattercarpet"
           }
          ],
          "scattergeo": [
           {
            "marker": {
             "colorbar": {
              "outlinewidth": 0,
              "ticks": ""
             }
            },
            "type": "scattergeo"
           }
          ],
          "scattergl": [
           {
            "marker": {
             "colorbar": {
              "outlinewidth": 0,
              "ticks": ""
             }
            },
            "type": "scattergl"
           }
          ],
          "scattermapbox": [
           {
            "marker": {
             "colorbar": {
              "outlinewidth": 0,
              "ticks": ""
             }
            },
            "type": "scattermapbox"
           }
          ],
          "scatterpolar": [
           {
            "marker": {
             "colorbar": {
              "outlinewidth": 0,
              "ticks": ""
             }
            },
            "type": "scatterpolar"
           }
          ],
          "scatterpolargl": [
           {
            "marker": {
             "colorbar": {
              "outlinewidth": 0,
              "ticks": ""
             }
            },
            "type": "scatterpolargl"
           }
          ],
          "scatterternary": [
           {
            "marker": {
             "colorbar": {
              "outlinewidth": 0,
              "ticks": ""
             }
            },
            "type": "scatterternary"
           }
          ],
          "surface": [
           {
            "colorbar": {
             "outlinewidth": 0,
             "ticks": ""
            },
            "colorscale": [
             [
              0,
              "#0d0887"
             ],
             [
              0.1111111111111111,
              "#46039f"
             ],
             [
              0.2222222222222222,
              "#7201a8"
             ],
             [
              0.3333333333333333,
              "#9c179e"
             ],
             [
              0.4444444444444444,
              "#bd3786"
             ],
             [
              0.5555555555555556,
              "#d8576b"
             ],
             [
              0.6666666666666666,
              "#ed7953"
             ],
             [
              0.7777777777777778,
              "#fb9f3a"
             ],
             [
              0.8888888888888888,
              "#fdca26"
             ],
             [
              1,
              "#f0f921"
             ]
            ],
            "type": "surface"
           }
          ],
          "table": [
           {
            "cells": {
             "fill": {
              "color": "#EBF0F8"
             },
             "line": {
              "color": "white"
             }
            },
            "header": {
             "fill": {
              "color": "#C8D4E3"
             },
             "line": {
              "color": "white"
             }
            },
            "type": "table"
           }
          ]
         },
         "layout": {
          "annotationdefaults": {
           "arrowcolor": "#2a3f5f",
           "arrowhead": 0,
           "arrowwidth": 1
          },
          "autotypenumbers": "strict",
          "coloraxis": {
           "colorbar": {
            "outlinewidth": 0,
            "ticks": ""
           }
          },
          "colorscale": {
           "diverging": [
            [
             0,
             "#8e0152"
            ],
            [
             0.1,
             "#c51b7d"
            ],
            [
             0.2,
             "#de77ae"
            ],
            [
             0.3,
             "#f1b6da"
            ],
            [
             0.4,
             "#fde0ef"
            ],
            [
             0.5,
             "#f7f7f7"
            ],
            [
             0.6,
             "#e6f5d0"
            ],
            [
             0.7,
             "#b8e186"
            ],
            [
             0.8,
             "#7fbc41"
            ],
            [
             0.9,
             "#4d9221"
            ],
            [
             1,
             "#276419"
            ]
           ],
           "sequential": [
            [
             0,
             "#0d0887"
            ],
            [
             0.1111111111111111,
             "#46039f"
            ],
            [
             0.2222222222222222,
             "#7201a8"
            ],
            [
             0.3333333333333333,
             "#9c179e"
            ],
            [
             0.4444444444444444,
             "#bd3786"
            ],
            [
             0.5555555555555556,
             "#d8576b"
            ],
            [
             0.6666666666666666,
             "#ed7953"
            ],
            [
             0.7777777777777778,
             "#fb9f3a"
            ],
            [
             0.8888888888888888,
             "#fdca26"
            ],
            [
             1,
             "#f0f921"
            ]
           ],
           "sequentialminus": [
            [
             0,
             "#0d0887"
            ],
            [
             0.1111111111111111,
             "#46039f"
            ],
            [
             0.2222222222222222,
             "#7201a8"
            ],
            [
             0.3333333333333333,
             "#9c179e"
            ],
            [
             0.4444444444444444,
             "#bd3786"
            ],
            [
             0.5555555555555556,
             "#d8576b"
            ],
            [
             0.6666666666666666,
             "#ed7953"
            ],
            [
             0.7777777777777778,
             "#fb9f3a"
            ],
            [
             0.8888888888888888,
             "#fdca26"
            ],
            [
             1,
             "#f0f921"
            ]
           ]
          },
          "colorway": [
           "#636efa",
           "#EF553B",
           "#00cc96",
           "#ab63fa",
           "#FFA15A",
           "#19d3f3",
           "#FF6692",
           "#B6E880",
           "#FF97FF",
           "#FECB52"
          ],
          "font": {
           "color": "#2a3f5f"
          },
          "geo": {
           "bgcolor": "white",
           "lakecolor": "white",
           "landcolor": "#E5ECF6",
           "showlakes": true,
           "showland": true,
           "subunitcolor": "white"
          },
          "hoverlabel": {
           "align": "left"
          },
          "hovermode": "closest",
          "mapbox": {
           "style": "light"
          },
          "paper_bgcolor": "white",
          "plot_bgcolor": "#E5ECF6",
          "polar": {
           "angularaxis": {
            "gridcolor": "white",
            "linecolor": "white",
            "ticks": ""
           },
           "bgcolor": "#E5ECF6",
           "radialaxis": {
            "gridcolor": "white",
            "linecolor": "white",
            "ticks": ""
           }
          },
          "scene": {
           "xaxis": {
            "backgroundcolor": "#E5ECF6",
            "gridcolor": "white",
            "gridwidth": 2,
            "linecolor": "white",
            "showbackground": true,
            "ticks": "",
            "zerolinecolor": "white"
           },
           "yaxis": {
            "backgroundcolor": "#E5ECF6",
            "gridcolor": "white",
            "gridwidth": 2,
            "linecolor": "white",
            "showbackground": true,
            "ticks": "",
            "zerolinecolor": "white"
           },
           "zaxis": {
            "backgroundcolor": "#E5ECF6",
            "gridcolor": "white",
            "gridwidth": 2,
            "linecolor": "white",
            "showbackground": true,
            "ticks": "",
            "zerolinecolor": "white"
           }
          },
          "shapedefaults": {
           "line": {
            "color": "#2a3f5f"
           }
          },
          "ternary": {
           "aaxis": {
            "gridcolor": "white",
            "linecolor": "white",
            "ticks": ""
           },
           "baxis": {
            "gridcolor": "white",
            "linecolor": "white",
            "ticks": ""
           },
           "bgcolor": "#E5ECF6",
           "caxis": {
            "gridcolor": "white",
            "linecolor": "white",
            "ticks": ""
           }
          },
          "title": {
           "x": 0.05
          },
          "xaxis": {
           "automargin": true,
           "gridcolor": "white",
           "linecolor": "white",
           "ticks": "",
           "title": {
            "standoff": 15
           },
           "zerolinecolor": "white",
           "zerolinewidth": 2
          },
          "yaxis": {
           "automargin": true,
           "gridcolor": "white",
           "linecolor": "white",
           "ticks": "",
           "title": {
            "standoff": 15
           },
           "zerolinecolor": "white",
           "zerolinewidth": 2
          }
         }
        },
        "xaxis": {
         "anchor": "y",
         "domain": [
          0,
          1
         ],
         "title": {
          "text": "price"
         }
        },
        "yaxis": {
         "anchor": "x",
         "domain": [
          0,
          1
         ]
        }
       }
      },
      "text/html": [
       "<div>                            <div id=\"6d333a94-ff9c-4e2b-ae57-4cf9a6c6e994\" class=\"plotly-graph-div\" style=\"height:525px; width:100%;\"></div>            <script type=\"text/javascript\">                require([\"plotly\"], function(Plotly) {                    window.PLOTLYENV=window.PLOTLYENV || {};                                    if (document.getElementById(\"6d333a94-ff9c-4e2b-ae57-4cf9a6c6e994\")) {                    Plotly.newPlot(                        \"6d333a94-ff9c-4e2b-ae57-4cf9a6c6e994\",                        [{\"alignmentgroup\":\"True\",\"hovertemplate\":\"price=%{x}<extra></extra>\",\"legendgroup\":\"\",\"marker\":{\"color\":\"#636efa\"},\"name\":\"\",\"notched\":false,\"offsetgroup\":\"\",\"orientation\":\"h\",\"showlegend\":false,\"x\":[135000,375000,2700000,376500,349999,180000,99000,180000,399000,1695000,825000,979000,788000,7498000,2840000,645000,729888,4950000,898000,1839000,995000,5350000,3899888,1088000,3498000,1198000,2288888,1098000,9000000,3950000,849900,8488000,2698000,2700000,848800,349995,4750000,1488888,2488000,1748000,2199950,1900000,1798000,6895000,199999,2788000,1299888,1648000,1680000,849000,1288000,3688000,1083000,349888,319000,595000,2189000,6495000,1498000,2145000,469000,1748888,1699999,1050000,650000,599000,360000,1425000,1724990,1898000,1099950,799000,1075000,515700,439000,419500,1605000,875000,1750000,3100000,1488000,1249800,958000,425000,2390000,999800,895000,995000,3995000,849000,1399000,248000,625000,3200000,5195000,2349500,1099000,3995000,599000,1468000,950000,695000,419000,1600000,1375000,2195000,1295000,907000,3850000,1450000,1538000,1899000,274900,169000,180000,299900,3998000,738000,899000,995000,1988800,1049000,359000,428000,1495000,4375000,699999,950000,3579000,989888,1726888,1150000,491800,999000,1049000,1088000,4995000,730000,1795000,3499000,4988000,2148000,3988000,799000,845000,4299888,5995000,859950,699975,2988000,2498000,3295000,4795000,959000,339000,764000,1949000,1500000,575000,3999000,549000,4995000,4750000,1750000,810000,850000,1998000,441000,1160000,550000,2950000,1950000,876000,3300000,1698000,3825000,2498000,4485000,888888,849000,1799888,1495000,7598000,2238000,1285000,525000,6399000,800000,3500000,2500000,5880000,90000,939000,2698000,1225000,639000,948000,18950000,2450000,8750000,699000,1095000,2476000,3200000,3495000,299888,898800,750000,899000,5250000,599000,998000,829000,14995000,789000,1498000,520000,18999000,2798000,2200000,449000,245000,1650000,1500000,7499999,5995000,215000,878000,550000,855000,1295000,499000,995000,880000,1049000,1095000,499999,1195000,679000,960000,19500000,749000,2398000,1269000,2400000,3980000,1240000,1648000,2700000,1325000,925000,1350000,843000,1999999,2699000,3500000,2588000,2700000,680000,1979000,1278000,1250000,750000,1650000,932000,689500,2100000,4438888,4895000,14500000,4198000,4000000,789500,799000,749888,1310000,2500000,898000,850000,3575000,1375000,799000,6999000,699999,649895,7695000,2588000,5198000,1100000,11988000,775000,3488000,799000,739000,4330000,1328000,1095000,1050000,1088000,469000,12500000,1600000,1698989,2599999,939000,1198000,1899000,750000,899000,1100000,2688000,1750000,1499000,4078245,275000,22000000,1299000,1165000,2098000,799000,1688888,352000,2495000,2495000,128000,1788880,14999000,3650000,529900,2348000,998888,825000,1949000,1549000,1388000,1695000,775000,1395000,1399000,899950,995000,1358800,425000,4329995,975000,699888,1749000,817000,969999,1725000,5350000,2998000,7450000,1449990,1750000,2935000,3250000,795000,1200000,899000,3225000,549888,974888,750000,499000,572500,1199000,875000,699950,3150000,9475000,5250000,1849000,710000,14988000,2498888,3950000,959000,1750000,1498000,785000,1195000,1800000,5350000,2388000,2498000,699000,2795000,2398000,1599000,1049999,849000,1500000,1299888,899000,890500,699000,499000,1288880,2998000,989000,1398000,779000,7950000,1149000,1248000,1279900,818888,5950000,1285000,1988800,1885000,724999,2998000,1750000,1590000,1795000,1429999,615000,495000,1401275,1675000,595000,1575000,755000,688000,1170000,2005000,2200000,998000,1750000,685000,1595000,1998000,1798000,989000,629000,445000,299000,2695000,1399999,529888,2549000,673000,220000,2500000,675000,1069000,599000,1995000,1469990,3895000,1399950,1888000,930000,2195000,475000,1438000,2198000,939218,699000,465000,330000,615000,899000,639950,1499000,998000,1995000,1575000,2085000,1699888,1199000,2395950,1328000,689000,2148000,3988000,799000,2898000,738000,1399000,725000,589000,1188800,847000,599900,775000,900000,2788000,599000,1799888,900000,2995000,2650000,3750000,1950000,1380000,3978000,525000,500000,784900,1395000,649000,789000,569000,1699888,2698000,1680000,1800000,924888,1569000,947000,220000,699000,1325000,1550000,2398000,1395000,4850000,5388000,1525000,1450000,1199000,409000,1748000,125000000,1250000,525000,879000,1349000,1199000,1895000,2488000,8275000,12750000,325000,1498000,1999888,298800,2199888,879000,2998000,2700000,2298000,425000,899000,1190000,3988000,675000,1181995,2688000,1220000,545000,2099500,970000,1399000,1689999,3450000,3098000,2200000,888000,710000,2000000,849900,1150000,1298000,749000,2488000,3500000,2789000,695000,525000,1100000,2599800,1190000,1295000,1799000,1295933,829000,999000,1249000,1299999,1250000,999888,435000,1788000,1649900,538000,875000,1188000,475000,1598888,1998800,2250000,788000,1100000,1050000,699800,699000,1059000,725000,1798000,899000,479000,449000,1595000,2980000,1859000,1999000,1898000,1648000,899000,1998500,749950,649999,299000,450000,1048000,520000,520000,500000,575000,650000,520000,505000,3000000,2680000,3395000,775000,1498888,1599000,1234900,3629000,999888,1149000,3650000,998000,450000,1540000,2299900,950000,912000,569000,1729000,4999999,6200000,3200000,2550000,1899000,2249000,1550000,1850000,1389000,2249800,995000,1250000,739000,989000,3295000,1795000,1398000,885000,849000,1499000,450000,1450000,1878000,690000,1488888,1499500,1150000,4495000,2998000,1049000,550000,1688000,1499000,1299000,1649000,4888000,899000,1549950,1450000,2795000,1799000,1298000,1698000,1249000,279000,1195000,1578000,1795000,325000,825888,949000,1399000,1698000,1098000,995000,724950,1848000,629900,2700000,3999000,16800000,299000,420000,509000,4280000,795000,1198000,1998000,798850,1486888,780000,2695000,949000,448000,499000,535000,379000,820000,765000,850000,1679999,649000,3880000,2495000,750000,899900,1288000,599000,1588000,1199000,1880000,2198000,749000,25000,1190000,2888000,445000,429000,1250000,1299888,1995000,1100000,2695000,4948000,1700000,1419000,1799000,1290000,1375000,15000000,1750000,1029000,618888,429900,1490000,4999500,5588000,599000,549000,488880,749000,400000,1395000,445000,390000,1815000,545000,573200,965000,998000,2395000,999999,1550000,362000,1350000,1265000,2589000,2898000,1098000,1925000,1349000,6995000,3149000,838000,1989000,1498000,2100000,179000,65000,1750000,440000,1195000,3488000,6888000,1350000,2400000,799000,2550000,399950,999999,7598000,750000,1250000,1095000,2745000,1785000,1495000,675000,1629000,2800000,1165000,1649000,1998000,950000,1650000,4298000,5695000,1050000,1350000,749900,798000,1599888,689000,405000,3299950,10980000,1680000,1078000,3099903,549000,998000,1750000,1095000,3500000,898000,2398000,2499000,975000,999000,1489000,1100000,4999999,2498000,1300000,1450000,1398000,1299000,1309439,899000,798000,1498000,1988888,519888,48000000,1298000,2495000,1549000,1850000,849000,1898000,899000,1758000,5498000,1450000,1388300,1916742,1301880,1495000,1498000,2008888,2499000,1590000,2998000,6950000,1498000,718000,2998000,4495000,899000,850000,719990,6850000,1249900,2275000,350000,399000,105000,4500000,1195000,1350000,1279000],\"x0\":\" \",\"xaxis\":\"x\",\"y0\":\" \",\"yaxis\":\"y\",\"type\":\"box\"}],                        {\"template\":{\"data\":{\"bar\":[{\"error_x\":{\"color\":\"#2a3f5f\"},\"error_y\":{\"color\":\"#2a3f5f\"},\"marker\":{\"line\":{\"color\":\"#E5ECF6\",\"width\":0.5},\"pattern\":{\"fillmode\":\"overlay\",\"size\":10,\"solidity\":0.2}},\"type\":\"bar\"}],\"barpolar\":[{\"marker\":{\"line\":{\"color\":\"#E5ECF6\",\"width\":0.5},\"pattern\":{\"fillmode\":\"overlay\",\"size\":10,\"solidity\":0.2}},\"type\":\"barpolar\"}],\"carpet\":[{\"aaxis\":{\"endlinecolor\":\"#2a3f5f\",\"gridcolor\":\"white\",\"linecolor\":\"white\",\"minorgridcolor\":\"white\",\"startlinecolor\":\"#2a3f5f\"},\"baxis\":{\"endlinecolor\":\"#2a3f5f\",\"gridcolor\":\"white\",\"linecolor\":\"white\",\"minorgridcolor\":\"white\",\"startlinecolor\":\"#2a3f5f\"},\"type\":\"carpet\"}],\"choropleth\":[{\"colorbar\":{\"outlinewidth\":0,\"ticks\":\"\"},\"type\":\"choropleth\"}],\"contour\":[{\"colorbar\":{\"outlinewidth\":0,\"ticks\":\"\"},\"colorscale\":[[0.0,\"#0d0887\"],[0.1111111111111111,\"#46039f\"],[0.2222222222222222,\"#7201a8\"],[0.3333333333333333,\"#9c179e\"],[0.4444444444444444,\"#bd3786\"],[0.5555555555555556,\"#d8576b\"],[0.6666666666666666,\"#ed7953\"],[0.7777777777777778,\"#fb9f3a\"],[0.8888888888888888,\"#fdca26\"],[1.0,\"#f0f921\"]],\"type\":\"contour\"}],\"contourcarpet\":[{\"colorbar\":{\"outlinewidth\":0,\"ticks\":\"\"},\"type\":\"contourcarpet\"}],\"heatmap\":[{\"colorbar\":{\"outlinewidth\":0,\"ticks\":\"\"},\"colorscale\":[[0.0,\"#0d0887\"],[0.1111111111111111,\"#46039f\"],[0.2222222222222222,\"#7201a8\"],[0.3333333333333333,\"#9c179e\"],[0.4444444444444444,\"#bd3786\"],[0.5555555555555556,\"#d8576b\"],[0.6666666666666666,\"#ed7953\"],[0.7777777777777778,\"#fb9f3a\"],[0.8888888888888888,\"#fdca26\"],[1.0,\"#f0f921\"]],\"type\":\"heatmap\"}],\"heatmapgl\":[{\"colorbar\":{\"outlinewidth\":0,\"ticks\":\"\"},\"colorscale\":[[0.0,\"#0d0887\"],[0.1111111111111111,\"#46039f\"],[0.2222222222222222,\"#7201a8\"],[0.3333333333333333,\"#9c179e\"],[0.4444444444444444,\"#bd3786\"],[0.5555555555555556,\"#d8576b\"],[0.6666666666666666,\"#ed7953\"],[0.7777777777777778,\"#fb9f3a\"],[0.8888888888888888,\"#fdca26\"],[1.0,\"#f0f921\"]],\"type\":\"heatmapgl\"}],\"histogram\":[{\"marker\":{\"pattern\":{\"fillmode\":\"overlay\",\"size\":10,\"solidity\":0.2}},\"type\":\"histogram\"}],\"histogram2d\":[{\"colorbar\":{\"outlinewidth\":0,\"ticks\":\"\"},\"colorscale\":[[0.0,\"#0d0887\"],[0.1111111111111111,\"#46039f\"],[0.2222222222222222,\"#7201a8\"],[0.3333333333333333,\"#9c179e\"],[0.4444444444444444,\"#bd3786\"],[0.5555555555555556,\"#d8576b\"],[0.6666666666666666,\"#ed7953\"],[0.7777777777777778,\"#fb9f3a\"],[0.8888888888888888,\"#fdca26\"],[1.0,\"#f0f921\"]],\"type\":\"histogram2d\"}],\"histogram2dcontour\":[{\"colorbar\":{\"outlinewidth\":0,\"ticks\":\"\"},\"colorscale\":[[0.0,\"#0d0887\"],[0.1111111111111111,\"#46039f\"],[0.2222222222222222,\"#7201a8\"],[0.3333333333333333,\"#9c179e\"],[0.4444444444444444,\"#bd3786\"],[0.5555555555555556,\"#d8576b\"],[0.6666666666666666,\"#ed7953\"],[0.7777777777777778,\"#fb9f3a\"],[0.8888888888888888,\"#fdca26\"],[1.0,\"#f0f921\"]],\"type\":\"histogram2dcontour\"}],\"mesh3d\":[{\"colorbar\":{\"outlinewidth\":0,\"ticks\":\"\"},\"type\":\"mesh3d\"}],\"parcoords\":[{\"line\":{\"colorbar\":{\"outlinewidth\":0,\"ticks\":\"\"}},\"type\":\"parcoords\"}],\"pie\":[{\"automargin\":true,\"type\":\"pie\"}],\"scatter\":[{\"marker\":{\"colorbar\":{\"outlinewidth\":0,\"ticks\":\"\"}},\"type\":\"scatter\"}],\"scatter3d\":[{\"line\":{\"colorbar\":{\"outlinewidth\":0,\"ticks\":\"\"}},\"marker\":{\"colorbar\":{\"outlinewidth\":0,\"ticks\":\"\"}},\"type\":\"scatter3d\"}],\"scattercarpet\":[{\"marker\":{\"colorbar\":{\"outlinewidth\":0,\"ticks\":\"\"}},\"type\":\"scattercarpet\"}],\"scattergeo\":[{\"marker\":{\"colorbar\":{\"outlinewidth\":0,\"ticks\":\"\"}},\"type\":\"scattergeo\"}],\"scattergl\":[{\"marker\":{\"colorbar\":{\"outlinewidth\":0,\"ticks\":\"\"}},\"type\":\"scattergl\"}],\"scattermapbox\":[{\"marker\":{\"colorbar\":{\"outlinewidth\":0,\"ticks\":\"\"}},\"type\":\"scattermapbox\"}],\"scatterpolar\":[{\"marker\":{\"colorbar\":{\"outlinewidth\":0,\"ticks\":\"\"}},\"type\":\"scatterpolar\"}],\"scatterpolargl\":[{\"marker\":{\"colorbar\":{\"outlinewidth\":0,\"ticks\":\"\"}},\"type\":\"scatterpolargl\"}],\"scatterternary\":[{\"marker\":{\"colorbar\":{\"outlinewidth\":0,\"ticks\":\"\"}},\"type\":\"scatterternary\"}],\"surface\":[{\"colorbar\":{\"outlinewidth\":0,\"ticks\":\"\"},\"colorscale\":[[0.0,\"#0d0887\"],[0.1111111111111111,\"#46039f\"],[0.2222222222222222,\"#7201a8\"],[0.3333333333333333,\"#9c179e\"],[0.4444444444444444,\"#bd3786\"],[0.5555555555555556,\"#d8576b\"],[0.6666666666666666,\"#ed7953\"],[0.7777777777777778,\"#fb9f3a\"],[0.8888888888888888,\"#fdca26\"],[1.0,\"#f0f921\"]],\"type\":\"surface\"}],\"table\":[{\"cells\":{\"fill\":{\"color\":\"#EBF0F8\"},\"line\":{\"color\":\"white\"}},\"header\":{\"fill\":{\"color\":\"#C8D4E3\"},\"line\":{\"color\":\"white\"}},\"type\":\"table\"}]},\"layout\":{\"annotationdefaults\":{\"arrowcolor\":\"#2a3f5f\",\"arrowhead\":0,\"arrowwidth\":1},\"autotypenumbers\":\"strict\",\"coloraxis\":{\"colorbar\":{\"outlinewidth\":0,\"ticks\":\"\"}},\"colorscale\":{\"diverging\":[[0,\"#8e0152\"],[0.1,\"#c51b7d\"],[0.2,\"#de77ae\"],[0.3,\"#f1b6da\"],[0.4,\"#fde0ef\"],[0.5,\"#f7f7f7\"],[0.6,\"#e6f5d0\"],[0.7,\"#b8e186\"],[0.8,\"#7fbc41\"],[0.9,\"#4d9221\"],[1,\"#276419\"]],\"sequential\":[[0.0,\"#0d0887\"],[0.1111111111111111,\"#46039f\"],[0.2222222222222222,\"#7201a8\"],[0.3333333333333333,\"#9c179e\"],[0.4444444444444444,\"#bd3786\"],[0.5555555555555556,\"#d8576b\"],[0.6666666666666666,\"#ed7953\"],[0.7777777777777778,\"#fb9f3a\"],[0.8888888888888888,\"#fdca26\"],[1.0,\"#f0f921\"]],\"sequentialminus\":[[0.0,\"#0d0887\"],[0.1111111111111111,\"#46039f\"],[0.2222222222222222,\"#7201a8\"],[0.3333333333333333,\"#9c179e\"],[0.4444444444444444,\"#bd3786\"],[0.5555555555555556,\"#d8576b\"],[0.6666666666666666,\"#ed7953\"],[0.7777777777777778,\"#fb9f3a\"],[0.8888888888888888,\"#fdca26\"],[1.0,\"#f0f921\"]]},\"colorway\":[\"#636efa\",\"#EF553B\",\"#00cc96\",\"#ab63fa\",\"#FFA15A\",\"#19d3f3\",\"#FF6692\",\"#B6E880\",\"#FF97FF\",\"#FECB52\"],\"font\":{\"color\":\"#2a3f5f\"},\"geo\":{\"bgcolor\":\"white\",\"lakecolor\":\"white\",\"landcolor\":\"#E5ECF6\",\"showlakes\":true,\"showland\":true,\"subunitcolor\":\"white\"},\"hoverlabel\":{\"align\":\"left\"},\"hovermode\":\"closest\",\"mapbox\":{\"style\":\"light\"},\"paper_bgcolor\":\"white\",\"plot_bgcolor\":\"#E5ECF6\",\"polar\":{\"angularaxis\":{\"gridcolor\":\"white\",\"linecolor\":\"white\",\"ticks\":\"\"},\"bgcolor\":\"#E5ECF6\",\"radialaxis\":{\"gridcolor\":\"white\",\"linecolor\":\"white\",\"ticks\":\"\"}},\"scene\":{\"xaxis\":{\"backgroundcolor\":\"#E5ECF6\",\"gridcolor\":\"white\",\"gridwidth\":2,\"linecolor\":\"white\",\"showbackground\":true,\"ticks\":\"\",\"zerolinecolor\":\"white\"},\"yaxis\":{\"backgroundcolor\":\"#E5ECF6\",\"gridcolor\":\"white\",\"gridwidth\":2,\"linecolor\":\"white\",\"showbackground\":true,\"ticks\":\"\",\"zerolinecolor\":\"white\"},\"zaxis\":{\"backgroundcolor\":\"#E5ECF6\",\"gridcolor\":\"white\",\"gridwidth\":2,\"linecolor\":\"white\",\"showbackground\":true,\"ticks\":\"\",\"zerolinecolor\":\"white\"}},\"shapedefaults\":{\"line\":{\"color\":\"#2a3f5f\"}},\"ternary\":{\"aaxis\":{\"gridcolor\":\"white\",\"linecolor\":\"white\",\"ticks\":\"\"},\"baxis\":{\"gridcolor\":\"white\",\"linecolor\":\"white\",\"ticks\":\"\"},\"bgcolor\":\"#E5ECF6\",\"caxis\":{\"gridcolor\":\"white\",\"linecolor\":\"white\",\"ticks\":\"\"}},\"title\":{\"x\":0.05},\"xaxis\":{\"automargin\":true,\"gridcolor\":\"white\",\"linecolor\":\"white\",\"ticks\":\"\",\"title\":{\"standoff\":15},\"zerolinecolor\":\"white\",\"zerolinewidth\":2},\"yaxis\":{\"automargin\":true,\"gridcolor\":\"white\",\"linecolor\":\"white\",\"ticks\":\"\",\"title\":{\"standoff\":15},\"zerolinecolor\":\"white\",\"zerolinewidth\":2}}},\"xaxis\":{\"anchor\":\"y\",\"domain\":[0.0,1.0],\"title\":{\"text\":\"price\"}},\"yaxis\":{\"anchor\":\"x\",\"domain\":[0.0,1.0]},\"legend\":{\"tracegroupgap\":0},\"margin\":{\"t\":60},\"boxmode\":\"group\"},                        {\"responsive\": true}                    ).then(function(){\n",
       "                            \n",
       "var gd = document.getElementById('6d333a94-ff9c-4e2b-ae57-4cf9a6c6e994');\n",
       "var x = new MutationObserver(function (mutations, observer) {{\n",
       "        var display = window.getComputedStyle(gd).display;\n",
       "        if (!display || display === 'none') {{\n",
       "            console.log([gd, 'removed!']);\n",
       "            Plotly.purge(gd);\n",
       "            observer.disconnect();\n",
       "        }}\n",
       "}});\n",
       "\n",
       "// Listen for the removal of the full notebook cells\n",
       "var notebookContainer = gd.closest('#notebook-container');\n",
       "if (notebookContainer) {{\n",
       "    x.observe(notebookContainer, {childList: true});\n",
       "}}\n",
       "\n",
       "// Listen for the clearing of the current output cell\n",
       "var outputEl = gd.closest('.output');\n",
       "if (outputEl) {{\n",
       "    x.observe(outputEl, {childList: true});\n",
       "}}\n",
       "\n",
       "                        })                };                });            </script>        </div>"
      ]
     },
     "metadata": {},
     "output_type": "display_data"
    }
   ],
   "source": [
    "import plotly.express as px\n",
    "\n",
    "fig = px.box(df, x=df['price'])\n",
    "fig.show()\n"
   ]
  },
  {
   "cell_type": "code",
   "execution_count": 129,
   "id": "5af4aa67",
   "metadata": {},
   "outputs": [],
   "source": [
    "import numpy as np\n"
   ]
  },
  {
   "cell_type": "code",
   "execution_count": 130,
   "id": "0b3cad45",
   "metadata": {},
   "outputs": [
    {
     "data": {
      "application/vnd.plotly.v1+json": {
       "config": {
        "plotlyServerURL": "https://plot.ly"
       },
       "data": [
        {
         "alignmentgroup": "True",
         "hovertemplate": "price=%{x}<extra></extra>",
         "legendgroup": "",
         "marker": {
          "color": "#636efa"
         },
         "name": "",
         "notched": false,
         "offsetgroup": "",
         "orientation": "h",
         "showlegend": false,
         "type": "box",
         "x": [
          135000,
          375000,
          2700000,
          376500,
          349999,
          180000,
          99000,
          180000,
          399000,
          1695000,
          825000,
          979000,
          788000,
          7498000,
          2840000,
          645000,
          729888,
          4950000,
          898000,
          1839000,
          995000,
          5350000,
          3899888,
          1088000,
          3498000,
          1198000,
          2288888,
          1098000,
          9000000,
          3950000,
          849900,
          8488000,
          2698000,
          2700000,
          848800,
          349995,
          4750000,
          1488888,
          2488000,
          1748000,
          2199950,
          1900000,
          1798000,
          6895000,
          199999,
          2788000,
          1299888,
          1648000,
          1680000,
          849000,
          1288000,
          3688000,
          1083000,
          349888,
          319000,
          595000,
          2189000,
          6495000,
          1498000,
          2145000,
          469000,
          1748888,
          1699999,
          1050000,
          650000,
          599000,
          360000,
          1425000,
          1724990,
          1898000,
          1099950,
          799000,
          1075000,
          515700,
          439000,
          419500,
          1605000,
          875000,
          1750000,
          3100000,
          1488000,
          1249800,
          958000,
          425000,
          2390000,
          999800,
          895000,
          995000,
          3995000,
          849000,
          1399000,
          248000,
          625000,
          3200000,
          5195000,
          2349500,
          1099000,
          3995000,
          599000,
          1468000,
          950000,
          695000,
          419000,
          1600000,
          1375000,
          2195000,
          1295000,
          907000,
          3850000,
          1450000,
          1538000,
          1899000,
          274900,
          169000,
          180000,
          299900,
          3998000,
          738000,
          899000,
          995000,
          1988800,
          1049000,
          359000,
          428000,
          1495000,
          4375000,
          699999,
          950000,
          3579000,
          989888,
          1726888,
          1150000,
          491800,
          999000,
          1049000,
          1088000,
          4995000,
          730000,
          1795000,
          3499000,
          4988000,
          2148000,
          3988000,
          799000,
          845000,
          4299888,
          5995000,
          859950,
          699975,
          2988000,
          2498000,
          3295000,
          4795000,
          959000,
          339000,
          764000,
          1949000,
          1500000,
          575000,
          3999000,
          549000,
          4995000,
          4750000,
          1750000,
          810000,
          850000,
          1998000,
          441000,
          1160000,
          550000,
          2950000,
          1950000,
          876000,
          3300000,
          1698000,
          3825000,
          2498000,
          4485000,
          888888,
          849000,
          1799888,
          1495000,
          7598000,
          2238000,
          1285000,
          525000,
          6399000,
          800000,
          3500000,
          2500000,
          5880000,
          90000,
          939000,
          2698000,
          1225000,
          639000,
          948000,
          2450000,
          8750000,
          699000,
          1095000,
          2476000,
          3200000,
          3495000,
          299888,
          898800,
          750000,
          899000,
          5250000,
          599000,
          998000,
          829000,
          789000,
          1498000,
          520000,
          2798000,
          2200000,
          449000,
          245000,
          1650000,
          1500000,
          7499999,
          5995000,
          215000,
          878000,
          550000,
          855000,
          1295000,
          499000,
          995000,
          880000,
          1049000,
          1095000,
          499999,
          1195000,
          679000,
          960000,
          749000,
          2398000,
          1269000,
          2400000,
          3980000,
          1240000,
          1648000,
          2700000,
          1325000,
          925000,
          1350000,
          843000,
          1999999,
          2699000,
          3500000,
          2588000,
          2700000,
          680000,
          1979000,
          1278000,
          1250000,
          750000,
          1650000,
          932000,
          689500,
          2100000,
          4438888,
          4895000,
          4198000,
          4000000,
          789500,
          799000,
          749888,
          1310000,
          2500000,
          898000,
          850000,
          3575000,
          1375000,
          799000,
          6999000,
          699999,
          649895,
          7695000,
          2588000,
          5198000,
          1100000,
          11988000,
          775000,
          3488000,
          799000,
          739000,
          4330000,
          1328000,
          1095000,
          1050000,
          1088000,
          469000,
          1600000,
          1698989,
          2599999,
          939000,
          1198000,
          1899000,
          750000,
          899000,
          1100000,
          2688000,
          1750000,
          1499000,
          4078245,
          275000,
          1299000,
          1165000,
          2098000,
          799000,
          1688888,
          352000,
          2495000,
          2495000,
          128000,
          1788880,
          3650000,
          529900,
          2348000,
          998888,
          825000,
          1949000,
          1549000,
          1388000,
          1695000,
          775000,
          1395000,
          1399000,
          899950,
          995000,
          1358800,
          425000,
          4329995,
          975000,
          699888,
          1749000,
          817000,
          969999,
          1725000,
          5350000,
          2998000,
          7450000,
          1449990,
          1750000,
          2935000,
          3250000,
          795000,
          1200000,
          899000,
          3225000,
          549888,
          974888,
          750000,
          499000,
          572500,
          1199000,
          875000,
          699950,
          3150000,
          9475000,
          5250000,
          1849000,
          710000,
          2498888,
          3950000,
          959000,
          1750000,
          1498000,
          785000,
          1195000,
          1800000,
          5350000,
          2388000,
          2498000,
          699000,
          2795000,
          2398000,
          1599000,
          1049999,
          849000,
          1500000,
          1299888,
          899000,
          890500,
          699000,
          499000,
          1288880,
          2998000,
          989000,
          1398000,
          779000,
          7950000,
          1149000,
          1248000,
          1279900,
          818888,
          5950000,
          1285000,
          1988800,
          1885000,
          724999,
          2998000,
          1750000,
          1590000,
          1795000,
          1429999,
          615000,
          495000,
          1401275,
          1675000,
          595000,
          1575000,
          755000,
          688000,
          1170000,
          2005000,
          2200000,
          998000,
          1750000,
          685000,
          1595000,
          1998000,
          1798000,
          989000,
          629000,
          445000,
          299000,
          2695000,
          1399999,
          529888,
          2549000,
          673000,
          220000,
          2500000,
          675000,
          1069000,
          599000,
          1995000,
          1469990,
          3895000,
          1399950,
          1888000,
          930000,
          2195000,
          475000,
          1438000,
          2198000,
          939218,
          699000,
          465000,
          330000,
          615000,
          899000,
          639950,
          1499000,
          998000,
          1995000,
          1575000,
          2085000,
          1699888,
          1199000,
          2395950,
          1328000,
          689000,
          2148000,
          3988000,
          799000,
          2898000,
          738000,
          1399000,
          725000,
          589000,
          1188800,
          847000,
          599900,
          775000,
          900000,
          2788000,
          599000,
          1799888,
          900000,
          2995000,
          2650000,
          3750000,
          1950000,
          1380000,
          3978000,
          525000,
          500000,
          784900,
          1395000,
          649000,
          789000,
          569000,
          1699888,
          2698000,
          1680000,
          1800000,
          924888,
          1569000,
          947000,
          220000,
          699000,
          1325000,
          1550000,
          2398000,
          1395000,
          4850000,
          5388000,
          1525000,
          1450000,
          1199000,
          409000,
          1748000,
          1250000,
          525000,
          879000,
          1349000,
          1199000,
          1895000,
          2488000,
          8275000,
          325000,
          1498000,
          1999888,
          298800,
          2199888,
          879000,
          2998000,
          2700000,
          2298000,
          425000,
          899000,
          1190000,
          3988000,
          675000,
          1181995,
          2688000,
          1220000,
          545000,
          2099500,
          970000,
          1399000,
          1689999,
          3450000,
          3098000,
          2200000,
          888000,
          710000,
          2000000,
          849900,
          1150000,
          1298000,
          749000,
          2488000,
          3500000,
          2789000,
          695000,
          525000,
          1100000,
          2599800,
          1190000,
          1295000,
          1799000,
          1295933,
          829000,
          999000,
          1249000,
          1299999,
          1250000,
          999888,
          435000,
          1788000,
          1649900,
          538000,
          875000,
          1188000,
          475000,
          1598888,
          1998800,
          2250000,
          788000,
          1100000,
          1050000,
          699800,
          699000,
          1059000,
          725000,
          1798000,
          899000,
          479000,
          449000,
          1595000,
          2980000,
          1859000,
          1999000,
          1898000,
          1648000,
          899000,
          1998500,
          749950,
          649999,
          299000,
          450000,
          1048000,
          520000,
          520000,
          500000,
          575000,
          650000,
          520000,
          505000,
          3000000,
          2680000,
          3395000,
          775000,
          1498888,
          1599000,
          1234900,
          3629000,
          999888,
          1149000,
          3650000,
          998000,
          450000,
          1540000,
          2299900,
          950000,
          912000,
          569000,
          1729000,
          4999999,
          6200000,
          3200000,
          2550000,
          1899000,
          2249000,
          1550000,
          1850000,
          1389000,
          2249800,
          995000,
          1250000,
          739000,
          989000,
          3295000,
          1795000,
          1398000,
          885000,
          849000,
          1499000,
          450000,
          1450000,
          1878000,
          690000,
          1488888,
          1499500,
          1150000,
          4495000,
          2998000,
          1049000,
          550000,
          1688000,
          1499000,
          1299000,
          1649000,
          4888000,
          899000,
          1549950,
          1450000,
          2795000,
          1799000,
          1298000,
          1698000,
          1249000,
          279000,
          1195000,
          1578000,
          1795000,
          325000,
          825888,
          949000,
          1399000,
          1698000,
          1098000,
          995000,
          724950,
          1848000,
          629900,
          2700000,
          3999000,
          299000,
          420000,
          509000,
          4280000,
          795000,
          1198000,
          1998000,
          798850,
          1486888,
          780000,
          2695000,
          949000,
          448000,
          499000,
          535000,
          379000,
          820000,
          765000,
          850000,
          1679999,
          649000,
          3880000,
          2495000,
          750000,
          899900,
          1288000,
          599000,
          1588000,
          1199000,
          1880000,
          2198000,
          749000,
          25000,
          1190000,
          2888000,
          445000,
          429000,
          1250000,
          1299888,
          1995000,
          1100000,
          2695000,
          4948000,
          1700000,
          1419000,
          1799000,
          1290000,
          1375000,
          1750000,
          1029000,
          618888,
          429900,
          1490000,
          4999500,
          5588000,
          599000,
          549000,
          488880,
          749000,
          400000,
          1395000,
          445000,
          390000,
          1815000,
          545000,
          573200,
          965000,
          998000,
          2395000,
          999999,
          1550000,
          362000,
          1350000,
          1265000,
          2589000,
          2898000,
          1098000,
          1925000,
          1349000,
          6995000,
          3149000,
          838000,
          1989000,
          1498000,
          2100000,
          179000,
          65000,
          1750000,
          440000,
          1195000,
          3488000,
          6888000,
          1350000,
          2400000,
          799000,
          2550000,
          399950,
          999999,
          7598000,
          750000,
          1250000,
          1095000,
          2745000,
          1785000,
          1495000,
          675000,
          1629000,
          2800000,
          1165000,
          1649000,
          1998000,
          950000,
          1650000,
          4298000,
          5695000,
          1050000,
          1350000,
          749900,
          798000,
          1599888,
          689000,
          405000,
          3299950,
          10980000,
          1680000,
          1078000,
          3099903,
          549000,
          998000,
          1750000,
          1095000,
          3500000,
          898000,
          2398000,
          2499000,
          975000,
          999000,
          1489000,
          1100000,
          4999999,
          2498000,
          1300000,
          1450000,
          1398000,
          1299000,
          1309439,
          899000,
          798000,
          1498000,
          1988888,
          519888,
          1298000,
          2495000,
          1549000,
          1850000,
          849000,
          1898000,
          899000,
          1758000,
          5498000,
          1450000,
          1388300,
          1916742,
          1301880,
          1495000,
          1498000,
          2008888,
          2499000,
          1590000,
          2998000,
          6950000,
          1498000,
          718000,
          2998000,
          4495000,
          899000,
          850000,
          719990,
          6850000,
          1249900,
          2275000,
          350000,
          399000,
          105000,
          4500000,
          1195000,
          1350000,
          1279000
         ],
         "x0": " ",
         "xaxis": "x",
         "y0": " ",
         "yaxis": "y"
        }
       ],
       "layout": {
        "boxmode": "group",
        "legend": {
         "tracegroupgap": 0
        },
        "margin": {
         "t": 60
        },
        "template": {
         "data": {
          "bar": [
           {
            "error_x": {
             "color": "#2a3f5f"
            },
            "error_y": {
             "color": "#2a3f5f"
            },
            "marker": {
             "line": {
              "color": "#E5ECF6",
              "width": 0.5
             },
             "pattern": {
              "fillmode": "overlay",
              "size": 10,
              "solidity": 0.2
             }
            },
            "type": "bar"
           }
          ],
          "barpolar": [
           {
            "marker": {
             "line": {
              "color": "#E5ECF6",
              "width": 0.5
             },
             "pattern": {
              "fillmode": "overlay",
              "size": 10,
              "solidity": 0.2
             }
            },
            "type": "barpolar"
           }
          ],
          "carpet": [
           {
            "aaxis": {
             "endlinecolor": "#2a3f5f",
             "gridcolor": "white",
             "linecolor": "white",
             "minorgridcolor": "white",
             "startlinecolor": "#2a3f5f"
            },
            "baxis": {
             "endlinecolor": "#2a3f5f",
             "gridcolor": "white",
             "linecolor": "white",
             "minorgridcolor": "white",
             "startlinecolor": "#2a3f5f"
            },
            "type": "carpet"
           }
          ],
          "choropleth": [
           {
            "colorbar": {
             "outlinewidth": 0,
             "ticks": ""
            },
            "type": "choropleth"
           }
          ],
          "contour": [
           {
            "colorbar": {
             "outlinewidth": 0,
             "ticks": ""
            },
            "colorscale": [
             [
              0,
              "#0d0887"
             ],
             [
              0.1111111111111111,
              "#46039f"
             ],
             [
              0.2222222222222222,
              "#7201a8"
             ],
             [
              0.3333333333333333,
              "#9c179e"
             ],
             [
              0.4444444444444444,
              "#bd3786"
             ],
             [
              0.5555555555555556,
              "#d8576b"
             ],
             [
              0.6666666666666666,
              "#ed7953"
             ],
             [
              0.7777777777777778,
              "#fb9f3a"
             ],
             [
              0.8888888888888888,
              "#fdca26"
             ],
             [
              1,
              "#f0f921"
             ]
            ],
            "type": "contour"
           }
          ],
          "contourcarpet": [
           {
            "colorbar": {
             "outlinewidth": 0,
             "ticks": ""
            },
            "type": "contourcarpet"
           }
          ],
          "heatmap": [
           {
            "colorbar": {
             "outlinewidth": 0,
             "ticks": ""
            },
            "colorscale": [
             [
              0,
              "#0d0887"
             ],
             [
              0.1111111111111111,
              "#46039f"
             ],
             [
              0.2222222222222222,
              "#7201a8"
             ],
             [
              0.3333333333333333,
              "#9c179e"
             ],
             [
              0.4444444444444444,
              "#bd3786"
             ],
             [
              0.5555555555555556,
              "#d8576b"
             ],
             [
              0.6666666666666666,
              "#ed7953"
             ],
             [
              0.7777777777777778,
              "#fb9f3a"
             ],
             [
              0.8888888888888888,
              "#fdca26"
             ],
             [
              1,
              "#f0f921"
             ]
            ],
            "type": "heatmap"
           }
          ],
          "heatmapgl": [
           {
            "colorbar": {
             "outlinewidth": 0,
             "ticks": ""
            },
            "colorscale": [
             [
              0,
              "#0d0887"
             ],
             [
              0.1111111111111111,
              "#46039f"
             ],
             [
              0.2222222222222222,
              "#7201a8"
             ],
             [
              0.3333333333333333,
              "#9c179e"
             ],
             [
              0.4444444444444444,
              "#bd3786"
             ],
             [
              0.5555555555555556,
              "#d8576b"
             ],
             [
              0.6666666666666666,
              "#ed7953"
             ],
             [
              0.7777777777777778,
              "#fb9f3a"
             ],
             [
              0.8888888888888888,
              "#fdca26"
             ],
             [
              1,
              "#f0f921"
             ]
            ],
            "type": "heatmapgl"
           }
          ],
          "histogram": [
           {
            "marker": {
             "pattern": {
              "fillmode": "overlay",
              "size": 10,
              "solidity": 0.2
             }
            },
            "type": "histogram"
           }
          ],
          "histogram2d": [
           {
            "colorbar": {
             "outlinewidth": 0,
             "ticks": ""
            },
            "colorscale": [
             [
              0,
              "#0d0887"
             ],
             [
              0.1111111111111111,
              "#46039f"
             ],
             [
              0.2222222222222222,
              "#7201a8"
             ],
             [
              0.3333333333333333,
              "#9c179e"
             ],
             [
              0.4444444444444444,
              "#bd3786"
             ],
             [
              0.5555555555555556,
              "#d8576b"
             ],
             [
              0.6666666666666666,
              "#ed7953"
             ],
             [
              0.7777777777777778,
              "#fb9f3a"
             ],
             [
              0.8888888888888888,
              "#fdca26"
             ],
             [
              1,
              "#f0f921"
             ]
            ],
            "type": "histogram2d"
           }
          ],
          "histogram2dcontour": [
           {
            "colorbar": {
             "outlinewidth": 0,
             "ticks": ""
            },
            "colorscale": [
             [
              0,
              "#0d0887"
             ],
             [
              0.1111111111111111,
              "#46039f"
             ],
             [
              0.2222222222222222,
              "#7201a8"
             ],
             [
              0.3333333333333333,
              "#9c179e"
             ],
             [
              0.4444444444444444,
              "#bd3786"
             ],
             [
              0.5555555555555556,
              "#d8576b"
             ],
             [
              0.6666666666666666,
              "#ed7953"
             ],
             [
              0.7777777777777778,
              "#fb9f3a"
             ],
             [
              0.8888888888888888,
              "#fdca26"
             ],
             [
              1,
              "#f0f921"
             ]
            ],
            "type": "histogram2dcontour"
           }
          ],
          "mesh3d": [
           {
            "colorbar": {
             "outlinewidth": 0,
             "ticks": ""
            },
            "type": "mesh3d"
           }
          ],
          "parcoords": [
           {
            "line": {
             "colorbar": {
              "outlinewidth": 0,
              "ticks": ""
             }
            },
            "type": "parcoords"
           }
          ],
          "pie": [
           {
            "automargin": true,
            "type": "pie"
           }
          ],
          "scatter": [
           {
            "marker": {
             "colorbar": {
              "outlinewidth": 0,
              "ticks": ""
             }
            },
            "type": "scatter"
           }
          ],
          "scatter3d": [
           {
            "line": {
             "colorbar": {
              "outlinewidth": 0,
              "ticks": ""
             }
            },
            "marker": {
             "colorbar": {
              "outlinewidth": 0,
              "ticks": ""
             }
            },
            "type": "scatter3d"
           }
          ],
          "scattercarpet": [
           {
            "marker": {
             "colorbar": {
              "outlinewidth": 0,
              "ticks": ""
             }
            },
            "type": "scattercarpet"
           }
          ],
          "scattergeo": [
           {
            "marker": {
             "colorbar": {
              "outlinewidth": 0,
              "ticks": ""
             }
            },
            "type": "scattergeo"
           }
          ],
          "scattergl": [
           {
            "marker": {
             "colorbar": {
              "outlinewidth": 0,
              "ticks": ""
             }
            },
            "type": "scattergl"
           }
          ],
          "scattermapbox": [
           {
            "marker": {
             "colorbar": {
              "outlinewidth": 0,
              "ticks": ""
             }
            },
            "type": "scattermapbox"
           }
          ],
          "scatterpolar": [
           {
            "marker": {
             "colorbar": {
              "outlinewidth": 0,
              "ticks": ""
             }
            },
            "type": "scatterpolar"
           }
          ],
          "scatterpolargl": [
           {
            "marker": {
             "colorbar": {
              "outlinewidth": 0,
              "ticks": ""
             }
            },
            "type": "scatterpolargl"
           }
          ],
          "scatterternary": [
           {
            "marker": {
             "colorbar": {
              "outlinewidth": 0,
              "ticks": ""
             }
            },
            "type": "scatterternary"
           }
          ],
          "surface": [
           {
            "colorbar": {
             "outlinewidth": 0,
             "ticks": ""
            },
            "colorscale": [
             [
              0,
              "#0d0887"
             ],
             [
              0.1111111111111111,
              "#46039f"
             ],
             [
              0.2222222222222222,
              "#7201a8"
             ],
             [
              0.3333333333333333,
              "#9c179e"
             ],
             [
              0.4444444444444444,
              "#bd3786"
             ],
             [
              0.5555555555555556,
              "#d8576b"
             ],
             [
              0.6666666666666666,
              "#ed7953"
             ],
             [
              0.7777777777777778,
              "#fb9f3a"
             ],
             [
              0.8888888888888888,
              "#fdca26"
             ],
             [
              1,
              "#f0f921"
             ]
            ],
            "type": "surface"
           }
          ],
          "table": [
           {
            "cells": {
             "fill": {
              "color": "#EBF0F8"
             },
             "line": {
              "color": "white"
             }
            },
            "header": {
             "fill": {
              "color": "#C8D4E3"
             },
             "line": {
              "color": "white"
             }
            },
            "type": "table"
           }
          ]
         },
         "layout": {
          "annotationdefaults": {
           "arrowcolor": "#2a3f5f",
           "arrowhead": 0,
           "arrowwidth": 1
          },
          "autotypenumbers": "strict",
          "coloraxis": {
           "colorbar": {
            "outlinewidth": 0,
            "ticks": ""
           }
          },
          "colorscale": {
           "diverging": [
            [
             0,
             "#8e0152"
            ],
            [
             0.1,
             "#c51b7d"
            ],
            [
             0.2,
             "#de77ae"
            ],
            [
             0.3,
             "#f1b6da"
            ],
            [
             0.4,
             "#fde0ef"
            ],
            [
             0.5,
             "#f7f7f7"
            ],
            [
             0.6,
             "#e6f5d0"
            ],
            [
             0.7,
             "#b8e186"
            ],
            [
             0.8,
             "#7fbc41"
            ],
            [
             0.9,
             "#4d9221"
            ],
            [
             1,
             "#276419"
            ]
           ],
           "sequential": [
            [
             0,
             "#0d0887"
            ],
            [
             0.1111111111111111,
             "#46039f"
            ],
            [
             0.2222222222222222,
             "#7201a8"
            ],
            [
             0.3333333333333333,
             "#9c179e"
            ],
            [
             0.4444444444444444,
             "#bd3786"
            ],
            [
             0.5555555555555556,
             "#d8576b"
            ],
            [
             0.6666666666666666,
             "#ed7953"
            ],
            [
             0.7777777777777778,
             "#fb9f3a"
            ],
            [
             0.8888888888888888,
             "#fdca26"
            ],
            [
             1,
             "#f0f921"
            ]
           ],
           "sequentialminus": [
            [
             0,
             "#0d0887"
            ],
            [
             0.1111111111111111,
             "#46039f"
            ],
            [
             0.2222222222222222,
             "#7201a8"
            ],
            [
             0.3333333333333333,
             "#9c179e"
            ],
            [
             0.4444444444444444,
             "#bd3786"
            ],
            [
             0.5555555555555556,
             "#d8576b"
            ],
            [
             0.6666666666666666,
             "#ed7953"
            ],
            [
             0.7777777777777778,
             "#fb9f3a"
            ],
            [
             0.8888888888888888,
             "#fdca26"
            ],
            [
             1,
             "#f0f921"
            ]
           ]
          },
          "colorway": [
           "#636efa",
           "#EF553B",
           "#00cc96",
           "#ab63fa",
           "#FFA15A",
           "#19d3f3",
           "#FF6692",
           "#B6E880",
           "#FF97FF",
           "#FECB52"
          ],
          "font": {
           "color": "#2a3f5f"
          },
          "geo": {
           "bgcolor": "white",
           "lakecolor": "white",
           "landcolor": "#E5ECF6",
           "showlakes": true,
           "showland": true,
           "subunitcolor": "white"
          },
          "hoverlabel": {
           "align": "left"
          },
          "hovermode": "closest",
          "mapbox": {
           "style": "light"
          },
          "paper_bgcolor": "white",
          "plot_bgcolor": "#E5ECF6",
          "polar": {
           "angularaxis": {
            "gridcolor": "white",
            "linecolor": "white",
            "ticks": ""
           },
           "bgcolor": "#E5ECF6",
           "radialaxis": {
            "gridcolor": "white",
            "linecolor": "white",
            "ticks": ""
           }
          },
          "scene": {
           "xaxis": {
            "backgroundcolor": "#E5ECF6",
            "gridcolor": "white",
            "gridwidth": 2,
            "linecolor": "white",
            "showbackground": true,
            "ticks": "",
            "zerolinecolor": "white"
           },
           "yaxis": {
            "backgroundcolor": "#E5ECF6",
            "gridcolor": "white",
            "gridwidth": 2,
            "linecolor": "white",
            "showbackground": true,
            "ticks": "",
            "zerolinecolor": "white"
           },
           "zaxis": {
            "backgroundcolor": "#E5ECF6",
            "gridcolor": "white",
            "gridwidth": 2,
            "linecolor": "white",
            "showbackground": true,
            "ticks": "",
            "zerolinecolor": "white"
           }
          },
          "shapedefaults": {
           "line": {
            "color": "#2a3f5f"
           }
          },
          "ternary": {
           "aaxis": {
            "gridcolor": "white",
            "linecolor": "white",
            "ticks": ""
           },
           "baxis": {
            "gridcolor": "white",
            "linecolor": "white",
            "ticks": ""
           },
           "bgcolor": "#E5ECF6",
           "caxis": {
            "gridcolor": "white",
            "linecolor": "white",
            "ticks": ""
           }
          },
          "title": {
           "x": 0.05
          },
          "xaxis": {
           "automargin": true,
           "gridcolor": "white",
           "linecolor": "white",
           "ticks": "",
           "title": {
            "standoff": 15
           },
           "zerolinecolor": "white",
           "zerolinewidth": 2
          },
          "yaxis": {
           "automargin": true,
           "gridcolor": "white",
           "linecolor": "white",
           "ticks": "",
           "title": {
            "standoff": 15
           },
           "zerolinecolor": "white",
           "zerolinewidth": 2
          }
         }
        },
        "xaxis": {
         "anchor": "y",
         "domain": [
          0,
          1
         ],
         "title": {
          "text": "price"
         }
        },
        "yaxis": {
         "anchor": "x",
         "domain": [
          0,
          1
         ]
        }
       }
      },
      "text/html": [
       "<div>                            <div id=\"c71ccf2d-4f26-4236-a00e-121c660d3405\" class=\"plotly-graph-div\" style=\"height:525px; width:100%;\"></div>            <script type=\"text/javascript\">                require([\"plotly\"], function(Plotly) {                    window.PLOTLYENV=window.PLOTLYENV || {};                                    if (document.getElementById(\"c71ccf2d-4f26-4236-a00e-121c660d3405\")) {                    Plotly.newPlot(                        \"c71ccf2d-4f26-4236-a00e-121c660d3405\",                        [{\"alignmentgroup\":\"True\",\"hovertemplate\":\"price=%{x}<extra></extra>\",\"legendgroup\":\"\",\"marker\":{\"color\":\"#636efa\"},\"name\":\"\",\"notched\":false,\"offsetgroup\":\"\",\"orientation\":\"h\",\"showlegend\":false,\"x\":[135000,375000,2700000,376500,349999,180000,99000,180000,399000,1695000,825000,979000,788000,7498000,2840000,645000,729888,4950000,898000,1839000,995000,5350000,3899888,1088000,3498000,1198000,2288888,1098000,9000000,3950000,849900,8488000,2698000,2700000,848800,349995,4750000,1488888,2488000,1748000,2199950,1900000,1798000,6895000,199999,2788000,1299888,1648000,1680000,849000,1288000,3688000,1083000,349888,319000,595000,2189000,6495000,1498000,2145000,469000,1748888,1699999,1050000,650000,599000,360000,1425000,1724990,1898000,1099950,799000,1075000,515700,439000,419500,1605000,875000,1750000,3100000,1488000,1249800,958000,425000,2390000,999800,895000,995000,3995000,849000,1399000,248000,625000,3200000,5195000,2349500,1099000,3995000,599000,1468000,950000,695000,419000,1600000,1375000,2195000,1295000,907000,3850000,1450000,1538000,1899000,274900,169000,180000,299900,3998000,738000,899000,995000,1988800,1049000,359000,428000,1495000,4375000,699999,950000,3579000,989888,1726888,1150000,491800,999000,1049000,1088000,4995000,730000,1795000,3499000,4988000,2148000,3988000,799000,845000,4299888,5995000,859950,699975,2988000,2498000,3295000,4795000,959000,339000,764000,1949000,1500000,575000,3999000,549000,4995000,4750000,1750000,810000,850000,1998000,441000,1160000,550000,2950000,1950000,876000,3300000,1698000,3825000,2498000,4485000,888888,849000,1799888,1495000,7598000,2238000,1285000,525000,6399000,800000,3500000,2500000,5880000,90000,939000,2698000,1225000,639000,948000,2450000,8750000,699000,1095000,2476000,3200000,3495000,299888,898800,750000,899000,5250000,599000,998000,829000,789000,1498000,520000,2798000,2200000,449000,245000,1650000,1500000,7499999,5995000,215000,878000,550000,855000,1295000,499000,995000,880000,1049000,1095000,499999,1195000,679000,960000,749000,2398000,1269000,2400000,3980000,1240000,1648000,2700000,1325000,925000,1350000,843000,1999999,2699000,3500000,2588000,2700000,680000,1979000,1278000,1250000,750000,1650000,932000,689500,2100000,4438888,4895000,4198000,4000000,789500,799000,749888,1310000,2500000,898000,850000,3575000,1375000,799000,6999000,699999,649895,7695000,2588000,5198000,1100000,11988000,775000,3488000,799000,739000,4330000,1328000,1095000,1050000,1088000,469000,1600000,1698989,2599999,939000,1198000,1899000,750000,899000,1100000,2688000,1750000,1499000,4078245,275000,1299000,1165000,2098000,799000,1688888,352000,2495000,2495000,128000,1788880,3650000,529900,2348000,998888,825000,1949000,1549000,1388000,1695000,775000,1395000,1399000,899950,995000,1358800,425000,4329995,975000,699888,1749000,817000,969999,1725000,5350000,2998000,7450000,1449990,1750000,2935000,3250000,795000,1200000,899000,3225000,549888,974888,750000,499000,572500,1199000,875000,699950,3150000,9475000,5250000,1849000,710000,2498888,3950000,959000,1750000,1498000,785000,1195000,1800000,5350000,2388000,2498000,699000,2795000,2398000,1599000,1049999,849000,1500000,1299888,899000,890500,699000,499000,1288880,2998000,989000,1398000,779000,7950000,1149000,1248000,1279900,818888,5950000,1285000,1988800,1885000,724999,2998000,1750000,1590000,1795000,1429999,615000,495000,1401275,1675000,595000,1575000,755000,688000,1170000,2005000,2200000,998000,1750000,685000,1595000,1998000,1798000,989000,629000,445000,299000,2695000,1399999,529888,2549000,673000,220000,2500000,675000,1069000,599000,1995000,1469990,3895000,1399950,1888000,930000,2195000,475000,1438000,2198000,939218,699000,465000,330000,615000,899000,639950,1499000,998000,1995000,1575000,2085000,1699888,1199000,2395950,1328000,689000,2148000,3988000,799000,2898000,738000,1399000,725000,589000,1188800,847000,599900,775000,900000,2788000,599000,1799888,900000,2995000,2650000,3750000,1950000,1380000,3978000,525000,500000,784900,1395000,649000,789000,569000,1699888,2698000,1680000,1800000,924888,1569000,947000,220000,699000,1325000,1550000,2398000,1395000,4850000,5388000,1525000,1450000,1199000,409000,1748000,1250000,525000,879000,1349000,1199000,1895000,2488000,8275000,325000,1498000,1999888,298800,2199888,879000,2998000,2700000,2298000,425000,899000,1190000,3988000,675000,1181995,2688000,1220000,545000,2099500,970000,1399000,1689999,3450000,3098000,2200000,888000,710000,2000000,849900,1150000,1298000,749000,2488000,3500000,2789000,695000,525000,1100000,2599800,1190000,1295000,1799000,1295933,829000,999000,1249000,1299999,1250000,999888,435000,1788000,1649900,538000,875000,1188000,475000,1598888,1998800,2250000,788000,1100000,1050000,699800,699000,1059000,725000,1798000,899000,479000,449000,1595000,2980000,1859000,1999000,1898000,1648000,899000,1998500,749950,649999,299000,450000,1048000,520000,520000,500000,575000,650000,520000,505000,3000000,2680000,3395000,775000,1498888,1599000,1234900,3629000,999888,1149000,3650000,998000,450000,1540000,2299900,950000,912000,569000,1729000,4999999,6200000,3200000,2550000,1899000,2249000,1550000,1850000,1389000,2249800,995000,1250000,739000,989000,3295000,1795000,1398000,885000,849000,1499000,450000,1450000,1878000,690000,1488888,1499500,1150000,4495000,2998000,1049000,550000,1688000,1499000,1299000,1649000,4888000,899000,1549950,1450000,2795000,1799000,1298000,1698000,1249000,279000,1195000,1578000,1795000,325000,825888,949000,1399000,1698000,1098000,995000,724950,1848000,629900,2700000,3999000,299000,420000,509000,4280000,795000,1198000,1998000,798850,1486888,780000,2695000,949000,448000,499000,535000,379000,820000,765000,850000,1679999,649000,3880000,2495000,750000,899900,1288000,599000,1588000,1199000,1880000,2198000,749000,25000,1190000,2888000,445000,429000,1250000,1299888,1995000,1100000,2695000,4948000,1700000,1419000,1799000,1290000,1375000,1750000,1029000,618888,429900,1490000,4999500,5588000,599000,549000,488880,749000,400000,1395000,445000,390000,1815000,545000,573200,965000,998000,2395000,999999,1550000,362000,1350000,1265000,2589000,2898000,1098000,1925000,1349000,6995000,3149000,838000,1989000,1498000,2100000,179000,65000,1750000,440000,1195000,3488000,6888000,1350000,2400000,799000,2550000,399950,999999,7598000,750000,1250000,1095000,2745000,1785000,1495000,675000,1629000,2800000,1165000,1649000,1998000,950000,1650000,4298000,5695000,1050000,1350000,749900,798000,1599888,689000,405000,3299950,10980000,1680000,1078000,3099903,549000,998000,1750000,1095000,3500000,898000,2398000,2499000,975000,999000,1489000,1100000,4999999,2498000,1300000,1450000,1398000,1299000,1309439,899000,798000,1498000,1988888,519888,1298000,2495000,1549000,1850000,849000,1898000,899000,1758000,5498000,1450000,1388300,1916742,1301880,1495000,1498000,2008888,2499000,1590000,2998000,6950000,1498000,718000,2998000,4495000,899000,850000,719990,6850000,1249900,2275000,350000,399000,105000,4500000,1195000,1350000,1279000],\"x0\":\" \",\"xaxis\":\"x\",\"y0\":\" \",\"yaxis\":\"y\",\"type\":\"box\"}],                        {\"template\":{\"data\":{\"bar\":[{\"error_x\":{\"color\":\"#2a3f5f\"},\"error_y\":{\"color\":\"#2a3f5f\"},\"marker\":{\"line\":{\"color\":\"#E5ECF6\",\"width\":0.5},\"pattern\":{\"fillmode\":\"overlay\",\"size\":10,\"solidity\":0.2}},\"type\":\"bar\"}],\"barpolar\":[{\"marker\":{\"line\":{\"color\":\"#E5ECF6\",\"width\":0.5},\"pattern\":{\"fillmode\":\"overlay\",\"size\":10,\"solidity\":0.2}},\"type\":\"barpolar\"}],\"carpet\":[{\"aaxis\":{\"endlinecolor\":\"#2a3f5f\",\"gridcolor\":\"white\",\"linecolor\":\"white\",\"minorgridcolor\":\"white\",\"startlinecolor\":\"#2a3f5f\"},\"baxis\":{\"endlinecolor\":\"#2a3f5f\",\"gridcolor\":\"white\",\"linecolor\":\"white\",\"minorgridcolor\":\"white\",\"startlinecolor\":\"#2a3f5f\"},\"type\":\"carpet\"}],\"choropleth\":[{\"colorbar\":{\"outlinewidth\":0,\"ticks\":\"\"},\"type\":\"choropleth\"}],\"contour\":[{\"colorbar\":{\"outlinewidth\":0,\"ticks\":\"\"},\"colorscale\":[[0.0,\"#0d0887\"],[0.1111111111111111,\"#46039f\"],[0.2222222222222222,\"#7201a8\"],[0.3333333333333333,\"#9c179e\"],[0.4444444444444444,\"#bd3786\"],[0.5555555555555556,\"#d8576b\"],[0.6666666666666666,\"#ed7953\"],[0.7777777777777778,\"#fb9f3a\"],[0.8888888888888888,\"#fdca26\"],[1.0,\"#f0f921\"]],\"type\":\"contour\"}],\"contourcarpet\":[{\"colorbar\":{\"outlinewidth\":0,\"ticks\":\"\"},\"type\":\"contourcarpet\"}],\"heatmap\":[{\"colorbar\":{\"outlinewidth\":0,\"ticks\":\"\"},\"colorscale\":[[0.0,\"#0d0887\"],[0.1111111111111111,\"#46039f\"],[0.2222222222222222,\"#7201a8\"],[0.3333333333333333,\"#9c179e\"],[0.4444444444444444,\"#bd3786\"],[0.5555555555555556,\"#d8576b\"],[0.6666666666666666,\"#ed7953\"],[0.7777777777777778,\"#fb9f3a\"],[0.8888888888888888,\"#fdca26\"],[1.0,\"#f0f921\"]],\"type\":\"heatmap\"}],\"heatmapgl\":[{\"colorbar\":{\"outlinewidth\":0,\"ticks\":\"\"},\"colorscale\":[[0.0,\"#0d0887\"],[0.1111111111111111,\"#46039f\"],[0.2222222222222222,\"#7201a8\"],[0.3333333333333333,\"#9c179e\"],[0.4444444444444444,\"#bd3786\"],[0.5555555555555556,\"#d8576b\"],[0.6666666666666666,\"#ed7953\"],[0.7777777777777778,\"#fb9f3a\"],[0.8888888888888888,\"#fdca26\"],[1.0,\"#f0f921\"]],\"type\":\"heatmapgl\"}],\"histogram\":[{\"marker\":{\"pattern\":{\"fillmode\":\"overlay\",\"size\":10,\"solidity\":0.2}},\"type\":\"histogram\"}],\"histogram2d\":[{\"colorbar\":{\"outlinewidth\":0,\"ticks\":\"\"},\"colorscale\":[[0.0,\"#0d0887\"],[0.1111111111111111,\"#46039f\"],[0.2222222222222222,\"#7201a8\"],[0.3333333333333333,\"#9c179e\"],[0.4444444444444444,\"#bd3786\"],[0.5555555555555556,\"#d8576b\"],[0.6666666666666666,\"#ed7953\"],[0.7777777777777778,\"#fb9f3a\"],[0.8888888888888888,\"#fdca26\"],[1.0,\"#f0f921\"]],\"type\":\"histogram2d\"}],\"histogram2dcontour\":[{\"colorbar\":{\"outlinewidth\":0,\"ticks\":\"\"},\"colorscale\":[[0.0,\"#0d0887\"],[0.1111111111111111,\"#46039f\"],[0.2222222222222222,\"#7201a8\"],[0.3333333333333333,\"#9c179e\"],[0.4444444444444444,\"#bd3786\"],[0.5555555555555556,\"#d8576b\"],[0.6666666666666666,\"#ed7953\"],[0.7777777777777778,\"#fb9f3a\"],[0.8888888888888888,\"#fdca26\"],[1.0,\"#f0f921\"]],\"type\":\"histogram2dcontour\"}],\"mesh3d\":[{\"colorbar\":{\"outlinewidth\":0,\"ticks\":\"\"},\"type\":\"mesh3d\"}],\"parcoords\":[{\"line\":{\"colorbar\":{\"outlinewidth\":0,\"ticks\":\"\"}},\"type\":\"parcoords\"}],\"pie\":[{\"automargin\":true,\"type\":\"pie\"}],\"scatter\":[{\"marker\":{\"colorbar\":{\"outlinewidth\":0,\"ticks\":\"\"}},\"type\":\"scatter\"}],\"scatter3d\":[{\"line\":{\"colorbar\":{\"outlinewidth\":0,\"ticks\":\"\"}},\"marker\":{\"colorbar\":{\"outlinewidth\":0,\"ticks\":\"\"}},\"type\":\"scatter3d\"}],\"scattercarpet\":[{\"marker\":{\"colorbar\":{\"outlinewidth\":0,\"ticks\":\"\"}},\"type\":\"scattercarpet\"}],\"scattergeo\":[{\"marker\":{\"colorbar\":{\"outlinewidth\":0,\"ticks\":\"\"}},\"type\":\"scattergeo\"}],\"scattergl\":[{\"marker\":{\"colorbar\":{\"outlinewidth\":0,\"ticks\":\"\"}},\"type\":\"scattergl\"}],\"scattermapbox\":[{\"marker\":{\"colorbar\":{\"outlinewidth\":0,\"ticks\":\"\"}},\"type\":\"scattermapbox\"}],\"scatterpolar\":[{\"marker\":{\"colorbar\":{\"outlinewidth\":0,\"ticks\":\"\"}},\"type\":\"scatterpolar\"}],\"scatterpolargl\":[{\"marker\":{\"colorbar\":{\"outlinewidth\":0,\"ticks\":\"\"}},\"type\":\"scatterpolargl\"}],\"scatterternary\":[{\"marker\":{\"colorbar\":{\"outlinewidth\":0,\"ticks\":\"\"}},\"type\":\"scatterternary\"}],\"surface\":[{\"colorbar\":{\"outlinewidth\":0,\"ticks\":\"\"},\"colorscale\":[[0.0,\"#0d0887\"],[0.1111111111111111,\"#46039f\"],[0.2222222222222222,\"#7201a8\"],[0.3333333333333333,\"#9c179e\"],[0.4444444444444444,\"#bd3786\"],[0.5555555555555556,\"#d8576b\"],[0.6666666666666666,\"#ed7953\"],[0.7777777777777778,\"#fb9f3a\"],[0.8888888888888888,\"#fdca26\"],[1.0,\"#f0f921\"]],\"type\":\"surface\"}],\"table\":[{\"cells\":{\"fill\":{\"color\":\"#EBF0F8\"},\"line\":{\"color\":\"white\"}},\"header\":{\"fill\":{\"color\":\"#C8D4E3\"},\"line\":{\"color\":\"white\"}},\"type\":\"table\"}]},\"layout\":{\"annotationdefaults\":{\"arrowcolor\":\"#2a3f5f\",\"arrowhead\":0,\"arrowwidth\":1},\"autotypenumbers\":\"strict\",\"coloraxis\":{\"colorbar\":{\"outlinewidth\":0,\"ticks\":\"\"}},\"colorscale\":{\"diverging\":[[0,\"#8e0152\"],[0.1,\"#c51b7d\"],[0.2,\"#de77ae\"],[0.3,\"#f1b6da\"],[0.4,\"#fde0ef\"],[0.5,\"#f7f7f7\"],[0.6,\"#e6f5d0\"],[0.7,\"#b8e186\"],[0.8,\"#7fbc41\"],[0.9,\"#4d9221\"],[1,\"#276419\"]],\"sequential\":[[0.0,\"#0d0887\"],[0.1111111111111111,\"#46039f\"],[0.2222222222222222,\"#7201a8\"],[0.3333333333333333,\"#9c179e\"],[0.4444444444444444,\"#bd3786\"],[0.5555555555555556,\"#d8576b\"],[0.6666666666666666,\"#ed7953\"],[0.7777777777777778,\"#fb9f3a\"],[0.8888888888888888,\"#fdca26\"],[1.0,\"#f0f921\"]],\"sequentialminus\":[[0.0,\"#0d0887\"],[0.1111111111111111,\"#46039f\"],[0.2222222222222222,\"#7201a8\"],[0.3333333333333333,\"#9c179e\"],[0.4444444444444444,\"#bd3786\"],[0.5555555555555556,\"#d8576b\"],[0.6666666666666666,\"#ed7953\"],[0.7777777777777778,\"#fb9f3a\"],[0.8888888888888888,\"#fdca26\"],[1.0,\"#f0f921\"]]},\"colorway\":[\"#636efa\",\"#EF553B\",\"#00cc96\",\"#ab63fa\",\"#FFA15A\",\"#19d3f3\",\"#FF6692\",\"#B6E880\",\"#FF97FF\",\"#FECB52\"],\"font\":{\"color\":\"#2a3f5f\"},\"geo\":{\"bgcolor\":\"white\",\"lakecolor\":\"white\",\"landcolor\":\"#E5ECF6\",\"showlakes\":true,\"showland\":true,\"subunitcolor\":\"white\"},\"hoverlabel\":{\"align\":\"left\"},\"hovermode\":\"closest\",\"mapbox\":{\"style\":\"light\"},\"paper_bgcolor\":\"white\",\"plot_bgcolor\":\"#E5ECF6\",\"polar\":{\"angularaxis\":{\"gridcolor\":\"white\",\"linecolor\":\"white\",\"ticks\":\"\"},\"bgcolor\":\"#E5ECF6\",\"radialaxis\":{\"gridcolor\":\"white\",\"linecolor\":\"white\",\"ticks\":\"\"}},\"scene\":{\"xaxis\":{\"backgroundcolor\":\"#E5ECF6\",\"gridcolor\":\"white\",\"gridwidth\":2,\"linecolor\":\"white\",\"showbackground\":true,\"ticks\":\"\",\"zerolinecolor\":\"white\"},\"yaxis\":{\"backgroundcolor\":\"#E5ECF6\",\"gridcolor\":\"white\",\"gridwidth\":2,\"linecolor\":\"white\",\"showbackground\":true,\"ticks\":\"\",\"zerolinecolor\":\"white\"},\"zaxis\":{\"backgroundcolor\":\"#E5ECF6\",\"gridcolor\":\"white\",\"gridwidth\":2,\"linecolor\":\"white\",\"showbackground\":true,\"ticks\":\"\",\"zerolinecolor\":\"white\"}},\"shapedefaults\":{\"line\":{\"color\":\"#2a3f5f\"}},\"ternary\":{\"aaxis\":{\"gridcolor\":\"white\",\"linecolor\":\"white\",\"ticks\":\"\"},\"baxis\":{\"gridcolor\":\"white\",\"linecolor\":\"white\",\"ticks\":\"\"},\"bgcolor\":\"#E5ECF6\",\"caxis\":{\"gridcolor\":\"white\",\"linecolor\":\"white\",\"ticks\":\"\"}},\"title\":{\"x\":0.05},\"xaxis\":{\"automargin\":true,\"gridcolor\":\"white\",\"linecolor\":\"white\",\"ticks\":\"\",\"title\":{\"standoff\":15},\"zerolinecolor\":\"white\",\"zerolinewidth\":2},\"yaxis\":{\"automargin\":true,\"gridcolor\":\"white\",\"linecolor\":\"white\",\"ticks\":\"\",\"title\":{\"standoff\":15},\"zerolinecolor\":\"white\",\"zerolinewidth\":2}}},\"xaxis\":{\"anchor\":\"y\",\"domain\":[0.0,1.0],\"title\":{\"text\":\"price\"}},\"yaxis\":{\"anchor\":\"x\",\"domain\":[0.0,1.0]},\"legend\":{\"tracegroupgap\":0},\"margin\":{\"t\":60},\"boxmode\":\"group\"},                        {\"responsive\": true}                    ).then(function(){\n",
       "                            \n",
       "var gd = document.getElementById('c71ccf2d-4f26-4236-a00e-121c660d3405');\n",
       "var x = new MutationObserver(function (mutations, observer) {{\n",
       "        var display = window.getComputedStyle(gd).display;\n",
       "        if (!display || display === 'none') {{\n",
       "            console.log([gd, 'removed!']);\n",
       "            Plotly.purge(gd);\n",
       "            observer.disconnect();\n",
       "        }}\n",
       "}});\n",
       "\n",
       "// Listen for the removal of the full notebook cells\n",
       "var notebookContainer = gd.closest('#notebook-container');\n",
       "if (notebookContainer) {{\n",
       "    x.observe(notebookContainer, {childList: true});\n",
       "}}\n",
       "\n",
       "// Listen for the clearing of the current output cell\n",
       "var outputEl = gd.closest('.output');\n",
       "if (outputEl) {{\n",
       "    x.observe(outputEl, {childList: true});\n",
       "}}\n",
       "\n",
       "                        })                };                });            </script>        </div>"
      ]
     },
     "metadata": {},
     "output_type": "display_data"
    }
   ],
   "source": [
    "fig = px.box(df, x=df['price'])\n",
    "fig.show()"
   ]
  },
  {
   "cell_type": "code",
   "execution_count": 131,
   "id": "fa085c30",
   "metadata": {},
   "outputs": [],
   "source": [
    "import numpy as np\n"
   ]
  },
  {
   "cell_type": "code",
   "execution_count": 132,
   "id": "56169e46",
   "metadata": {},
   "outputs": [
    {
     "data": {
      "application/vnd.plotly.v1+json": {
       "config": {
        "plotlyServerURL": "https://plot.ly"
       },
       "data": [
        {
         "alignmentgroup": "True",
         "hovertemplate": "price=%{x}<extra></extra>",
         "legendgroup": "",
         "marker": {
          "color": "#636efa"
         },
         "name": "",
         "notched": false,
         "offsetgroup": "",
         "orientation": "h",
         "showlegend": false,
         "type": "box",
         "x": [
          135000,
          375000,
          2700000,
          376500,
          349999,
          180000,
          99000,
          180000,
          399000,
          1695000,
          825000,
          979000,
          788000,
          2840000,
          645000,
          729888,
          898000,
          1839000,
          995000,
          3899888,
          1088000,
          3498000,
          1198000,
          2288888,
          1098000,
          3950000,
          849900,
          2698000,
          2700000,
          848800,
          349995,
          4750000,
          1488888,
          2488000,
          1748000,
          2199950,
          1900000,
          1798000,
          199999,
          2788000,
          1299888,
          1648000,
          1680000,
          849000,
          1288000,
          3688000,
          1083000,
          349888,
          319000,
          595000,
          2189000,
          1498000,
          2145000,
          469000,
          1748888,
          1699999,
          1050000,
          650000,
          599000,
          360000,
          1425000,
          1724990,
          1898000,
          1099950,
          799000,
          1075000,
          515700,
          439000,
          419500,
          1605000,
          875000,
          1750000,
          3100000,
          1488000,
          1249800,
          958000,
          425000,
          2390000,
          999800,
          895000,
          995000,
          3995000,
          849000,
          1399000,
          248000,
          625000,
          3200000,
          2349500,
          1099000,
          3995000,
          599000,
          1468000,
          950000,
          695000,
          419000,
          1600000,
          1375000,
          2195000,
          1295000,
          907000,
          3850000,
          1450000,
          1538000,
          1899000,
          274900,
          169000,
          180000,
          299900,
          3998000,
          738000,
          899000,
          995000,
          1988800,
          1049000,
          359000,
          428000,
          1495000,
          4375000,
          699999,
          950000,
          3579000,
          989888,
          1726888,
          1150000,
          491800,
          999000,
          1049000,
          1088000,
          730000,
          1795000,
          3499000,
          2148000,
          3988000,
          799000,
          845000,
          4299888,
          859950,
          699975,
          2988000,
          2498000,
          3295000,
          4795000,
          959000,
          339000,
          764000,
          1949000,
          1500000,
          575000,
          3999000,
          549000,
          4750000,
          1750000,
          810000,
          850000,
          1998000,
          441000,
          1160000,
          550000,
          2950000,
          1950000,
          876000,
          3300000,
          1698000,
          3825000,
          2498000,
          4485000,
          888888,
          849000,
          1799888,
          1495000,
          2238000,
          1285000,
          525000,
          800000,
          3500000,
          2500000,
          90000,
          939000,
          2698000,
          1225000,
          639000,
          948000,
          2450000,
          699000,
          1095000,
          2476000,
          3200000,
          3495000,
          299888,
          898800,
          750000,
          899000,
          599000,
          998000,
          829000,
          789000,
          1498000,
          520000,
          2798000,
          2200000,
          449000,
          245000,
          1650000,
          1500000,
          215000,
          878000,
          550000,
          855000,
          1295000,
          499000,
          995000,
          880000,
          1049000,
          1095000,
          499999,
          1195000,
          679000,
          960000,
          749000,
          2398000,
          1269000,
          2400000,
          3980000,
          1240000,
          1648000,
          2700000,
          1325000,
          925000,
          1350000,
          843000,
          1999999,
          2699000,
          3500000,
          2588000,
          2700000,
          680000,
          1979000,
          1278000,
          1250000,
          750000,
          1650000,
          932000,
          689500,
          2100000,
          4438888,
          4198000,
          4000000,
          789500,
          799000,
          749888,
          1310000,
          2500000,
          898000,
          850000,
          3575000,
          1375000,
          799000,
          699999,
          649895,
          2588000,
          1100000,
          775000,
          3488000,
          799000,
          739000,
          4330000,
          1328000,
          1095000,
          1050000,
          1088000,
          469000,
          1600000,
          1698989,
          2599999,
          939000,
          1198000,
          1899000,
          750000,
          899000,
          1100000,
          2688000,
          1750000,
          1499000,
          4078245,
          275000,
          1299000,
          1165000,
          2098000,
          799000,
          1688888,
          352000,
          2495000,
          2495000,
          128000,
          1788880,
          3650000,
          529900,
          2348000,
          998888,
          825000,
          1949000,
          1549000,
          1388000,
          1695000,
          775000,
          1395000,
          1399000,
          899950,
          995000,
          1358800,
          425000,
          4329995,
          975000,
          699888,
          1749000,
          817000,
          969999,
          1725000,
          2998000,
          1449990,
          1750000,
          2935000,
          3250000,
          795000,
          1200000,
          899000,
          3225000,
          549888,
          974888,
          750000,
          499000,
          572500,
          1199000,
          875000,
          699950,
          3150000,
          1849000,
          710000,
          2498888,
          3950000,
          959000,
          1750000,
          1498000,
          785000,
          1195000,
          1800000,
          2388000,
          2498000,
          699000,
          2795000,
          2398000,
          1599000,
          1049999,
          849000,
          1500000,
          1299888,
          899000,
          890500,
          699000,
          499000,
          1288880,
          2998000,
          989000,
          1398000,
          779000,
          1149000,
          1248000,
          1279900,
          818888,
          1285000,
          1988800,
          1885000,
          724999,
          2998000,
          1750000,
          1590000,
          1795000,
          1429999,
          615000,
          495000,
          1401275,
          1675000,
          595000,
          1575000,
          755000,
          688000,
          1170000,
          2005000,
          2200000,
          998000,
          1750000,
          685000,
          1595000,
          1998000,
          1798000,
          989000,
          629000,
          445000,
          299000,
          2695000,
          1399999,
          529888,
          2549000,
          673000,
          220000,
          2500000,
          675000,
          1069000,
          599000,
          1995000,
          1469990,
          3895000,
          1399950,
          1888000,
          930000,
          2195000,
          475000,
          1438000,
          2198000,
          939218,
          699000,
          465000,
          330000,
          615000,
          899000,
          639950,
          1499000,
          998000,
          1995000,
          1575000,
          2085000,
          1699888,
          1199000,
          2395950,
          1328000,
          689000,
          2148000,
          3988000,
          799000,
          2898000,
          738000,
          1399000,
          725000,
          589000,
          1188800,
          847000,
          599900,
          775000,
          900000,
          2788000,
          599000,
          1799888,
          900000,
          2995000,
          2650000,
          3750000,
          1950000,
          1380000,
          3978000,
          525000,
          500000,
          784900,
          1395000,
          649000,
          789000,
          569000,
          1699888,
          2698000,
          1680000,
          1800000,
          924888,
          1569000,
          947000,
          220000,
          699000,
          1325000,
          1550000,
          2398000,
          1395000,
          1525000,
          1450000,
          1199000,
          409000,
          1748000,
          1250000,
          525000,
          879000,
          1349000,
          1199000,
          1895000,
          2488000,
          325000,
          1498000,
          1999888,
          298800,
          2199888,
          879000,
          2998000,
          2700000,
          2298000,
          425000,
          899000,
          1190000,
          3988000,
          675000,
          1181995,
          2688000,
          1220000,
          545000,
          2099500,
          970000,
          1399000,
          1689999,
          3450000,
          3098000,
          2200000,
          888000,
          710000,
          2000000,
          849900,
          1150000,
          1298000,
          749000,
          2488000,
          3500000,
          2789000,
          695000,
          525000,
          1100000,
          2599800,
          1190000,
          1295000,
          1799000,
          1295933,
          829000,
          999000,
          1249000,
          1299999,
          1250000,
          999888,
          435000,
          1788000,
          1649900,
          538000,
          875000,
          1188000,
          475000,
          1598888,
          1998800,
          2250000,
          788000,
          1100000,
          1050000,
          699800,
          699000,
          1059000,
          725000,
          1798000,
          899000,
          479000,
          449000,
          1595000,
          2980000,
          1859000,
          1999000,
          1898000,
          1648000,
          899000,
          1998500,
          749950,
          649999,
          299000,
          450000,
          1048000,
          520000,
          520000,
          500000,
          575000,
          650000,
          520000,
          505000,
          3000000,
          2680000,
          3395000,
          775000,
          1498888,
          1599000,
          1234900,
          3629000,
          999888,
          1149000,
          3650000,
          998000,
          450000,
          1540000,
          2299900,
          950000,
          912000,
          569000,
          1729000,
          3200000,
          2550000,
          1899000,
          2249000,
          1550000,
          1850000,
          1389000,
          2249800,
          995000,
          1250000,
          739000,
          989000,
          3295000,
          1795000,
          1398000,
          885000,
          849000,
          1499000,
          450000,
          1450000,
          1878000,
          690000,
          1488888,
          1499500,
          1150000,
          4495000,
          2998000,
          1049000,
          550000,
          1688000,
          1499000,
          1299000,
          1649000,
          899000,
          1549950,
          1450000,
          2795000,
          1799000,
          1298000,
          1698000,
          1249000,
          279000,
          1195000,
          1578000,
          1795000,
          325000,
          825888,
          949000,
          1399000,
          1698000,
          1098000,
          995000,
          724950,
          1848000,
          629900,
          2700000,
          3999000,
          299000,
          420000,
          509000,
          4280000,
          795000,
          1198000,
          1998000,
          798850,
          1486888,
          780000,
          2695000,
          949000,
          448000,
          499000,
          535000,
          379000,
          820000,
          765000,
          850000,
          1679999,
          649000,
          3880000,
          2495000,
          750000,
          899900,
          1288000,
          599000,
          1588000,
          1199000,
          1880000,
          2198000,
          749000,
          25000,
          1190000,
          2888000,
          445000,
          429000,
          1250000,
          1299888,
          1995000,
          1100000,
          2695000,
          1700000,
          1419000,
          1799000,
          1290000,
          1375000,
          1750000,
          1029000,
          618888,
          429900,
          1490000,
          599000,
          549000,
          488880,
          749000,
          400000,
          1395000,
          445000,
          390000,
          1815000,
          545000,
          573200,
          965000,
          998000,
          2395000,
          999999,
          1550000,
          362000,
          1350000,
          1265000,
          2589000,
          2898000,
          1098000,
          1925000,
          1349000,
          3149000,
          838000,
          1989000,
          1498000,
          2100000,
          179000,
          65000,
          1750000,
          440000,
          1195000,
          3488000,
          1350000,
          2400000,
          799000,
          2550000,
          399950,
          999999,
          750000,
          1250000,
          1095000,
          2745000,
          1785000,
          1495000,
          675000,
          1629000,
          2800000,
          1165000,
          1649000,
          1998000,
          950000,
          1650000,
          4298000,
          1050000,
          1350000,
          749900,
          798000,
          1599888,
          689000,
          405000,
          3299950,
          1680000,
          1078000,
          3099903,
          549000,
          998000,
          1750000,
          1095000,
          3500000,
          898000,
          2398000,
          2499000,
          975000,
          999000,
          1489000,
          1100000,
          2498000,
          1300000,
          1450000,
          1398000,
          1299000,
          1309439,
          899000,
          798000,
          1498000,
          1988888,
          519888,
          1298000,
          2495000,
          1549000,
          1850000,
          849000,
          1898000,
          899000,
          1758000,
          1450000,
          1388300,
          1916742,
          1301880,
          1495000,
          1498000,
          2008888,
          2499000,
          1590000,
          2998000,
          1498000,
          718000,
          2998000,
          4495000,
          899000,
          850000,
          719990,
          1249900,
          2275000,
          350000,
          399000,
          105000,
          4500000,
          1195000,
          1350000,
          1279000
         ],
         "x0": " ",
         "xaxis": "x",
         "y0": " ",
         "yaxis": "y"
        }
       ],
       "layout": {
        "boxmode": "group",
        "legend": {
         "tracegroupgap": 0
        },
        "margin": {
         "t": 60
        },
        "template": {
         "data": {
          "bar": [
           {
            "error_x": {
             "color": "#2a3f5f"
            },
            "error_y": {
             "color": "#2a3f5f"
            },
            "marker": {
             "line": {
              "color": "#E5ECF6",
              "width": 0.5
             },
             "pattern": {
              "fillmode": "overlay",
              "size": 10,
              "solidity": 0.2
             }
            },
            "type": "bar"
           }
          ],
          "barpolar": [
           {
            "marker": {
             "line": {
              "color": "#E5ECF6",
              "width": 0.5
             },
             "pattern": {
              "fillmode": "overlay",
              "size": 10,
              "solidity": 0.2
             }
            },
            "type": "barpolar"
           }
          ],
          "carpet": [
           {
            "aaxis": {
             "endlinecolor": "#2a3f5f",
             "gridcolor": "white",
             "linecolor": "white",
             "minorgridcolor": "white",
             "startlinecolor": "#2a3f5f"
            },
            "baxis": {
             "endlinecolor": "#2a3f5f",
             "gridcolor": "white",
             "linecolor": "white",
             "minorgridcolor": "white",
             "startlinecolor": "#2a3f5f"
            },
            "type": "carpet"
           }
          ],
          "choropleth": [
           {
            "colorbar": {
             "outlinewidth": 0,
             "ticks": ""
            },
            "type": "choropleth"
           }
          ],
          "contour": [
           {
            "colorbar": {
             "outlinewidth": 0,
             "ticks": ""
            },
            "colorscale": [
             [
              0,
              "#0d0887"
             ],
             [
              0.1111111111111111,
              "#46039f"
             ],
             [
              0.2222222222222222,
              "#7201a8"
             ],
             [
              0.3333333333333333,
              "#9c179e"
             ],
             [
              0.4444444444444444,
              "#bd3786"
             ],
             [
              0.5555555555555556,
              "#d8576b"
             ],
             [
              0.6666666666666666,
              "#ed7953"
             ],
             [
              0.7777777777777778,
              "#fb9f3a"
             ],
             [
              0.8888888888888888,
              "#fdca26"
             ],
             [
              1,
              "#f0f921"
             ]
            ],
            "type": "contour"
           }
          ],
          "contourcarpet": [
           {
            "colorbar": {
             "outlinewidth": 0,
             "ticks": ""
            },
            "type": "contourcarpet"
           }
          ],
          "heatmap": [
           {
            "colorbar": {
             "outlinewidth": 0,
             "ticks": ""
            },
            "colorscale": [
             [
              0,
              "#0d0887"
             ],
             [
              0.1111111111111111,
              "#46039f"
             ],
             [
              0.2222222222222222,
              "#7201a8"
             ],
             [
              0.3333333333333333,
              "#9c179e"
             ],
             [
              0.4444444444444444,
              "#bd3786"
             ],
             [
              0.5555555555555556,
              "#d8576b"
             ],
             [
              0.6666666666666666,
              "#ed7953"
             ],
             [
              0.7777777777777778,
              "#fb9f3a"
             ],
             [
              0.8888888888888888,
              "#fdca26"
             ],
             [
              1,
              "#f0f921"
             ]
            ],
            "type": "heatmap"
           }
          ],
          "heatmapgl": [
           {
            "colorbar": {
             "outlinewidth": 0,
             "ticks": ""
            },
            "colorscale": [
             [
              0,
              "#0d0887"
             ],
             [
              0.1111111111111111,
              "#46039f"
             ],
             [
              0.2222222222222222,
              "#7201a8"
             ],
             [
              0.3333333333333333,
              "#9c179e"
             ],
             [
              0.4444444444444444,
              "#bd3786"
             ],
             [
              0.5555555555555556,
              "#d8576b"
             ],
             [
              0.6666666666666666,
              "#ed7953"
             ],
             [
              0.7777777777777778,
              "#fb9f3a"
             ],
             [
              0.8888888888888888,
              "#fdca26"
             ],
             [
              1,
              "#f0f921"
             ]
            ],
            "type": "heatmapgl"
           }
          ],
          "histogram": [
           {
            "marker": {
             "pattern": {
              "fillmode": "overlay",
              "size": 10,
              "solidity": 0.2
             }
            },
            "type": "histogram"
           }
          ],
          "histogram2d": [
           {
            "colorbar": {
             "outlinewidth": 0,
             "ticks": ""
            },
            "colorscale": [
             [
              0,
              "#0d0887"
             ],
             [
              0.1111111111111111,
              "#46039f"
             ],
             [
              0.2222222222222222,
              "#7201a8"
             ],
             [
              0.3333333333333333,
              "#9c179e"
             ],
             [
              0.4444444444444444,
              "#bd3786"
             ],
             [
              0.5555555555555556,
              "#d8576b"
             ],
             [
              0.6666666666666666,
              "#ed7953"
             ],
             [
              0.7777777777777778,
              "#fb9f3a"
             ],
             [
              0.8888888888888888,
              "#fdca26"
             ],
             [
              1,
              "#f0f921"
             ]
            ],
            "type": "histogram2d"
           }
          ],
          "histogram2dcontour": [
           {
            "colorbar": {
             "outlinewidth": 0,
             "ticks": ""
            },
            "colorscale": [
             [
              0,
              "#0d0887"
             ],
             [
              0.1111111111111111,
              "#46039f"
             ],
             [
              0.2222222222222222,
              "#7201a8"
             ],
             [
              0.3333333333333333,
              "#9c179e"
             ],
             [
              0.4444444444444444,
              "#bd3786"
             ],
             [
              0.5555555555555556,
              "#d8576b"
             ],
             [
              0.6666666666666666,
              "#ed7953"
             ],
             [
              0.7777777777777778,
              "#fb9f3a"
             ],
             [
              0.8888888888888888,
              "#fdca26"
             ],
             [
              1,
              "#f0f921"
             ]
            ],
            "type": "histogram2dcontour"
           }
          ],
          "mesh3d": [
           {
            "colorbar": {
             "outlinewidth": 0,
             "ticks": ""
            },
            "type": "mesh3d"
           }
          ],
          "parcoords": [
           {
            "line": {
             "colorbar": {
              "outlinewidth": 0,
              "ticks": ""
             }
            },
            "type": "parcoords"
           }
          ],
          "pie": [
           {
            "automargin": true,
            "type": "pie"
           }
          ],
          "scatter": [
           {
            "marker": {
             "colorbar": {
              "outlinewidth": 0,
              "ticks": ""
             }
            },
            "type": "scatter"
           }
          ],
          "scatter3d": [
           {
            "line": {
             "colorbar": {
              "outlinewidth": 0,
              "ticks": ""
             }
            },
            "marker": {
             "colorbar": {
              "outlinewidth": 0,
              "ticks": ""
             }
            },
            "type": "scatter3d"
           }
          ],
          "scattercarpet": [
           {
            "marker": {
             "colorbar": {
              "outlinewidth": 0,
              "ticks": ""
             }
            },
            "type": "scattercarpet"
           }
          ],
          "scattergeo": [
           {
            "marker": {
             "colorbar": {
              "outlinewidth": 0,
              "ticks": ""
             }
            },
            "type": "scattergeo"
           }
          ],
          "scattergl": [
           {
            "marker": {
             "colorbar": {
              "outlinewidth": 0,
              "ticks": ""
             }
            },
            "type": "scattergl"
           }
          ],
          "scattermapbox": [
           {
            "marker": {
             "colorbar": {
              "outlinewidth": 0,
              "ticks": ""
             }
            },
            "type": "scattermapbox"
           }
          ],
          "scatterpolar": [
           {
            "marker": {
             "colorbar": {
              "outlinewidth": 0,
              "ticks": ""
             }
            },
            "type": "scatterpolar"
           }
          ],
          "scatterpolargl": [
           {
            "marker": {
             "colorbar": {
              "outlinewidth": 0,
              "ticks": ""
             }
            },
            "type": "scatterpolargl"
           }
          ],
          "scatterternary": [
           {
            "marker": {
             "colorbar": {
              "outlinewidth": 0,
              "ticks": ""
             }
            },
            "type": "scatterternary"
           }
          ],
          "surface": [
           {
            "colorbar": {
             "outlinewidth": 0,
             "ticks": ""
            },
            "colorscale": [
             [
              0,
              "#0d0887"
             ],
             [
              0.1111111111111111,
              "#46039f"
             ],
             [
              0.2222222222222222,
              "#7201a8"
             ],
             [
              0.3333333333333333,
              "#9c179e"
             ],
             [
              0.4444444444444444,
              "#bd3786"
             ],
             [
              0.5555555555555556,
              "#d8576b"
             ],
             [
              0.6666666666666666,
              "#ed7953"
             ],
             [
              0.7777777777777778,
              "#fb9f3a"
             ],
             [
              0.8888888888888888,
              "#fdca26"
             ],
             [
              1,
              "#f0f921"
             ]
            ],
            "type": "surface"
           }
          ],
          "table": [
           {
            "cells": {
             "fill": {
              "color": "#EBF0F8"
             },
             "line": {
              "color": "white"
             }
            },
            "header": {
             "fill": {
              "color": "#C8D4E3"
             },
             "line": {
              "color": "white"
             }
            },
            "type": "table"
           }
          ]
         },
         "layout": {
          "annotationdefaults": {
           "arrowcolor": "#2a3f5f",
           "arrowhead": 0,
           "arrowwidth": 1
          },
          "autotypenumbers": "strict",
          "coloraxis": {
           "colorbar": {
            "outlinewidth": 0,
            "ticks": ""
           }
          },
          "colorscale": {
           "diverging": [
            [
             0,
             "#8e0152"
            ],
            [
             0.1,
             "#c51b7d"
            ],
            [
             0.2,
             "#de77ae"
            ],
            [
             0.3,
             "#f1b6da"
            ],
            [
             0.4,
             "#fde0ef"
            ],
            [
             0.5,
             "#f7f7f7"
            ],
            [
             0.6,
             "#e6f5d0"
            ],
            [
             0.7,
             "#b8e186"
            ],
            [
             0.8,
             "#7fbc41"
            ],
            [
             0.9,
             "#4d9221"
            ],
            [
             1,
             "#276419"
            ]
           ],
           "sequential": [
            [
             0,
             "#0d0887"
            ],
            [
             0.1111111111111111,
             "#46039f"
            ],
            [
             0.2222222222222222,
             "#7201a8"
            ],
            [
             0.3333333333333333,
             "#9c179e"
            ],
            [
             0.4444444444444444,
             "#bd3786"
            ],
            [
             0.5555555555555556,
             "#d8576b"
            ],
            [
             0.6666666666666666,
             "#ed7953"
            ],
            [
             0.7777777777777778,
             "#fb9f3a"
            ],
            [
             0.8888888888888888,
             "#fdca26"
            ],
            [
             1,
             "#f0f921"
            ]
           ],
           "sequentialminus": [
            [
             0,
             "#0d0887"
            ],
            [
             0.1111111111111111,
             "#46039f"
            ],
            [
             0.2222222222222222,
             "#7201a8"
            ],
            [
             0.3333333333333333,
             "#9c179e"
            ],
            [
             0.4444444444444444,
             "#bd3786"
            ],
            [
             0.5555555555555556,
             "#d8576b"
            ],
            [
             0.6666666666666666,
             "#ed7953"
            ],
            [
             0.7777777777777778,
             "#fb9f3a"
            ],
            [
             0.8888888888888888,
             "#fdca26"
            ],
            [
             1,
             "#f0f921"
            ]
           ]
          },
          "colorway": [
           "#636efa",
           "#EF553B",
           "#00cc96",
           "#ab63fa",
           "#FFA15A",
           "#19d3f3",
           "#FF6692",
           "#B6E880",
           "#FF97FF",
           "#FECB52"
          ],
          "font": {
           "color": "#2a3f5f"
          },
          "geo": {
           "bgcolor": "white",
           "lakecolor": "white",
           "landcolor": "#E5ECF6",
           "showlakes": true,
           "showland": true,
           "subunitcolor": "white"
          },
          "hoverlabel": {
           "align": "left"
          },
          "hovermode": "closest",
          "mapbox": {
           "style": "light"
          },
          "paper_bgcolor": "white",
          "plot_bgcolor": "#E5ECF6",
          "polar": {
           "angularaxis": {
            "gridcolor": "white",
            "linecolor": "white",
            "ticks": ""
           },
           "bgcolor": "#E5ECF6",
           "radialaxis": {
            "gridcolor": "white",
            "linecolor": "white",
            "ticks": ""
           }
          },
          "scene": {
           "xaxis": {
            "backgroundcolor": "#E5ECF6",
            "gridcolor": "white",
            "gridwidth": 2,
            "linecolor": "white",
            "showbackground": true,
            "ticks": "",
            "zerolinecolor": "white"
           },
           "yaxis": {
            "backgroundcolor": "#E5ECF6",
            "gridcolor": "white",
            "gridwidth": 2,
            "linecolor": "white",
            "showbackground": true,
            "ticks": "",
            "zerolinecolor": "white"
           },
           "zaxis": {
            "backgroundcolor": "#E5ECF6",
            "gridcolor": "white",
            "gridwidth": 2,
            "linecolor": "white",
            "showbackground": true,
            "ticks": "",
            "zerolinecolor": "white"
           }
          },
          "shapedefaults": {
           "line": {
            "color": "#2a3f5f"
           }
          },
          "ternary": {
           "aaxis": {
            "gridcolor": "white",
            "linecolor": "white",
            "ticks": ""
           },
           "baxis": {
            "gridcolor": "white",
            "linecolor": "white",
            "ticks": ""
           },
           "bgcolor": "#E5ECF6",
           "caxis": {
            "gridcolor": "white",
            "linecolor": "white",
            "ticks": ""
           }
          },
          "title": {
           "x": 0.05
          },
          "xaxis": {
           "automargin": true,
           "gridcolor": "white",
           "linecolor": "white",
           "ticks": "",
           "title": {
            "standoff": 15
           },
           "zerolinecolor": "white",
           "zerolinewidth": 2
          },
          "yaxis": {
           "automargin": true,
           "gridcolor": "white",
           "linecolor": "white",
           "ticks": "",
           "title": {
            "standoff": 15
           },
           "zerolinecolor": "white",
           "zerolinewidth": 2
          }
         }
        },
        "xaxis": {
         "anchor": "y",
         "domain": [
          0,
          1
         ],
         "title": {
          "text": "price"
         }
        },
        "yaxis": {
         "anchor": "x",
         "domain": [
          0,
          1
         ]
        }
       }
      },
      "text/html": [
       "<div>                            <div id=\"d5b390f8-4b78-47ac-9313-0fcf0d7b4b71\" class=\"plotly-graph-div\" style=\"height:525px; width:100%;\"></div>            <script type=\"text/javascript\">                require([\"plotly\"], function(Plotly) {                    window.PLOTLYENV=window.PLOTLYENV || {};                                    if (document.getElementById(\"d5b390f8-4b78-47ac-9313-0fcf0d7b4b71\")) {                    Plotly.newPlot(                        \"d5b390f8-4b78-47ac-9313-0fcf0d7b4b71\",                        [{\"alignmentgroup\":\"True\",\"hovertemplate\":\"price=%{x}<extra></extra>\",\"legendgroup\":\"\",\"marker\":{\"color\":\"#636efa\"},\"name\":\"\",\"notched\":false,\"offsetgroup\":\"\",\"orientation\":\"h\",\"showlegend\":false,\"x\":[135000,375000,2700000,376500,349999,180000,99000,180000,399000,1695000,825000,979000,788000,2840000,645000,729888,898000,1839000,995000,3899888,1088000,3498000,1198000,2288888,1098000,3950000,849900,2698000,2700000,848800,349995,4750000,1488888,2488000,1748000,2199950,1900000,1798000,199999,2788000,1299888,1648000,1680000,849000,1288000,3688000,1083000,349888,319000,595000,2189000,1498000,2145000,469000,1748888,1699999,1050000,650000,599000,360000,1425000,1724990,1898000,1099950,799000,1075000,515700,439000,419500,1605000,875000,1750000,3100000,1488000,1249800,958000,425000,2390000,999800,895000,995000,3995000,849000,1399000,248000,625000,3200000,2349500,1099000,3995000,599000,1468000,950000,695000,419000,1600000,1375000,2195000,1295000,907000,3850000,1450000,1538000,1899000,274900,169000,180000,299900,3998000,738000,899000,995000,1988800,1049000,359000,428000,1495000,4375000,699999,950000,3579000,989888,1726888,1150000,491800,999000,1049000,1088000,730000,1795000,3499000,2148000,3988000,799000,845000,4299888,859950,699975,2988000,2498000,3295000,4795000,959000,339000,764000,1949000,1500000,575000,3999000,549000,4750000,1750000,810000,850000,1998000,441000,1160000,550000,2950000,1950000,876000,3300000,1698000,3825000,2498000,4485000,888888,849000,1799888,1495000,2238000,1285000,525000,800000,3500000,2500000,90000,939000,2698000,1225000,639000,948000,2450000,699000,1095000,2476000,3200000,3495000,299888,898800,750000,899000,599000,998000,829000,789000,1498000,520000,2798000,2200000,449000,245000,1650000,1500000,215000,878000,550000,855000,1295000,499000,995000,880000,1049000,1095000,499999,1195000,679000,960000,749000,2398000,1269000,2400000,3980000,1240000,1648000,2700000,1325000,925000,1350000,843000,1999999,2699000,3500000,2588000,2700000,680000,1979000,1278000,1250000,750000,1650000,932000,689500,2100000,4438888,4198000,4000000,789500,799000,749888,1310000,2500000,898000,850000,3575000,1375000,799000,699999,649895,2588000,1100000,775000,3488000,799000,739000,4330000,1328000,1095000,1050000,1088000,469000,1600000,1698989,2599999,939000,1198000,1899000,750000,899000,1100000,2688000,1750000,1499000,4078245,275000,1299000,1165000,2098000,799000,1688888,352000,2495000,2495000,128000,1788880,3650000,529900,2348000,998888,825000,1949000,1549000,1388000,1695000,775000,1395000,1399000,899950,995000,1358800,425000,4329995,975000,699888,1749000,817000,969999,1725000,2998000,1449990,1750000,2935000,3250000,795000,1200000,899000,3225000,549888,974888,750000,499000,572500,1199000,875000,699950,3150000,1849000,710000,2498888,3950000,959000,1750000,1498000,785000,1195000,1800000,2388000,2498000,699000,2795000,2398000,1599000,1049999,849000,1500000,1299888,899000,890500,699000,499000,1288880,2998000,989000,1398000,779000,1149000,1248000,1279900,818888,1285000,1988800,1885000,724999,2998000,1750000,1590000,1795000,1429999,615000,495000,1401275,1675000,595000,1575000,755000,688000,1170000,2005000,2200000,998000,1750000,685000,1595000,1998000,1798000,989000,629000,445000,299000,2695000,1399999,529888,2549000,673000,220000,2500000,675000,1069000,599000,1995000,1469990,3895000,1399950,1888000,930000,2195000,475000,1438000,2198000,939218,699000,465000,330000,615000,899000,639950,1499000,998000,1995000,1575000,2085000,1699888,1199000,2395950,1328000,689000,2148000,3988000,799000,2898000,738000,1399000,725000,589000,1188800,847000,599900,775000,900000,2788000,599000,1799888,900000,2995000,2650000,3750000,1950000,1380000,3978000,525000,500000,784900,1395000,649000,789000,569000,1699888,2698000,1680000,1800000,924888,1569000,947000,220000,699000,1325000,1550000,2398000,1395000,1525000,1450000,1199000,409000,1748000,1250000,525000,879000,1349000,1199000,1895000,2488000,325000,1498000,1999888,298800,2199888,879000,2998000,2700000,2298000,425000,899000,1190000,3988000,675000,1181995,2688000,1220000,545000,2099500,970000,1399000,1689999,3450000,3098000,2200000,888000,710000,2000000,849900,1150000,1298000,749000,2488000,3500000,2789000,695000,525000,1100000,2599800,1190000,1295000,1799000,1295933,829000,999000,1249000,1299999,1250000,999888,435000,1788000,1649900,538000,875000,1188000,475000,1598888,1998800,2250000,788000,1100000,1050000,699800,699000,1059000,725000,1798000,899000,479000,449000,1595000,2980000,1859000,1999000,1898000,1648000,899000,1998500,749950,649999,299000,450000,1048000,520000,520000,500000,575000,650000,520000,505000,3000000,2680000,3395000,775000,1498888,1599000,1234900,3629000,999888,1149000,3650000,998000,450000,1540000,2299900,950000,912000,569000,1729000,3200000,2550000,1899000,2249000,1550000,1850000,1389000,2249800,995000,1250000,739000,989000,3295000,1795000,1398000,885000,849000,1499000,450000,1450000,1878000,690000,1488888,1499500,1150000,4495000,2998000,1049000,550000,1688000,1499000,1299000,1649000,899000,1549950,1450000,2795000,1799000,1298000,1698000,1249000,279000,1195000,1578000,1795000,325000,825888,949000,1399000,1698000,1098000,995000,724950,1848000,629900,2700000,3999000,299000,420000,509000,4280000,795000,1198000,1998000,798850,1486888,780000,2695000,949000,448000,499000,535000,379000,820000,765000,850000,1679999,649000,3880000,2495000,750000,899900,1288000,599000,1588000,1199000,1880000,2198000,749000,25000,1190000,2888000,445000,429000,1250000,1299888,1995000,1100000,2695000,1700000,1419000,1799000,1290000,1375000,1750000,1029000,618888,429900,1490000,599000,549000,488880,749000,400000,1395000,445000,390000,1815000,545000,573200,965000,998000,2395000,999999,1550000,362000,1350000,1265000,2589000,2898000,1098000,1925000,1349000,3149000,838000,1989000,1498000,2100000,179000,65000,1750000,440000,1195000,3488000,1350000,2400000,799000,2550000,399950,999999,750000,1250000,1095000,2745000,1785000,1495000,675000,1629000,2800000,1165000,1649000,1998000,950000,1650000,4298000,1050000,1350000,749900,798000,1599888,689000,405000,3299950,1680000,1078000,3099903,549000,998000,1750000,1095000,3500000,898000,2398000,2499000,975000,999000,1489000,1100000,2498000,1300000,1450000,1398000,1299000,1309439,899000,798000,1498000,1988888,519888,1298000,2495000,1549000,1850000,849000,1898000,899000,1758000,1450000,1388300,1916742,1301880,1495000,1498000,2008888,2499000,1590000,2998000,1498000,718000,2998000,4495000,899000,850000,719990,1249900,2275000,350000,399000,105000,4500000,1195000,1350000,1279000],\"x0\":\" \",\"xaxis\":\"x\",\"y0\":\" \",\"yaxis\":\"y\",\"type\":\"box\"}],                        {\"template\":{\"data\":{\"bar\":[{\"error_x\":{\"color\":\"#2a3f5f\"},\"error_y\":{\"color\":\"#2a3f5f\"},\"marker\":{\"line\":{\"color\":\"#E5ECF6\",\"width\":0.5},\"pattern\":{\"fillmode\":\"overlay\",\"size\":10,\"solidity\":0.2}},\"type\":\"bar\"}],\"barpolar\":[{\"marker\":{\"line\":{\"color\":\"#E5ECF6\",\"width\":0.5},\"pattern\":{\"fillmode\":\"overlay\",\"size\":10,\"solidity\":0.2}},\"type\":\"barpolar\"}],\"carpet\":[{\"aaxis\":{\"endlinecolor\":\"#2a3f5f\",\"gridcolor\":\"white\",\"linecolor\":\"white\",\"minorgridcolor\":\"white\",\"startlinecolor\":\"#2a3f5f\"},\"baxis\":{\"endlinecolor\":\"#2a3f5f\",\"gridcolor\":\"white\",\"linecolor\":\"white\",\"minorgridcolor\":\"white\",\"startlinecolor\":\"#2a3f5f\"},\"type\":\"carpet\"}],\"choropleth\":[{\"colorbar\":{\"outlinewidth\":0,\"ticks\":\"\"},\"type\":\"choropleth\"}],\"contour\":[{\"colorbar\":{\"outlinewidth\":0,\"ticks\":\"\"},\"colorscale\":[[0.0,\"#0d0887\"],[0.1111111111111111,\"#46039f\"],[0.2222222222222222,\"#7201a8\"],[0.3333333333333333,\"#9c179e\"],[0.4444444444444444,\"#bd3786\"],[0.5555555555555556,\"#d8576b\"],[0.6666666666666666,\"#ed7953\"],[0.7777777777777778,\"#fb9f3a\"],[0.8888888888888888,\"#fdca26\"],[1.0,\"#f0f921\"]],\"type\":\"contour\"}],\"contourcarpet\":[{\"colorbar\":{\"outlinewidth\":0,\"ticks\":\"\"},\"type\":\"contourcarpet\"}],\"heatmap\":[{\"colorbar\":{\"outlinewidth\":0,\"ticks\":\"\"},\"colorscale\":[[0.0,\"#0d0887\"],[0.1111111111111111,\"#46039f\"],[0.2222222222222222,\"#7201a8\"],[0.3333333333333333,\"#9c179e\"],[0.4444444444444444,\"#bd3786\"],[0.5555555555555556,\"#d8576b\"],[0.6666666666666666,\"#ed7953\"],[0.7777777777777778,\"#fb9f3a\"],[0.8888888888888888,\"#fdca26\"],[1.0,\"#f0f921\"]],\"type\":\"heatmap\"}],\"heatmapgl\":[{\"colorbar\":{\"outlinewidth\":0,\"ticks\":\"\"},\"colorscale\":[[0.0,\"#0d0887\"],[0.1111111111111111,\"#46039f\"],[0.2222222222222222,\"#7201a8\"],[0.3333333333333333,\"#9c179e\"],[0.4444444444444444,\"#bd3786\"],[0.5555555555555556,\"#d8576b\"],[0.6666666666666666,\"#ed7953\"],[0.7777777777777778,\"#fb9f3a\"],[0.8888888888888888,\"#fdca26\"],[1.0,\"#f0f921\"]],\"type\":\"heatmapgl\"}],\"histogram\":[{\"marker\":{\"pattern\":{\"fillmode\":\"overlay\",\"size\":10,\"solidity\":0.2}},\"type\":\"histogram\"}],\"histogram2d\":[{\"colorbar\":{\"outlinewidth\":0,\"ticks\":\"\"},\"colorscale\":[[0.0,\"#0d0887\"],[0.1111111111111111,\"#46039f\"],[0.2222222222222222,\"#7201a8\"],[0.3333333333333333,\"#9c179e\"],[0.4444444444444444,\"#bd3786\"],[0.5555555555555556,\"#d8576b\"],[0.6666666666666666,\"#ed7953\"],[0.7777777777777778,\"#fb9f3a\"],[0.8888888888888888,\"#fdca26\"],[1.0,\"#f0f921\"]],\"type\":\"histogram2d\"}],\"histogram2dcontour\":[{\"colorbar\":{\"outlinewidth\":0,\"ticks\":\"\"},\"colorscale\":[[0.0,\"#0d0887\"],[0.1111111111111111,\"#46039f\"],[0.2222222222222222,\"#7201a8\"],[0.3333333333333333,\"#9c179e\"],[0.4444444444444444,\"#bd3786\"],[0.5555555555555556,\"#d8576b\"],[0.6666666666666666,\"#ed7953\"],[0.7777777777777778,\"#fb9f3a\"],[0.8888888888888888,\"#fdca26\"],[1.0,\"#f0f921\"]],\"type\":\"histogram2dcontour\"}],\"mesh3d\":[{\"colorbar\":{\"outlinewidth\":0,\"ticks\":\"\"},\"type\":\"mesh3d\"}],\"parcoords\":[{\"line\":{\"colorbar\":{\"outlinewidth\":0,\"ticks\":\"\"}},\"type\":\"parcoords\"}],\"pie\":[{\"automargin\":true,\"type\":\"pie\"}],\"scatter\":[{\"marker\":{\"colorbar\":{\"outlinewidth\":0,\"ticks\":\"\"}},\"type\":\"scatter\"}],\"scatter3d\":[{\"line\":{\"colorbar\":{\"outlinewidth\":0,\"ticks\":\"\"}},\"marker\":{\"colorbar\":{\"outlinewidth\":0,\"ticks\":\"\"}},\"type\":\"scatter3d\"}],\"scattercarpet\":[{\"marker\":{\"colorbar\":{\"outlinewidth\":0,\"ticks\":\"\"}},\"type\":\"scattercarpet\"}],\"scattergeo\":[{\"marker\":{\"colorbar\":{\"outlinewidth\":0,\"ticks\":\"\"}},\"type\":\"scattergeo\"}],\"scattergl\":[{\"marker\":{\"colorbar\":{\"outlinewidth\":0,\"ticks\":\"\"}},\"type\":\"scattergl\"}],\"scattermapbox\":[{\"marker\":{\"colorbar\":{\"outlinewidth\":0,\"ticks\":\"\"}},\"type\":\"scattermapbox\"}],\"scatterpolar\":[{\"marker\":{\"colorbar\":{\"outlinewidth\":0,\"ticks\":\"\"}},\"type\":\"scatterpolar\"}],\"scatterpolargl\":[{\"marker\":{\"colorbar\":{\"outlinewidth\":0,\"ticks\":\"\"}},\"type\":\"scatterpolargl\"}],\"scatterternary\":[{\"marker\":{\"colorbar\":{\"outlinewidth\":0,\"ticks\":\"\"}},\"type\":\"scatterternary\"}],\"surface\":[{\"colorbar\":{\"outlinewidth\":0,\"ticks\":\"\"},\"colorscale\":[[0.0,\"#0d0887\"],[0.1111111111111111,\"#46039f\"],[0.2222222222222222,\"#7201a8\"],[0.3333333333333333,\"#9c179e\"],[0.4444444444444444,\"#bd3786\"],[0.5555555555555556,\"#d8576b\"],[0.6666666666666666,\"#ed7953\"],[0.7777777777777778,\"#fb9f3a\"],[0.8888888888888888,\"#fdca26\"],[1.0,\"#f0f921\"]],\"type\":\"surface\"}],\"table\":[{\"cells\":{\"fill\":{\"color\":\"#EBF0F8\"},\"line\":{\"color\":\"white\"}},\"header\":{\"fill\":{\"color\":\"#C8D4E3\"},\"line\":{\"color\":\"white\"}},\"type\":\"table\"}]},\"layout\":{\"annotationdefaults\":{\"arrowcolor\":\"#2a3f5f\",\"arrowhead\":0,\"arrowwidth\":1},\"autotypenumbers\":\"strict\",\"coloraxis\":{\"colorbar\":{\"outlinewidth\":0,\"ticks\":\"\"}},\"colorscale\":{\"diverging\":[[0,\"#8e0152\"],[0.1,\"#c51b7d\"],[0.2,\"#de77ae\"],[0.3,\"#f1b6da\"],[0.4,\"#fde0ef\"],[0.5,\"#f7f7f7\"],[0.6,\"#e6f5d0\"],[0.7,\"#b8e186\"],[0.8,\"#7fbc41\"],[0.9,\"#4d9221\"],[1,\"#276419\"]],\"sequential\":[[0.0,\"#0d0887\"],[0.1111111111111111,\"#46039f\"],[0.2222222222222222,\"#7201a8\"],[0.3333333333333333,\"#9c179e\"],[0.4444444444444444,\"#bd3786\"],[0.5555555555555556,\"#d8576b\"],[0.6666666666666666,\"#ed7953\"],[0.7777777777777778,\"#fb9f3a\"],[0.8888888888888888,\"#fdca26\"],[1.0,\"#f0f921\"]],\"sequentialminus\":[[0.0,\"#0d0887\"],[0.1111111111111111,\"#46039f\"],[0.2222222222222222,\"#7201a8\"],[0.3333333333333333,\"#9c179e\"],[0.4444444444444444,\"#bd3786\"],[0.5555555555555556,\"#d8576b\"],[0.6666666666666666,\"#ed7953\"],[0.7777777777777778,\"#fb9f3a\"],[0.8888888888888888,\"#fdca26\"],[1.0,\"#f0f921\"]]},\"colorway\":[\"#636efa\",\"#EF553B\",\"#00cc96\",\"#ab63fa\",\"#FFA15A\",\"#19d3f3\",\"#FF6692\",\"#B6E880\",\"#FF97FF\",\"#FECB52\"],\"font\":{\"color\":\"#2a3f5f\"},\"geo\":{\"bgcolor\":\"white\",\"lakecolor\":\"white\",\"landcolor\":\"#E5ECF6\",\"showlakes\":true,\"showland\":true,\"subunitcolor\":\"white\"},\"hoverlabel\":{\"align\":\"left\"},\"hovermode\":\"closest\",\"mapbox\":{\"style\":\"light\"},\"paper_bgcolor\":\"white\",\"plot_bgcolor\":\"#E5ECF6\",\"polar\":{\"angularaxis\":{\"gridcolor\":\"white\",\"linecolor\":\"white\",\"ticks\":\"\"},\"bgcolor\":\"#E5ECF6\",\"radialaxis\":{\"gridcolor\":\"white\",\"linecolor\":\"white\",\"ticks\":\"\"}},\"scene\":{\"xaxis\":{\"backgroundcolor\":\"#E5ECF6\",\"gridcolor\":\"white\",\"gridwidth\":2,\"linecolor\":\"white\",\"showbackground\":true,\"ticks\":\"\",\"zerolinecolor\":\"white\"},\"yaxis\":{\"backgroundcolor\":\"#E5ECF6\",\"gridcolor\":\"white\",\"gridwidth\":2,\"linecolor\":\"white\",\"showbackground\":true,\"ticks\":\"\",\"zerolinecolor\":\"white\"},\"zaxis\":{\"backgroundcolor\":\"#E5ECF6\",\"gridcolor\":\"white\",\"gridwidth\":2,\"linecolor\":\"white\",\"showbackground\":true,\"ticks\":\"\",\"zerolinecolor\":\"white\"}},\"shapedefaults\":{\"line\":{\"color\":\"#2a3f5f\"}},\"ternary\":{\"aaxis\":{\"gridcolor\":\"white\",\"linecolor\":\"white\",\"ticks\":\"\"},\"baxis\":{\"gridcolor\":\"white\",\"linecolor\":\"white\",\"ticks\":\"\"},\"bgcolor\":\"#E5ECF6\",\"caxis\":{\"gridcolor\":\"white\",\"linecolor\":\"white\",\"ticks\":\"\"}},\"title\":{\"x\":0.05},\"xaxis\":{\"automargin\":true,\"gridcolor\":\"white\",\"linecolor\":\"white\",\"ticks\":\"\",\"title\":{\"standoff\":15},\"zerolinecolor\":\"white\",\"zerolinewidth\":2},\"yaxis\":{\"automargin\":true,\"gridcolor\":\"white\",\"linecolor\":\"white\",\"ticks\":\"\",\"title\":{\"standoff\":15},\"zerolinecolor\":\"white\",\"zerolinewidth\":2}}},\"xaxis\":{\"anchor\":\"y\",\"domain\":[0.0,1.0],\"title\":{\"text\":\"price\"}},\"yaxis\":{\"anchor\":\"x\",\"domain\":[0.0,1.0]},\"legend\":{\"tracegroupgap\":0},\"margin\":{\"t\":60},\"boxmode\":\"group\"},                        {\"responsive\": true}                    ).then(function(){\n",
       "                            \n",
       "var gd = document.getElementById('d5b390f8-4b78-47ac-9313-0fcf0d7b4b71');\n",
       "var x = new MutationObserver(function (mutations, observer) {{\n",
       "        var display = window.getComputedStyle(gd).display;\n",
       "        if (!display || display === 'none') {{\n",
       "            console.log([gd, 'removed!']);\n",
       "            Plotly.purge(gd);\n",
       "            observer.disconnect();\n",
       "        }}\n",
       "}});\n",
       "\n",
       "// Listen for the removal of the full notebook cells\n",
       "var notebookContainer = gd.closest('#notebook-container');\n",
       "if (notebookContainer) {{\n",
       "    x.observe(notebookContainer, {childList: true});\n",
       "}}\n",
       "\n",
       "// Listen for the clearing of the current output cell\n",
       "var outputEl = gd.closest('.output');\n",
       "if (outputEl) {{\n",
       "    x.observe(outputEl, {childList: true});\n",
       "}}\n",
       "\n",
       "                        })                };                });            </script>        </div>"
      ]
     },
     "metadata": {},
     "output_type": "display_data"
    }
   ],
   "source": [
    "fig = px.box(df, x=df['price'])\n",
    "fig.show()"
   ]
  },
  {
   "cell_type": "code",
   "execution_count": 133,
   "id": "291c9abc",
   "metadata": {},
   "outputs": [],
   "source": [
    "import numpy as np\n",
    "df = df[np.abs(df['price'] - df['price'].mean()) <= (2 * df['price'].std())]"
   ]
  },
  {
   "cell_type": "code",
   "execution_count": 134,
   "id": "e2609e65",
   "metadata": {},
   "outputs": [
    {
     "data": {
      "application/vnd.plotly.v1+json": {
       "config": {
        "plotlyServerURL": "https://plot.ly"
       },
       "data": [
        {
         "alignmentgroup": "True",
         "hovertemplate": "price=%{x}<extra></extra>",
         "legendgroup": "",
         "marker": {
          "color": "#636efa"
         },
         "name": "",
         "notched": false,
         "offsetgroup": "",
         "orientation": "h",
         "showlegend": false,
         "type": "box",
         "x": [
          135000,
          375000,
          2700000,
          376500,
          349999,
          180000,
          99000,
          180000,
          399000,
          1695000,
          825000,
          979000,
          788000,
          2840000,
          645000,
          729888,
          898000,
          1839000,
          995000,
          1088000,
          1198000,
          2288888,
          1098000,
          849900,
          2698000,
          2700000,
          848800,
          349995,
          1488888,
          2488000,
          1748000,
          2199950,
          1900000,
          1798000,
          199999,
          2788000,
          1299888,
          1648000,
          1680000,
          849000,
          1288000,
          1083000,
          349888,
          319000,
          595000,
          2189000,
          1498000,
          2145000,
          469000,
          1748888,
          1699999,
          1050000,
          650000,
          599000,
          360000,
          1425000,
          1724990,
          1898000,
          1099950,
          799000,
          1075000,
          515700,
          439000,
          419500,
          1605000,
          875000,
          1750000,
          3100000,
          1488000,
          1249800,
          958000,
          425000,
          2390000,
          999800,
          895000,
          995000,
          849000,
          1399000,
          248000,
          625000,
          3200000,
          2349500,
          1099000,
          599000,
          1468000,
          950000,
          695000,
          419000,
          1600000,
          1375000,
          2195000,
          1295000,
          907000,
          1450000,
          1538000,
          1899000,
          274900,
          169000,
          180000,
          299900,
          738000,
          899000,
          995000,
          1988800,
          1049000,
          359000,
          428000,
          1495000,
          699999,
          950000,
          989888,
          1726888,
          1150000,
          491800,
          999000,
          1049000,
          1088000,
          730000,
          1795000,
          2148000,
          799000,
          845000,
          859950,
          699975,
          2988000,
          2498000,
          3295000,
          959000,
          339000,
          764000,
          1949000,
          1500000,
          575000,
          549000,
          1750000,
          810000,
          850000,
          1998000,
          441000,
          1160000,
          550000,
          2950000,
          1950000,
          876000,
          3300000,
          1698000,
          2498000,
          888888,
          849000,
          1799888,
          1495000,
          2238000,
          1285000,
          525000,
          800000,
          2500000,
          90000,
          939000,
          2698000,
          1225000,
          639000,
          948000,
          2450000,
          699000,
          1095000,
          2476000,
          3200000,
          299888,
          898800,
          750000,
          899000,
          599000,
          998000,
          829000,
          789000,
          1498000,
          520000,
          2798000,
          2200000,
          449000,
          245000,
          1650000,
          1500000,
          215000,
          878000,
          550000,
          855000,
          1295000,
          499000,
          995000,
          880000,
          1049000,
          1095000,
          499999,
          1195000,
          679000,
          960000,
          749000,
          2398000,
          1269000,
          2400000,
          1240000,
          1648000,
          2700000,
          1325000,
          925000,
          1350000,
          843000,
          1999999,
          2699000,
          2588000,
          2700000,
          680000,
          1979000,
          1278000,
          1250000,
          750000,
          1650000,
          932000,
          689500,
          2100000,
          789500,
          799000,
          749888,
          1310000,
          2500000,
          898000,
          850000,
          1375000,
          799000,
          699999,
          649895,
          2588000,
          1100000,
          775000,
          799000,
          739000,
          1328000,
          1095000,
          1050000,
          1088000,
          469000,
          1600000,
          1698989,
          2599999,
          939000,
          1198000,
          1899000,
          750000,
          899000,
          1100000,
          2688000,
          1750000,
          1499000,
          275000,
          1299000,
          1165000,
          2098000,
          799000,
          1688888,
          352000,
          2495000,
          2495000,
          128000,
          1788880,
          529900,
          2348000,
          998888,
          825000,
          1949000,
          1549000,
          1388000,
          1695000,
          775000,
          1395000,
          1399000,
          899950,
          995000,
          1358800,
          425000,
          975000,
          699888,
          1749000,
          817000,
          969999,
          1725000,
          2998000,
          1449990,
          1750000,
          2935000,
          3250000,
          795000,
          1200000,
          899000,
          3225000,
          549888,
          974888,
          750000,
          499000,
          572500,
          1199000,
          875000,
          699950,
          3150000,
          1849000,
          710000,
          2498888,
          959000,
          1750000,
          1498000,
          785000,
          1195000,
          1800000,
          2388000,
          2498000,
          699000,
          2795000,
          2398000,
          1599000,
          1049999,
          849000,
          1500000,
          1299888,
          899000,
          890500,
          699000,
          499000,
          1288880,
          2998000,
          989000,
          1398000,
          779000,
          1149000,
          1248000,
          1279900,
          818888,
          1285000,
          1988800,
          1885000,
          724999,
          2998000,
          1750000,
          1590000,
          1795000,
          1429999,
          615000,
          495000,
          1401275,
          1675000,
          595000,
          1575000,
          755000,
          688000,
          1170000,
          2005000,
          2200000,
          998000,
          1750000,
          685000,
          1595000,
          1998000,
          1798000,
          989000,
          629000,
          445000,
          299000,
          2695000,
          1399999,
          529888,
          2549000,
          673000,
          220000,
          2500000,
          675000,
          1069000,
          599000,
          1995000,
          1469990,
          1399950,
          1888000,
          930000,
          2195000,
          475000,
          1438000,
          2198000,
          939218,
          699000,
          465000,
          330000,
          615000,
          899000,
          639950,
          1499000,
          998000,
          1995000,
          1575000,
          2085000,
          1699888,
          1199000,
          2395950,
          1328000,
          689000,
          2148000,
          799000,
          2898000,
          738000,
          1399000,
          725000,
          589000,
          1188800,
          847000,
          599900,
          775000,
          900000,
          2788000,
          599000,
          1799888,
          900000,
          2995000,
          2650000,
          1950000,
          1380000,
          525000,
          500000,
          784900,
          1395000,
          649000,
          789000,
          569000,
          1699888,
          2698000,
          1680000,
          1800000,
          924888,
          1569000,
          947000,
          220000,
          699000,
          1325000,
          1550000,
          2398000,
          1395000,
          1525000,
          1450000,
          1199000,
          409000,
          1748000,
          1250000,
          525000,
          879000,
          1349000,
          1199000,
          1895000,
          2488000,
          325000,
          1498000,
          1999888,
          298800,
          2199888,
          879000,
          2998000,
          2700000,
          2298000,
          425000,
          899000,
          1190000,
          675000,
          1181995,
          2688000,
          1220000,
          545000,
          2099500,
          970000,
          1399000,
          1689999,
          3098000,
          2200000,
          888000,
          710000,
          2000000,
          849900,
          1150000,
          1298000,
          749000,
          2488000,
          2789000,
          695000,
          525000,
          1100000,
          2599800,
          1190000,
          1295000,
          1799000,
          1295933,
          829000,
          999000,
          1249000,
          1299999,
          1250000,
          999888,
          435000,
          1788000,
          1649900,
          538000,
          875000,
          1188000,
          475000,
          1598888,
          1998800,
          2250000,
          788000,
          1100000,
          1050000,
          699800,
          699000,
          1059000,
          725000,
          1798000,
          899000,
          479000,
          449000,
          1595000,
          2980000,
          1859000,
          1999000,
          1898000,
          1648000,
          899000,
          1998500,
          749950,
          649999,
          299000,
          450000,
          1048000,
          520000,
          520000,
          500000,
          575000,
          650000,
          520000,
          505000,
          3000000,
          2680000,
          775000,
          1498888,
          1599000,
          1234900,
          999888,
          1149000,
          998000,
          450000,
          1540000,
          2299900,
          950000,
          912000,
          569000,
          1729000,
          3200000,
          2550000,
          1899000,
          2249000,
          1550000,
          1850000,
          1389000,
          2249800,
          995000,
          1250000,
          739000,
          989000,
          3295000,
          1795000,
          1398000,
          885000,
          849000,
          1499000,
          450000,
          1450000,
          1878000,
          690000,
          1488888,
          1499500,
          1150000,
          2998000,
          1049000,
          550000,
          1688000,
          1499000,
          1299000,
          1649000,
          899000,
          1549950,
          1450000,
          2795000,
          1799000,
          1298000,
          1698000,
          1249000,
          279000,
          1195000,
          1578000,
          1795000,
          325000,
          825888,
          949000,
          1399000,
          1698000,
          1098000,
          995000,
          724950,
          1848000,
          629900,
          2700000,
          299000,
          420000,
          509000,
          795000,
          1198000,
          1998000,
          798850,
          1486888,
          780000,
          2695000,
          949000,
          448000,
          499000,
          535000,
          379000,
          820000,
          765000,
          850000,
          1679999,
          649000,
          2495000,
          750000,
          899900,
          1288000,
          599000,
          1588000,
          1199000,
          1880000,
          2198000,
          749000,
          25000,
          1190000,
          2888000,
          445000,
          429000,
          1250000,
          1299888,
          1995000,
          1100000,
          2695000,
          1700000,
          1419000,
          1799000,
          1290000,
          1375000,
          1750000,
          1029000,
          618888,
          429900,
          1490000,
          599000,
          549000,
          488880,
          749000,
          400000,
          1395000,
          445000,
          390000,
          1815000,
          545000,
          573200,
          965000,
          998000,
          2395000,
          999999,
          1550000,
          362000,
          1350000,
          1265000,
          2589000,
          2898000,
          1098000,
          1925000,
          1349000,
          3149000,
          838000,
          1989000,
          1498000,
          2100000,
          179000,
          65000,
          1750000,
          440000,
          1195000,
          1350000,
          2400000,
          799000,
          2550000,
          399950,
          999999,
          750000,
          1250000,
          1095000,
          2745000,
          1785000,
          1495000,
          675000,
          1629000,
          2800000,
          1165000,
          1649000,
          1998000,
          950000,
          1650000,
          1050000,
          1350000,
          749900,
          798000,
          1599888,
          689000,
          405000,
          3299950,
          1680000,
          1078000,
          3099903,
          549000,
          998000,
          1750000,
          1095000,
          898000,
          2398000,
          2499000,
          975000,
          999000,
          1489000,
          1100000,
          2498000,
          1300000,
          1450000,
          1398000,
          1299000,
          1309439,
          899000,
          798000,
          1498000,
          1988888,
          519888,
          1298000,
          2495000,
          1549000,
          1850000,
          849000,
          1898000,
          899000,
          1758000,
          1450000,
          1388300,
          1916742,
          1301880,
          1495000,
          1498000,
          2008888,
          2499000,
          1590000,
          2998000,
          1498000,
          718000,
          2998000,
          899000,
          850000,
          719990,
          1249900,
          2275000,
          350000,
          399000,
          105000,
          1195000,
          1350000,
          1279000
         ],
         "x0": " ",
         "xaxis": "x",
         "y0": " ",
         "yaxis": "y"
        }
       ],
       "layout": {
        "boxmode": "group",
        "legend": {
         "tracegroupgap": 0
        },
        "margin": {
         "t": 60
        },
        "template": {
         "data": {
          "bar": [
           {
            "error_x": {
             "color": "#2a3f5f"
            },
            "error_y": {
             "color": "#2a3f5f"
            },
            "marker": {
             "line": {
              "color": "#E5ECF6",
              "width": 0.5
             },
             "pattern": {
              "fillmode": "overlay",
              "size": 10,
              "solidity": 0.2
             }
            },
            "type": "bar"
           }
          ],
          "barpolar": [
           {
            "marker": {
             "line": {
              "color": "#E5ECF6",
              "width": 0.5
             },
             "pattern": {
              "fillmode": "overlay",
              "size": 10,
              "solidity": 0.2
             }
            },
            "type": "barpolar"
           }
          ],
          "carpet": [
           {
            "aaxis": {
             "endlinecolor": "#2a3f5f",
             "gridcolor": "white",
             "linecolor": "white",
             "minorgridcolor": "white",
             "startlinecolor": "#2a3f5f"
            },
            "baxis": {
             "endlinecolor": "#2a3f5f",
             "gridcolor": "white",
             "linecolor": "white",
             "minorgridcolor": "white",
             "startlinecolor": "#2a3f5f"
            },
            "type": "carpet"
           }
          ],
          "choropleth": [
           {
            "colorbar": {
             "outlinewidth": 0,
             "ticks": ""
            },
            "type": "choropleth"
           }
          ],
          "contour": [
           {
            "colorbar": {
             "outlinewidth": 0,
             "ticks": ""
            },
            "colorscale": [
             [
              0,
              "#0d0887"
             ],
             [
              0.1111111111111111,
              "#46039f"
             ],
             [
              0.2222222222222222,
              "#7201a8"
             ],
             [
              0.3333333333333333,
              "#9c179e"
             ],
             [
              0.4444444444444444,
              "#bd3786"
             ],
             [
              0.5555555555555556,
              "#d8576b"
             ],
             [
              0.6666666666666666,
              "#ed7953"
             ],
             [
              0.7777777777777778,
              "#fb9f3a"
             ],
             [
              0.8888888888888888,
              "#fdca26"
             ],
             [
              1,
              "#f0f921"
             ]
            ],
            "type": "contour"
           }
          ],
          "contourcarpet": [
           {
            "colorbar": {
             "outlinewidth": 0,
             "ticks": ""
            },
            "type": "contourcarpet"
           }
          ],
          "heatmap": [
           {
            "colorbar": {
             "outlinewidth": 0,
             "ticks": ""
            },
            "colorscale": [
             [
              0,
              "#0d0887"
             ],
             [
              0.1111111111111111,
              "#46039f"
             ],
             [
              0.2222222222222222,
              "#7201a8"
             ],
             [
              0.3333333333333333,
              "#9c179e"
             ],
             [
              0.4444444444444444,
              "#bd3786"
             ],
             [
              0.5555555555555556,
              "#d8576b"
             ],
             [
              0.6666666666666666,
              "#ed7953"
             ],
             [
              0.7777777777777778,
              "#fb9f3a"
             ],
             [
              0.8888888888888888,
              "#fdca26"
             ],
             [
              1,
              "#f0f921"
             ]
            ],
            "type": "heatmap"
           }
          ],
          "heatmapgl": [
           {
            "colorbar": {
             "outlinewidth": 0,
             "ticks": ""
            },
            "colorscale": [
             [
              0,
              "#0d0887"
             ],
             [
              0.1111111111111111,
              "#46039f"
             ],
             [
              0.2222222222222222,
              "#7201a8"
             ],
             [
              0.3333333333333333,
              "#9c179e"
             ],
             [
              0.4444444444444444,
              "#bd3786"
             ],
             [
              0.5555555555555556,
              "#d8576b"
             ],
             [
              0.6666666666666666,
              "#ed7953"
             ],
             [
              0.7777777777777778,
              "#fb9f3a"
             ],
             [
              0.8888888888888888,
              "#fdca26"
             ],
             [
              1,
              "#f0f921"
             ]
            ],
            "type": "heatmapgl"
           }
          ],
          "histogram": [
           {
            "marker": {
             "pattern": {
              "fillmode": "overlay",
              "size": 10,
              "solidity": 0.2
             }
            },
            "type": "histogram"
           }
          ],
          "histogram2d": [
           {
            "colorbar": {
             "outlinewidth": 0,
             "ticks": ""
            },
            "colorscale": [
             [
              0,
              "#0d0887"
             ],
             [
              0.1111111111111111,
              "#46039f"
             ],
             [
              0.2222222222222222,
              "#7201a8"
             ],
             [
              0.3333333333333333,
              "#9c179e"
             ],
             [
              0.4444444444444444,
              "#bd3786"
             ],
             [
              0.5555555555555556,
              "#d8576b"
             ],
             [
              0.6666666666666666,
              "#ed7953"
             ],
             [
              0.7777777777777778,
              "#fb9f3a"
             ],
             [
              0.8888888888888888,
              "#fdca26"
             ],
             [
              1,
              "#f0f921"
             ]
            ],
            "type": "histogram2d"
           }
          ],
          "histogram2dcontour": [
           {
            "colorbar": {
             "outlinewidth": 0,
             "ticks": ""
            },
            "colorscale": [
             [
              0,
              "#0d0887"
             ],
             [
              0.1111111111111111,
              "#46039f"
             ],
             [
              0.2222222222222222,
              "#7201a8"
             ],
             [
              0.3333333333333333,
              "#9c179e"
             ],
             [
              0.4444444444444444,
              "#bd3786"
             ],
             [
              0.5555555555555556,
              "#d8576b"
             ],
             [
              0.6666666666666666,
              "#ed7953"
             ],
             [
              0.7777777777777778,
              "#fb9f3a"
             ],
             [
              0.8888888888888888,
              "#fdca26"
             ],
             [
              1,
              "#f0f921"
             ]
            ],
            "type": "histogram2dcontour"
           }
          ],
          "mesh3d": [
           {
            "colorbar": {
             "outlinewidth": 0,
             "ticks": ""
            },
            "type": "mesh3d"
           }
          ],
          "parcoords": [
           {
            "line": {
             "colorbar": {
              "outlinewidth": 0,
              "ticks": ""
             }
            },
            "type": "parcoords"
           }
          ],
          "pie": [
           {
            "automargin": true,
            "type": "pie"
           }
          ],
          "scatter": [
           {
            "marker": {
             "colorbar": {
              "outlinewidth": 0,
              "ticks": ""
             }
            },
            "type": "scatter"
           }
          ],
          "scatter3d": [
           {
            "line": {
             "colorbar": {
              "outlinewidth": 0,
              "ticks": ""
             }
            },
            "marker": {
             "colorbar": {
              "outlinewidth": 0,
              "ticks": ""
             }
            },
            "type": "scatter3d"
           }
          ],
          "scattercarpet": [
           {
            "marker": {
             "colorbar": {
              "outlinewidth": 0,
              "ticks": ""
             }
            },
            "type": "scattercarpet"
           }
          ],
          "scattergeo": [
           {
            "marker": {
             "colorbar": {
              "outlinewidth": 0,
              "ticks": ""
             }
            },
            "type": "scattergeo"
           }
          ],
          "scattergl": [
           {
            "marker": {
             "colorbar": {
              "outlinewidth": 0,
              "ticks": ""
             }
            },
            "type": "scattergl"
           }
          ],
          "scattermapbox": [
           {
            "marker": {
             "colorbar": {
              "outlinewidth": 0,
              "ticks": ""
             }
            },
            "type": "scattermapbox"
           }
          ],
          "scatterpolar": [
           {
            "marker": {
             "colorbar": {
              "outlinewidth": 0,
              "ticks": ""
             }
            },
            "type": "scatterpolar"
           }
          ],
          "scatterpolargl": [
           {
            "marker": {
             "colorbar": {
              "outlinewidth": 0,
              "ticks": ""
             }
            },
            "type": "scatterpolargl"
           }
          ],
          "scatterternary": [
           {
            "marker": {
             "colorbar": {
              "outlinewidth": 0,
              "ticks": ""
             }
            },
            "type": "scatterternary"
           }
          ],
          "surface": [
           {
            "colorbar": {
             "outlinewidth": 0,
             "ticks": ""
            },
            "colorscale": [
             [
              0,
              "#0d0887"
             ],
             [
              0.1111111111111111,
              "#46039f"
             ],
             [
              0.2222222222222222,
              "#7201a8"
             ],
             [
              0.3333333333333333,
              "#9c179e"
             ],
             [
              0.4444444444444444,
              "#bd3786"
             ],
             [
              0.5555555555555556,
              "#d8576b"
             ],
             [
              0.6666666666666666,
              "#ed7953"
             ],
             [
              0.7777777777777778,
              "#fb9f3a"
             ],
             [
              0.8888888888888888,
              "#fdca26"
             ],
             [
              1,
              "#f0f921"
             ]
            ],
            "type": "surface"
           }
          ],
          "table": [
           {
            "cells": {
             "fill": {
              "color": "#EBF0F8"
             },
             "line": {
              "color": "white"
             }
            },
            "header": {
             "fill": {
              "color": "#C8D4E3"
             },
             "line": {
              "color": "white"
             }
            },
            "type": "table"
           }
          ]
         },
         "layout": {
          "annotationdefaults": {
           "arrowcolor": "#2a3f5f",
           "arrowhead": 0,
           "arrowwidth": 1
          },
          "autotypenumbers": "strict",
          "coloraxis": {
           "colorbar": {
            "outlinewidth": 0,
            "ticks": ""
           }
          },
          "colorscale": {
           "diverging": [
            [
             0,
             "#8e0152"
            ],
            [
             0.1,
             "#c51b7d"
            ],
            [
             0.2,
             "#de77ae"
            ],
            [
             0.3,
             "#f1b6da"
            ],
            [
             0.4,
             "#fde0ef"
            ],
            [
             0.5,
             "#f7f7f7"
            ],
            [
             0.6,
             "#e6f5d0"
            ],
            [
             0.7,
             "#b8e186"
            ],
            [
             0.8,
             "#7fbc41"
            ],
            [
             0.9,
             "#4d9221"
            ],
            [
             1,
             "#276419"
            ]
           ],
           "sequential": [
            [
             0,
             "#0d0887"
            ],
            [
             0.1111111111111111,
             "#46039f"
            ],
            [
             0.2222222222222222,
             "#7201a8"
            ],
            [
             0.3333333333333333,
             "#9c179e"
            ],
            [
             0.4444444444444444,
             "#bd3786"
            ],
            [
             0.5555555555555556,
             "#d8576b"
            ],
            [
             0.6666666666666666,
             "#ed7953"
            ],
            [
             0.7777777777777778,
             "#fb9f3a"
            ],
            [
             0.8888888888888888,
             "#fdca26"
            ],
            [
             1,
             "#f0f921"
            ]
           ],
           "sequentialminus": [
            [
             0,
             "#0d0887"
            ],
            [
             0.1111111111111111,
             "#46039f"
            ],
            [
             0.2222222222222222,
             "#7201a8"
            ],
            [
             0.3333333333333333,
             "#9c179e"
            ],
            [
             0.4444444444444444,
             "#bd3786"
            ],
            [
             0.5555555555555556,
             "#d8576b"
            ],
            [
             0.6666666666666666,
             "#ed7953"
            ],
            [
             0.7777777777777778,
             "#fb9f3a"
            ],
            [
             0.8888888888888888,
             "#fdca26"
            ],
            [
             1,
             "#f0f921"
            ]
           ]
          },
          "colorway": [
           "#636efa",
           "#EF553B",
           "#00cc96",
           "#ab63fa",
           "#FFA15A",
           "#19d3f3",
           "#FF6692",
           "#B6E880",
           "#FF97FF",
           "#FECB52"
          ],
          "font": {
           "color": "#2a3f5f"
          },
          "geo": {
           "bgcolor": "white",
           "lakecolor": "white",
           "landcolor": "#E5ECF6",
           "showlakes": true,
           "showland": true,
           "subunitcolor": "white"
          },
          "hoverlabel": {
           "align": "left"
          },
          "hovermode": "closest",
          "mapbox": {
           "style": "light"
          },
          "paper_bgcolor": "white",
          "plot_bgcolor": "#E5ECF6",
          "polar": {
           "angularaxis": {
            "gridcolor": "white",
            "linecolor": "white",
            "ticks": ""
           },
           "bgcolor": "#E5ECF6",
           "radialaxis": {
            "gridcolor": "white",
            "linecolor": "white",
            "ticks": ""
           }
          },
          "scene": {
           "xaxis": {
            "backgroundcolor": "#E5ECF6",
            "gridcolor": "white",
            "gridwidth": 2,
            "linecolor": "white",
            "showbackground": true,
            "ticks": "",
            "zerolinecolor": "white"
           },
           "yaxis": {
            "backgroundcolor": "#E5ECF6",
            "gridcolor": "white",
            "gridwidth": 2,
            "linecolor": "white",
            "showbackground": true,
            "ticks": "",
            "zerolinecolor": "white"
           },
           "zaxis": {
            "backgroundcolor": "#E5ECF6",
            "gridcolor": "white",
            "gridwidth": 2,
            "linecolor": "white",
            "showbackground": true,
            "ticks": "",
            "zerolinecolor": "white"
           }
          },
          "shapedefaults": {
           "line": {
            "color": "#2a3f5f"
           }
          },
          "ternary": {
           "aaxis": {
            "gridcolor": "white",
            "linecolor": "white",
            "ticks": ""
           },
           "baxis": {
            "gridcolor": "white",
            "linecolor": "white",
            "ticks": ""
           },
           "bgcolor": "#E5ECF6",
           "caxis": {
            "gridcolor": "white",
            "linecolor": "white",
            "ticks": ""
           }
          },
          "title": {
           "x": 0.05
          },
          "xaxis": {
           "automargin": true,
           "gridcolor": "white",
           "linecolor": "white",
           "ticks": "",
           "title": {
            "standoff": 15
           },
           "zerolinecolor": "white",
           "zerolinewidth": 2
          },
          "yaxis": {
           "automargin": true,
           "gridcolor": "white",
           "linecolor": "white",
           "ticks": "",
           "title": {
            "standoff": 15
           },
           "zerolinecolor": "white",
           "zerolinewidth": 2
          }
         }
        },
        "xaxis": {
         "anchor": "y",
         "domain": [
          0,
          1
         ],
         "title": {
          "text": "price"
         }
        },
        "yaxis": {
         "anchor": "x",
         "domain": [
          0,
          1
         ]
        }
       }
      },
      "text/html": [
       "<div>                            <div id=\"7b0f324f-27cc-476f-9c3f-95315da91e4c\" class=\"plotly-graph-div\" style=\"height:525px; width:100%;\"></div>            <script type=\"text/javascript\">                require([\"plotly\"], function(Plotly) {                    window.PLOTLYENV=window.PLOTLYENV || {};                                    if (document.getElementById(\"7b0f324f-27cc-476f-9c3f-95315da91e4c\")) {                    Plotly.newPlot(                        \"7b0f324f-27cc-476f-9c3f-95315da91e4c\",                        [{\"alignmentgroup\":\"True\",\"hovertemplate\":\"price=%{x}<extra></extra>\",\"legendgroup\":\"\",\"marker\":{\"color\":\"#636efa\"},\"name\":\"\",\"notched\":false,\"offsetgroup\":\"\",\"orientation\":\"h\",\"showlegend\":false,\"x\":[135000,375000,2700000,376500,349999,180000,99000,180000,399000,1695000,825000,979000,788000,2840000,645000,729888,898000,1839000,995000,1088000,1198000,2288888,1098000,849900,2698000,2700000,848800,349995,1488888,2488000,1748000,2199950,1900000,1798000,199999,2788000,1299888,1648000,1680000,849000,1288000,1083000,349888,319000,595000,2189000,1498000,2145000,469000,1748888,1699999,1050000,650000,599000,360000,1425000,1724990,1898000,1099950,799000,1075000,515700,439000,419500,1605000,875000,1750000,3100000,1488000,1249800,958000,425000,2390000,999800,895000,995000,849000,1399000,248000,625000,3200000,2349500,1099000,599000,1468000,950000,695000,419000,1600000,1375000,2195000,1295000,907000,1450000,1538000,1899000,274900,169000,180000,299900,738000,899000,995000,1988800,1049000,359000,428000,1495000,699999,950000,989888,1726888,1150000,491800,999000,1049000,1088000,730000,1795000,2148000,799000,845000,859950,699975,2988000,2498000,3295000,959000,339000,764000,1949000,1500000,575000,549000,1750000,810000,850000,1998000,441000,1160000,550000,2950000,1950000,876000,3300000,1698000,2498000,888888,849000,1799888,1495000,2238000,1285000,525000,800000,2500000,90000,939000,2698000,1225000,639000,948000,2450000,699000,1095000,2476000,3200000,299888,898800,750000,899000,599000,998000,829000,789000,1498000,520000,2798000,2200000,449000,245000,1650000,1500000,215000,878000,550000,855000,1295000,499000,995000,880000,1049000,1095000,499999,1195000,679000,960000,749000,2398000,1269000,2400000,1240000,1648000,2700000,1325000,925000,1350000,843000,1999999,2699000,2588000,2700000,680000,1979000,1278000,1250000,750000,1650000,932000,689500,2100000,789500,799000,749888,1310000,2500000,898000,850000,1375000,799000,699999,649895,2588000,1100000,775000,799000,739000,1328000,1095000,1050000,1088000,469000,1600000,1698989,2599999,939000,1198000,1899000,750000,899000,1100000,2688000,1750000,1499000,275000,1299000,1165000,2098000,799000,1688888,352000,2495000,2495000,128000,1788880,529900,2348000,998888,825000,1949000,1549000,1388000,1695000,775000,1395000,1399000,899950,995000,1358800,425000,975000,699888,1749000,817000,969999,1725000,2998000,1449990,1750000,2935000,3250000,795000,1200000,899000,3225000,549888,974888,750000,499000,572500,1199000,875000,699950,3150000,1849000,710000,2498888,959000,1750000,1498000,785000,1195000,1800000,2388000,2498000,699000,2795000,2398000,1599000,1049999,849000,1500000,1299888,899000,890500,699000,499000,1288880,2998000,989000,1398000,779000,1149000,1248000,1279900,818888,1285000,1988800,1885000,724999,2998000,1750000,1590000,1795000,1429999,615000,495000,1401275,1675000,595000,1575000,755000,688000,1170000,2005000,2200000,998000,1750000,685000,1595000,1998000,1798000,989000,629000,445000,299000,2695000,1399999,529888,2549000,673000,220000,2500000,675000,1069000,599000,1995000,1469990,1399950,1888000,930000,2195000,475000,1438000,2198000,939218,699000,465000,330000,615000,899000,639950,1499000,998000,1995000,1575000,2085000,1699888,1199000,2395950,1328000,689000,2148000,799000,2898000,738000,1399000,725000,589000,1188800,847000,599900,775000,900000,2788000,599000,1799888,900000,2995000,2650000,1950000,1380000,525000,500000,784900,1395000,649000,789000,569000,1699888,2698000,1680000,1800000,924888,1569000,947000,220000,699000,1325000,1550000,2398000,1395000,1525000,1450000,1199000,409000,1748000,1250000,525000,879000,1349000,1199000,1895000,2488000,325000,1498000,1999888,298800,2199888,879000,2998000,2700000,2298000,425000,899000,1190000,675000,1181995,2688000,1220000,545000,2099500,970000,1399000,1689999,3098000,2200000,888000,710000,2000000,849900,1150000,1298000,749000,2488000,2789000,695000,525000,1100000,2599800,1190000,1295000,1799000,1295933,829000,999000,1249000,1299999,1250000,999888,435000,1788000,1649900,538000,875000,1188000,475000,1598888,1998800,2250000,788000,1100000,1050000,699800,699000,1059000,725000,1798000,899000,479000,449000,1595000,2980000,1859000,1999000,1898000,1648000,899000,1998500,749950,649999,299000,450000,1048000,520000,520000,500000,575000,650000,520000,505000,3000000,2680000,775000,1498888,1599000,1234900,999888,1149000,998000,450000,1540000,2299900,950000,912000,569000,1729000,3200000,2550000,1899000,2249000,1550000,1850000,1389000,2249800,995000,1250000,739000,989000,3295000,1795000,1398000,885000,849000,1499000,450000,1450000,1878000,690000,1488888,1499500,1150000,2998000,1049000,550000,1688000,1499000,1299000,1649000,899000,1549950,1450000,2795000,1799000,1298000,1698000,1249000,279000,1195000,1578000,1795000,325000,825888,949000,1399000,1698000,1098000,995000,724950,1848000,629900,2700000,299000,420000,509000,795000,1198000,1998000,798850,1486888,780000,2695000,949000,448000,499000,535000,379000,820000,765000,850000,1679999,649000,2495000,750000,899900,1288000,599000,1588000,1199000,1880000,2198000,749000,25000,1190000,2888000,445000,429000,1250000,1299888,1995000,1100000,2695000,1700000,1419000,1799000,1290000,1375000,1750000,1029000,618888,429900,1490000,599000,549000,488880,749000,400000,1395000,445000,390000,1815000,545000,573200,965000,998000,2395000,999999,1550000,362000,1350000,1265000,2589000,2898000,1098000,1925000,1349000,3149000,838000,1989000,1498000,2100000,179000,65000,1750000,440000,1195000,1350000,2400000,799000,2550000,399950,999999,750000,1250000,1095000,2745000,1785000,1495000,675000,1629000,2800000,1165000,1649000,1998000,950000,1650000,1050000,1350000,749900,798000,1599888,689000,405000,3299950,1680000,1078000,3099903,549000,998000,1750000,1095000,898000,2398000,2499000,975000,999000,1489000,1100000,2498000,1300000,1450000,1398000,1299000,1309439,899000,798000,1498000,1988888,519888,1298000,2495000,1549000,1850000,849000,1898000,899000,1758000,1450000,1388300,1916742,1301880,1495000,1498000,2008888,2499000,1590000,2998000,1498000,718000,2998000,899000,850000,719990,1249900,2275000,350000,399000,105000,1195000,1350000,1279000],\"x0\":\" \",\"xaxis\":\"x\",\"y0\":\" \",\"yaxis\":\"y\",\"type\":\"box\"}],                        {\"template\":{\"data\":{\"bar\":[{\"error_x\":{\"color\":\"#2a3f5f\"},\"error_y\":{\"color\":\"#2a3f5f\"},\"marker\":{\"line\":{\"color\":\"#E5ECF6\",\"width\":0.5},\"pattern\":{\"fillmode\":\"overlay\",\"size\":10,\"solidity\":0.2}},\"type\":\"bar\"}],\"barpolar\":[{\"marker\":{\"line\":{\"color\":\"#E5ECF6\",\"width\":0.5},\"pattern\":{\"fillmode\":\"overlay\",\"size\":10,\"solidity\":0.2}},\"type\":\"barpolar\"}],\"carpet\":[{\"aaxis\":{\"endlinecolor\":\"#2a3f5f\",\"gridcolor\":\"white\",\"linecolor\":\"white\",\"minorgridcolor\":\"white\",\"startlinecolor\":\"#2a3f5f\"},\"baxis\":{\"endlinecolor\":\"#2a3f5f\",\"gridcolor\":\"white\",\"linecolor\":\"white\",\"minorgridcolor\":\"white\",\"startlinecolor\":\"#2a3f5f\"},\"type\":\"carpet\"}],\"choropleth\":[{\"colorbar\":{\"outlinewidth\":0,\"ticks\":\"\"},\"type\":\"choropleth\"}],\"contour\":[{\"colorbar\":{\"outlinewidth\":0,\"ticks\":\"\"},\"colorscale\":[[0.0,\"#0d0887\"],[0.1111111111111111,\"#46039f\"],[0.2222222222222222,\"#7201a8\"],[0.3333333333333333,\"#9c179e\"],[0.4444444444444444,\"#bd3786\"],[0.5555555555555556,\"#d8576b\"],[0.6666666666666666,\"#ed7953\"],[0.7777777777777778,\"#fb9f3a\"],[0.8888888888888888,\"#fdca26\"],[1.0,\"#f0f921\"]],\"type\":\"contour\"}],\"contourcarpet\":[{\"colorbar\":{\"outlinewidth\":0,\"ticks\":\"\"},\"type\":\"contourcarpet\"}],\"heatmap\":[{\"colorbar\":{\"outlinewidth\":0,\"ticks\":\"\"},\"colorscale\":[[0.0,\"#0d0887\"],[0.1111111111111111,\"#46039f\"],[0.2222222222222222,\"#7201a8\"],[0.3333333333333333,\"#9c179e\"],[0.4444444444444444,\"#bd3786\"],[0.5555555555555556,\"#d8576b\"],[0.6666666666666666,\"#ed7953\"],[0.7777777777777778,\"#fb9f3a\"],[0.8888888888888888,\"#fdca26\"],[1.0,\"#f0f921\"]],\"type\":\"heatmap\"}],\"heatmapgl\":[{\"colorbar\":{\"outlinewidth\":0,\"ticks\":\"\"},\"colorscale\":[[0.0,\"#0d0887\"],[0.1111111111111111,\"#46039f\"],[0.2222222222222222,\"#7201a8\"],[0.3333333333333333,\"#9c179e\"],[0.4444444444444444,\"#bd3786\"],[0.5555555555555556,\"#d8576b\"],[0.6666666666666666,\"#ed7953\"],[0.7777777777777778,\"#fb9f3a\"],[0.8888888888888888,\"#fdca26\"],[1.0,\"#f0f921\"]],\"type\":\"heatmapgl\"}],\"histogram\":[{\"marker\":{\"pattern\":{\"fillmode\":\"overlay\",\"size\":10,\"solidity\":0.2}},\"type\":\"histogram\"}],\"histogram2d\":[{\"colorbar\":{\"outlinewidth\":0,\"ticks\":\"\"},\"colorscale\":[[0.0,\"#0d0887\"],[0.1111111111111111,\"#46039f\"],[0.2222222222222222,\"#7201a8\"],[0.3333333333333333,\"#9c179e\"],[0.4444444444444444,\"#bd3786\"],[0.5555555555555556,\"#d8576b\"],[0.6666666666666666,\"#ed7953\"],[0.7777777777777778,\"#fb9f3a\"],[0.8888888888888888,\"#fdca26\"],[1.0,\"#f0f921\"]],\"type\":\"histogram2d\"}],\"histogram2dcontour\":[{\"colorbar\":{\"outlinewidth\":0,\"ticks\":\"\"},\"colorscale\":[[0.0,\"#0d0887\"],[0.1111111111111111,\"#46039f\"],[0.2222222222222222,\"#7201a8\"],[0.3333333333333333,\"#9c179e\"],[0.4444444444444444,\"#bd3786\"],[0.5555555555555556,\"#d8576b\"],[0.6666666666666666,\"#ed7953\"],[0.7777777777777778,\"#fb9f3a\"],[0.8888888888888888,\"#fdca26\"],[1.0,\"#f0f921\"]],\"type\":\"histogram2dcontour\"}],\"mesh3d\":[{\"colorbar\":{\"outlinewidth\":0,\"ticks\":\"\"},\"type\":\"mesh3d\"}],\"parcoords\":[{\"line\":{\"colorbar\":{\"outlinewidth\":0,\"ticks\":\"\"}},\"type\":\"parcoords\"}],\"pie\":[{\"automargin\":true,\"type\":\"pie\"}],\"scatter\":[{\"marker\":{\"colorbar\":{\"outlinewidth\":0,\"ticks\":\"\"}},\"type\":\"scatter\"}],\"scatter3d\":[{\"line\":{\"colorbar\":{\"outlinewidth\":0,\"ticks\":\"\"}},\"marker\":{\"colorbar\":{\"outlinewidth\":0,\"ticks\":\"\"}},\"type\":\"scatter3d\"}],\"scattercarpet\":[{\"marker\":{\"colorbar\":{\"outlinewidth\":0,\"ticks\":\"\"}},\"type\":\"scattercarpet\"}],\"scattergeo\":[{\"marker\":{\"colorbar\":{\"outlinewidth\":0,\"ticks\":\"\"}},\"type\":\"scattergeo\"}],\"scattergl\":[{\"marker\":{\"colorbar\":{\"outlinewidth\":0,\"ticks\":\"\"}},\"type\":\"scattergl\"}],\"scattermapbox\":[{\"marker\":{\"colorbar\":{\"outlinewidth\":0,\"ticks\":\"\"}},\"type\":\"scattermapbox\"}],\"scatterpolar\":[{\"marker\":{\"colorbar\":{\"outlinewidth\":0,\"ticks\":\"\"}},\"type\":\"scatterpolar\"}],\"scatterpolargl\":[{\"marker\":{\"colorbar\":{\"outlinewidth\":0,\"ticks\":\"\"}},\"type\":\"scatterpolargl\"}],\"scatterternary\":[{\"marker\":{\"colorbar\":{\"outlinewidth\":0,\"ticks\":\"\"}},\"type\":\"scatterternary\"}],\"surface\":[{\"colorbar\":{\"outlinewidth\":0,\"ticks\":\"\"},\"colorscale\":[[0.0,\"#0d0887\"],[0.1111111111111111,\"#46039f\"],[0.2222222222222222,\"#7201a8\"],[0.3333333333333333,\"#9c179e\"],[0.4444444444444444,\"#bd3786\"],[0.5555555555555556,\"#d8576b\"],[0.6666666666666666,\"#ed7953\"],[0.7777777777777778,\"#fb9f3a\"],[0.8888888888888888,\"#fdca26\"],[1.0,\"#f0f921\"]],\"type\":\"surface\"}],\"table\":[{\"cells\":{\"fill\":{\"color\":\"#EBF0F8\"},\"line\":{\"color\":\"white\"}},\"header\":{\"fill\":{\"color\":\"#C8D4E3\"},\"line\":{\"color\":\"white\"}},\"type\":\"table\"}]},\"layout\":{\"annotationdefaults\":{\"arrowcolor\":\"#2a3f5f\",\"arrowhead\":0,\"arrowwidth\":1},\"autotypenumbers\":\"strict\",\"coloraxis\":{\"colorbar\":{\"outlinewidth\":0,\"ticks\":\"\"}},\"colorscale\":{\"diverging\":[[0,\"#8e0152\"],[0.1,\"#c51b7d\"],[0.2,\"#de77ae\"],[0.3,\"#f1b6da\"],[0.4,\"#fde0ef\"],[0.5,\"#f7f7f7\"],[0.6,\"#e6f5d0\"],[0.7,\"#b8e186\"],[0.8,\"#7fbc41\"],[0.9,\"#4d9221\"],[1,\"#276419\"]],\"sequential\":[[0.0,\"#0d0887\"],[0.1111111111111111,\"#46039f\"],[0.2222222222222222,\"#7201a8\"],[0.3333333333333333,\"#9c179e\"],[0.4444444444444444,\"#bd3786\"],[0.5555555555555556,\"#d8576b\"],[0.6666666666666666,\"#ed7953\"],[0.7777777777777778,\"#fb9f3a\"],[0.8888888888888888,\"#fdca26\"],[1.0,\"#f0f921\"]],\"sequentialminus\":[[0.0,\"#0d0887\"],[0.1111111111111111,\"#46039f\"],[0.2222222222222222,\"#7201a8\"],[0.3333333333333333,\"#9c179e\"],[0.4444444444444444,\"#bd3786\"],[0.5555555555555556,\"#d8576b\"],[0.6666666666666666,\"#ed7953\"],[0.7777777777777778,\"#fb9f3a\"],[0.8888888888888888,\"#fdca26\"],[1.0,\"#f0f921\"]]},\"colorway\":[\"#636efa\",\"#EF553B\",\"#00cc96\",\"#ab63fa\",\"#FFA15A\",\"#19d3f3\",\"#FF6692\",\"#B6E880\",\"#FF97FF\",\"#FECB52\"],\"font\":{\"color\":\"#2a3f5f\"},\"geo\":{\"bgcolor\":\"white\",\"lakecolor\":\"white\",\"landcolor\":\"#E5ECF6\",\"showlakes\":true,\"showland\":true,\"subunitcolor\":\"white\"},\"hoverlabel\":{\"align\":\"left\"},\"hovermode\":\"closest\",\"mapbox\":{\"style\":\"light\"},\"paper_bgcolor\":\"white\",\"plot_bgcolor\":\"#E5ECF6\",\"polar\":{\"angularaxis\":{\"gridcolor\":\"white\",\"linecolor\":\"white\",\"ticks\":\"\"},\"bgcolor\":\"#E5ECF6\",\"radialaxis\":{\"gridcolor\":\"white\",\"linecolor\":\"white\",\"ticks\":\"\"}},\"scene\":{\"xaxis\":{\"backgroundcolor\":\"#E5ECF6\",\"gridcolor\":\"white\",\"gridwidth\":2,\"linecolor\":\"white\",\"showbackground\":true,\"ticks\":\"\",\"zerolinecolor\":\"white\"},\"yaxis\":{\"backgroundcolor\":\"#E5ECF6\",\"gridcolor\":\"white\",\"gridwidth\":2,\"linecolor\":\"white\",\"showbackground\":true,\"ticks\":\"\",\"zerolinecolor\":\"white\"},\"zaxis\":{\"backgroundcolor\":\"#E5ECF6\",\"gridcolor\":\"white\",\"gridwidth\":2,\"linecolor\":\"white\",\"showbackground\":true,\"ticks\":\"\",\"zerolinecolor\":\"white\"}},\"shapedefaults\":{\"line\":{\"color\":\"#2a3f5f\"}},\"ternary\":{\"aaxis\":{\"gridcolor\":\"white\",\"linecolor\":\"white\",\"ticks\":\"\"},\"baxis\":{\"gridcolor\":\"white\",\"linecolor\":\"white\",\"ticks\":\"\"},\"bgcolor\":\"#E5ECF6\",\"caxis\":{\"gridcolor\":\"white\",\"linecolor\":\"white\",\"ticks\":\"\"}},\"title\":{\"x\":0.05},\"xaxis\":{\"automargin\":true,\"gridcolor\":\"white\",\"linecolor\":\"white\",\"ticks\":\"\",\"title\":{\"standoff\":15},\"zerolinecolor\":\"white\",\"zerolinewidth\":2},\"yaxis\":{\"automargin\":true,\"gridcolor\":\"white\",\"linecolor\":\"white\",\"ticks\":\"\",\"title\":{\"standoff\":15},\"zerolinecolor\":\"white\",\"zerolinewidth\":2}}},\"xaxis\":{\"anchor\":\"y\",\"domain\":[0.0,1.0],\"title\":{\"text\":\"price\"}},\"yaxis\":{\"anchor\":\"x\",\"domain\":[0.0,1.0]},\"legend\":{\"tracegroupgap\":0},\"margin\":{\"t\":60},\"boxmode\":\"group\"},                        {\"responsive\": true}                    ).then(function(){\n",
       "                            \n",
       "var gd = document.getElementById('7b0f324f-27cc-476f-9c3f-95315da91e4c');\n",
       "var x = new MutationObserver(function (mutations, observer) {{\n",
       "        var display = window.getComputedStyle(gd).display;\n",
       "        if (!display || display === 'none') {{\n",
       "            console.log([gd, 'removed!']);\n",
       "            Plotly.purge(gd);\n",
       "            observer.disconnect();\n",
       "        }}\n",
       "}});\n",
       "\n",
       "// Listen for the removal of the full notebook cells\n",
       "var notebookContainer = gd.closest('#notebook-container');\n",
       "if (notebookContainer) {{\n",
       "    x.observe(notebookContainer, {childList: true});\n",
       "}}\n",
       "\n",
       "// Listen for the clearing of the current output cell\n",
       "var outputEl = gd.closest('.output');\n",
       "if (outputEl) {{\n",
       "    x.observe(outputEl, {childList: true});\n",
       "}}\n",
       "\n",
       "                        })                };                });            </script>        </div>"
      ]
     },
     "metadata": {},
     "output_type": "display_data"
    }
   ],
   "source": [
    "fig = px.box(df, x=df['price'])\n",
    "fig.show()"
   ]
  },
  {
   "cell_type": "code",
   "execution_count": 135,
   "id": "013d1a50",
   "metadata": {},
   "outputs": [
    {
     "data": {
      "text/html": [
       "<div>\n",
       "<style scoped>\n",
       "    .dataframe tbody tr th:only-of-type {\n",
       "        vertical-align: middle;\n",
       "    }\n",
       "\n",
       "    .dataframe tbody tr th {\n",
       "        vertical-align: top;\n",
       "    }\n",
       "\n",
       "    .dataframe thead th {\n",
       "        text-align: right;\n",
       "    }\n",
       "</style>\n",
       "<table border=\"1\" class=\"dataframe\">\n",
       "  <thead>\n",
       "    <tr style=\"text-align: right;\">\n",
       "      <th></th>\n",
       "      <th>Unnamed: 0</th>\n",
       "      <th>zpid</th>\n",
       "      <th>city</th>\n",
       "      <th>state</th>\n",
       "      <th>homeStatus</th>\n",
       "      <th>bedrooms</th>\n",
       "      <th>bathrooms</th>\n",
       "      <th>price</th>\n",
       "      <th>resoFacts_pricePerSquareFoot</th>\n",
       "      <th>yearBuilt</th>\n",
       "      <th>...</th>\n",
       "      <th>lotAreaUnits</th>\n",
       "      <th>streetAddress</th>\n",
       "      <th>zipcode</th>\n",
       "      <th>regionString</th>\n",
       "      <th>homeType</th>\n",
       "      <th>attributionInfo_agentEmail</th>\n",
       "      <th>attributionInfo_agentName</th>\n",
       "      <th>attributionInfo_agentPhoneNumber</th>\n",
       "      <th>attributionInfo_brokerName</th>\n",
       "      <th>attributionInfo_brokerPhoneNumber</th>\n",
       "    </tr>\n",
       "  </thead>\n",
       "  <tbody>\n",
       "    <tr>\n",
       "      <th>0</th>\n",
       "      <td>0</td>\n",
       "      <td>2103708987</td>\n",
       "      <td>Belmont</td>\n",
       "      <td>CA</td>\n",
       "      <td>FOR_SALE</td>\n",
       "      <td>0.0</td>\n",
       "      <td>0.0</td>\n",
       "      <td>135000</td>\n",
       "      <td>NaN</td>\n",
       "      <td>NaN</td>\n",
       "      <td>...</td>\n",
       "      <td>Acres</td>\n",
       "      <td>0 Alhambra Dr</td>\n",
       "      <td>94002</td>\n",
       "      <td>Belmont CA 94002</td>\n",
       "      <td>LOT</td>\n",
       "      <td>maxtherealtor@gmail.com</td>\n",
       "      <td>Max Reinhardt</td>\n",
       "      <td>415-860-1484</td>\n",
       "      <td>Berkshire Hathaway HomeServices DrysdaleProper...</td>\n",
       "      <td>650-393-5108</td>\n",
       "    </tr>\n",
       "    <tr>\n",
       "      <th>1</th>\n",
       "      <td>1</td>\n",
       "      <td>2103537912</td>\n",
       "      <td>Belmont</td>\n",
       "      <td>CA</td>\n",
       "      <td>FOR_SALE</td>\n",
       "      <td>0.0</td>\n",
       "      <td>0.0</td>\n",
       "      <td>375000</td>\n",
       "      <td>NaN</td>\n",
       "      <td>NaN</td>\n",
       "      <td>...</td>\n",
       "      <td>Acres</td>\n",
       "      <td>0 Bartlett Way</td>\n",
       "      <td>94002</td>\n",
       "      <td>Belmont CA 94002</td>\n",
       "      <td>LOT</td>\n",
       "      <td>maxtherealtor@gmail.com</td>\n",
       "      <td>Max Reinhardt</td>\n",
       "      <td>415-860-1484</td>\n",
       "      <td>Berkshire Hathaway HomeServices DrysdaleProper...</td>\n",
       "      <td>650-393-5108</td>\n",
       "    </tr>\n",
       "    <tr>\n",
       "      <th>2</th>\n",
       "      <td>2</td>\n",
       "      <td>2061329361</td>\n",
       "      <td>San Lorenzo</td>\n",
       "      <td>CA</td>\n",
       "      <td>FOR_SALE</td>\n",
       "      <td>0.0</td>\n",
       "      <td>0.0</td>\n",
       "      <td>2700000</td>\n",
       "      <td>NaN</td>\n",
       "      <td>NaN</td>\n",
       "      <td>...</td>\n",
       "      <td>Acres</td>\n",
       "      <td>0 Foothill Blvd</td>\n",
       "      <td>94580</td>\n",
       "      <td>San Lorenzo CA 94580</td>\n",
       "      <td>LOT</td>\n",
       "      <td>ngocanh.nguyen@kkhomes.net</td>\n",
       "      <td>Anh Nguyen</td>\n",
       "      <td>408-839-4708</td>\n",
       "      <td>K&amp;K Homes Realty</td>\n",
       "      <td>408-599-3401</td>\n",
       "    </tr>\n",
       "    <tr>\n",
       "      <th>3</th>\n",
       "      <td>3</td>\n",
       "      <td>2068613908</td>\n",
       "      <td>Redwood City</td>\n",
       "      <td>CA</td>\n",
       "      <td>FOR_SALE</td>\n",
       "      <td>0.0</td>\n",
       "      <td>0.0</td>\n",
       "      <td>376500</td>\n",
       "      <td>NaN</td>\n",
       "      <td>NaN</td>\n",
       "      <td>...</td>\n",
       "      <td>Acres</td>\n",
       "      <td>0 Huckleberry Trl</td>\n",
       "      <td>94062</td>\n",
       "      <td>Redwood City CA 94062</td>\n",
       "      <td>LOT</td>\n",
       "      <td>holly.moffitt.2020@gmail.com</td>\n",
       "      <td>Holly Moffitt</td>\n",
       "      <td>916-626-0015</td>\n",
       "      <td>Capitol Realty Center Inc.</td>\n",
       "      <td>916-224-1748</td>\n",
       "    </tr>\n",
       "    <tr>\n",
       "      <th>4</th>\n",
       "      <td>4</td>\n",
       "      <td>2106483047</td>\n",
       "      <td>La Honda</td>\n",
       "      <td>CA</td>\n",
       "      <td>FOR_SALE</td>\n",
       "      <td>0.0</td>\n",
       "      <td>0.0</td>\n",
       "      <td>349999</td>\n",
       "      <td>NaN</td>\n",
       "      <td>NaN</td>\n",
       "      <td>...</td>\n",
       "      <td>Acres</td>\n",
       "      <td>0 La Honda Rd</td>\n",
       "      <td>94020</td>\n",
       "      <td>La Honda CA 94020</td>\n",
       "      <td>LOT</td>\n",
       "      <td>NaN</td>\n",
       "      <td>Denis Hann</td>\n",
       "      <td>445-208-5585</td>\n",
       "      <td>Hann Realty</td>\n",
       "      <td>747-248-6618</td>\n",
       "    </tr>\n",
       "    <tr>\n",
       "      <th>...</th>\n",
       "      <td>...</td>\n",
       "      <td>...</td>\n",
       "      <td>...</td>\n",
       "      <td>...</td>\n",
       "      <td>...</td>\n",
       "      <td>...</td>\n",
       "      <td>...</td>\n",
       "      <td>...</td>\n",
       "      <td>...</td>\n",
       "      <td>...</td>\n",
       "      <td>...</td>\n",
       "      <td>...</td>\n",
       "      <td>...</td>\n",
       "      <td>...</td>\n",
       "      <td>...</td>\n",
       "      <td>...</td>\n",
       "      <td>...</td>\n",
       "      <td>...</td>\n",
       "      <td>...</td>\n",
       "      <td>...</td>\n",
       "      <td>...</td>\n",
       "    </tr>\n",
       "    <tr>\n",
       "      <th>890</th>\n",
       "      <td>890</td>\n",
       "      <td>2061777143</td>\n",
       "      <td>Redwood City</td>\n",
       "      <td>CA</td>\n",
       "      <td>FOR_SALE</td>\n",
       "      <td>0.0</td>\n",
       "      <td>0.0</td>\n",
       "      <td>399000</td>\n",
       "      <td>NaN</td>\n",
       "      <td>NaN</td>\n",
       "      <td>...</td>\n",
       "      <td>Acres</td>\n",
       "      <td>Comstock Old Comstock Rd</td>\n",
       "      <td>94062</td>\n",
       "      <td>Redwood City CA 94062</td>\n",
       "      <td>LOT</td>\n",
       "      <td>jwachter@cbnorcal.com</td>\n",
       "      <td>Joan Wachter</td>\n",
       "      <td>650-558-6895</td>\n",
       "      <td>Coldwell Banker Realty</td>\n",
       "      <td>650-558-4200</td>\n",
       "    </tr>\n",
       "    <tr>\n",
       "      <th>891</th>\n",
       "      <td>891</td>\n",
       "      <td>18553197</td>\n",
       "      <td>Concord</td>\n",
       "      <td>CA</td>\n",
       "      <td>FOR_SALE</td>\n",
       "      <td>1.0</td>\n",
       "      <td>1.0</td>\n",
       "      <td>105000</td>\n",
       "      <td>219.0</td>\n",
       "      <td>NaN</td>\n",
       "      <td>...</td>\n",
       "      <td>sqft</td>\n",
       "      <td>(Undisclosed Address)</td>\n",
       "      <td>94520</td>\n",
       "      <td>Concord CA 94520</td>\n",
       "      <td>MANUFACTURED</td>\n",
       "      <td>rosavenegas752@yahoo.com</td>\n",
       "      <td>Rosa Maria Venegas</td>\n",
       "      <td>NaN</td>\n",
       "      <td>HomeSmart Optima Realty, Inc</td>\n",
       "      <td>925-270-0520</td>\n",
       "    </tr>\n",
       "    <tr>\n",
       "      <th>893</th>\n",
       "      <td>893</td>\n",
       "      <td>2117480198</td>\n",
       "      <td>South San Francisco</td>\n",
       "      <td>CA</td>\n",
       "      <td>FOR_SALE</td>\n",
       "      <td>3.0</td>\n",
       "      <td>2.0</td>\n",
       "      <td>1195000</td>\n",
       "      <td>872.0</td>\n",
       "      <td>1952.0</td>\n",
       "      <td>...</td>\n",
       "      <td>Square Feet</td>\n",
       "      <td>Lilac Ln</td>\n",
       "      <td>94080</td>\n",
       "      <td>South San Francisco CA 94080</td>\n",
       "      <td>SINGLE_FAMILY</td>\n",
       "      <td>garciaresales@gmail.com</td>\n",
       "      <td>Ana Garcia-Alvarado</td>\n",
       "      <td>650-333-3350</td>\n",
       "      <td>eXp Realty of California Inc</td>\n",
       "      <td>888-584-9427</td>\n",
       "    </tr>\n",
       "    <tr>\n",
       "      <th>894</th>\n",
       "      <td>894</td>\n",
       "      <td>2062183466</td>\n",
       "      <td>South San Francisco</td>\n",
       "      <td>CA</td>\n",
       "      <td>FOR_SALE</td>\n",
       "      <td>3.0</td>\n",
       "      <td>3.0</td>\n",
       "      <td>1350000</td>\n",
       "      <td>692.0</td>\n",
       "      <td>1997.0</td>\n",
       "      <td>...</td>\n",
       "      <td>Square Feet</td>\n",
       "      <td>Northcrest Dr #25</td>\n",
       "      <td>94080</td>\n",
       "      <td>South San Francisco CA 94080</td>\n",
       "      <td>TOWNHOUSE</td>\n",
       "      <td>linda8linda@gmail.com</td>\n",
       "      <td>Linda Whipple</td>\n",
       "      <td>650-740-4325</td>\n",
       "      <td>Homes of Faith</td>\n",
       "      <td>650-576-3896</td>\n",
       "    </tr>\n",
       "    <tr>\n",
       "      <th>895</th>\n",
       "      <td>895</td>\n",
       "      <td>24890970</td>\n",
       "      <td>San Leandro</td>\n",
       "      <td>CA</td>\n",
       "      <td>FOR_SALE</td>\n",
       "      <td>3.0</td>\n",
       "      <td>2.0</td>\n",
       "      <td>1279000</td>\n",
       "      <td>652.0</td>\n",
       "      <td>1963.0</td>\n",
       "      <td>...</td>\n",
       "      <td>Acres</td>\n",
       "      <td>(Undisclosed Address)</td>\n",
       "      <td>94577</td>\n",
       "      <td>San Leandro CA 94577</td>\n",
       "      <td>SINGLE_FAMILY</td>\n",
       "      <td>phil.fair@corcorangl.com</td>\n",
       "      <td>Phillip L. Fair</td>\n",
       "      <td>NaN</td>\n",
       "      <td>Corcoran Global Living</td>\n",
       "      <td>510-339-9290</td>\n",
       "    </tr>\n",
       "  </tbody>\n",
       "</table>\n",
       "<p>781 rows × 24 columns</p>\n",
       "</div>"
      ],
      "text/plain": [
       "     Unnamed: 0        zpid                 city state homeStatus  bedrooms  \\\n",
       "0             0  2103708987              Belmont    CA   FOR_SALE       0.0   \n",
       "1             1  2103537912              Belmont    CA   FOR_SALE       0.0   \n",
       "2             2  2061329361          San Lorenzo    CA   FOR_SALE       0.0   \n",
       "3             3  2068613908         Redwood City    CA   FOR_SALE       0.0   \n",
       "4             4  2106483047             La Honda    CA   FOR_SALE       0.0   \n",
       "..          ...         ...                  ...   ...        ...       ...   \n",
       "890         890  2061777143         Redwood City    CA   FOR_SALE       0.0   \n",
       "891         891    18553197              Concord    CA   FOR_SALE       1.0   \n",
       "893         893  2117480198  South San Francisco    CA   FOR_SALE       3.0   \n",
       "894         894  2062183466  South San Francisco    CA   FOR_SALE       3.0   \n",
       "895         895    24890970          San Leandro    CA   FOR_SALE       3.0   \n",
       "\n",
       "     bathrooms    price  resoFacts_pricePerSquareFoot  yearBuilt  ...  \\\n",
       "0          0.0   135000                           NaN        NaN  ...   \n",
       "1          0.0   375000                           NaN        NaN  ...   \n",
       "2          0.0  2700000                           NaN        NaN  ...   \n",
       "3          0.0   376500                           NaN        NaN  ...   \n",
       "4          0.0   349999                           NaN        NaN  ...   \n",
       "..         ...      ...                           ...        ...  ...   \n",
       "890        0.0   399000                           NaN        NaN  ...   \n",
       "891        1.0   105000                         219.0        NaN  ...   \n",
       "893        2.0  1195000                         872.0     1952.0  ...   \n",
       "894        3.0  1350000                         692.0     1997.0  ...   \n",
       "895        2.0  1279000                         652.0     1963.0  ...   \n",
       "\n",
       "     lotAreaUnits             streetAddress  zipcode  \\\n",
       "0           Acres             0 Alhambra Dr    94002   \n",
       "1           Acres            0 Bartlett Way    94002   \n",
       "2           Acres           0 Foothill Blvd    94580   \n",
       "3           Acres         0 Huckleberry Trl    94062   \n",
       "4           Acres             0 La Honda Rd    94020   \n",
       "..            ...                       ...      ...   \n",
       "890         Acres  Comstock Old Comstock Rd    94062   \n",
       "891          sqft     (Undisclosed Address)    94520   \n",
       "893   Square Feet                  Lilac Ln    94080   \n",
       "894   Square Feet         Northcrest Dr #25    94080   \n",
       "895         Acres     (Undisclosed Address)    94577   \n",
       "\n",
       "                     regionString       homeType  \\\n",
       "0                Belmont CA 94002            LOT   \n",
       "1                Belmont CA 94002            LOT   \n",
       "2            San Lorenzo CA 94580            LOT   \n",
       "3           Redwood City CA 94062            LOT   \n",
       "4               La Honda CA 94020            LOT   \n",
       "..                            ...            ...   \n",
       "890         Redwood City CA 94062            LOT   \n",
       "891              Concord CA 94520   MANUFACTURED   \n",
       "893  South San Francisco CA 94080  SINGLE_FAMILY   \n",
       "894  South San Francisco CA 94080      TOWNHOUSE   \n",
       "895          San Leandro CA 94577  SINGLE_FAMILY   \n",
       "\n",
       "       attributionInfo_agentEmail  attributionInfo_agentName  \\\n",
       "0         maxtherealtor@gmail.com              Max Reinhardt   \n",
       "1         maxtherealtor@gmail.com              Max Reinhardt   \n",
       "2      ngocanh.nguyen@kkhomes.net                 Anh Nguyen   \n",
       "3    holly.moffitt.2020@gmail.com              Holly Moffitt   \n",
       "4                             NaN                 Denis Hann   \n",
       "..                            ...                        ...   \n",
       "890         jwachter@cbnorcal.com               Joan Wachter   \n",
       "891      rosavenegas752@yahoo.com         Rosa Maria Venegas   \n",
       "893       garciaresales@gmail.com        Ana Garcia-Alvarado   \n",
       "894         linda8linda@gmail.com              Linda Whipple   \n",
       "895      phil.fair@corcorangl.com            Phillip L. Fair   \n",
       "\n",
       "    attributionInfo_agentPhoneNumber  \\\n",
       "0                       415-860-1484   \n",
       "1                       415-860-1484   \n",
       "2                       408-839-4708   \n",
       "3                       916-626-0015   \n",
       "4                       445-208-5585   \n",
       "..                               ...   \n",
       "890                     650-558-6895   \n",
       "891                              NaN   \n",
       "893                     650-333-3350   \n",
       "894                     650-740-4325   \n",
       "895                              NaN   \n",
       "\n",
       "                            attributionInfo_brokerName  \\\n",
       "0    Berkshire Hathaway HomeServices DrysdaleProper...   \n",
       "1    Berkshire Hathaway HomeServices DrysdaleProper...   \n",
       "2                                     K&K Homes Realty   \n",
       "3                           Capitol Realty Center Inc.   \n",
       "4                                          Hann Realty   \n",
       "..                                                 ...   \n",
       "890                             Coldwell Banker Realty   \n",
       "891                       HomeSmart Optima Realty, Inc   \n",
       "893                       eXp Realty of California Inc   \n",
       "894                                     Homes of Faith   \n",
       "895                             Corcoran Global Living   \n",
       "\n",
       "    attributionInfo_brokerPhoneNumber  \n",
       "0                        650-393-5108  \n",
       "1                        650-393-5108  \n",
       "2                        408-599-3401  \n",
       "3                        916-224-1748  \n",
       "4                        747-248-6618  \n",
       "..                                ...  \n",
       "890                      650-558-4200  \n",
       "891                      925-270-0520  \n",
       "893                      888-584-9427  \n",
       "894                      650-576-3896  \n",
       "895                      510-339-9290  \n",
       "\n",
       "[781 rows x 24 columns]"
      ]
     },
     "execution_count": 135,
     "metadata": {},
     "output_type": "execute_result"
    }
   ],
   "source": [
    "df"
   ]
  },
  {
   "cell_type": "code",
   "execution_count": 136,
   "id": "9e5405d9",
   "metadata": {},
   "outputs": [
    {
     "data": {
      "text/html": [
       "<div>\n",
       "<style scoped>\n",
       "    .dataframe tbody tr th:only-of-type {\n",
       "        vertical-align: middle;\n",
       "    }\n",
       "\n",
       "    .dataframe tbody tr th {\n",
       "        vertical-align: top;\n",
       "    }\n",
       "\n",
       "    .dataframe thead th {\n",
       "        text-align: right;\n",
       "    }\n",
       "</style>\n",
       "<table border=\"1\" class=\"dataframe\">\n",
       "  <thead>\n",
       "    <tr style=\"text-align: right;\">\n",
       "      <th></th>\n",
       "      <th>Unnamed: 0</th>\n",
       "      <th>zpid</th>\n",
       "      <th>city</th>\n",
       "      <th>state</th>\n",
       "      <th>homeStatus</th>\n",
       "      <th>bedrooms</th>\n",
       "      <th>bathrooms</th>\n",
       "      <th>price</th>\n",
       "      <th>resoFacts_pricePerSquareFoot</th>\n",
       "      <th>yearBuilt</th>\n",
       "      <th>...</th>\n",
       "      <th>lotAreaUnits</th>\n",
       "      <th>streetAddress</th>\n",
       "      <th>zipcode</th>\n",
       "      <th>regionString</th>\n",
       "      <th>homeType</th>\n",
       "      <th>attributionInfo_agentEmail</th>\n",
       "      <th>attributionInfo_agentName</th>\n",
       "      <th>attributionInfo_agentPhoneNumber</th>\n",
       "      <th>attributionInfo_brokerName</th>\n",
       "      <th>attributionInfo_brokerPhoneNumber</th>\n",
       "    </tr>\n",
       "  </thead>\n",
       "  <tbody>\n",
       "    <tr>\n",
       "      <th>619</th>\n",
       "      <td>619</td>\n",
       "      <td>2061968146</td>\n",
       "      <td>Albany</td>\n",
       "      <td>CA</td>\n",
       "      <td>FOR_SALE</td>\n",
       "      <td>1.0</td>\n",
       "      <td>1.0</td>\n",
       "      <td>520000</td>\n",
       "      <td>743.0</td>\n",
       "      <td>1978.0</td>\n",
       "      <td>...</td>\n",
       "      <td>Acres</td>\n",
       "      <td>409 Evelyn Ave #108</td>\n",
       "      <td>94706</td>\n",
       "      <td>Albany CA 94706</td>\n",
       "      <td>CONDO</td>\n",
       "      <td>tpoperealestate@gmail.com</td>\n",
       "      <td>Thomas A Pope</td>\n",
       "      <td>707-410-7818</td>\n",
       "      <td>Pope Real Estate, Inc</td>\n",
       "      <td>707-425-2121</td>\n",
       "    </tr>\n",
       "    <tr>\n",
       "      <th>621</th>\n",
       "      <td>621</td>\n",
       "      <td>2062248603</td>\n",
       "      <td>Albany</td>\n",
       "      <td>CA</td>\n",
       "      <td>FOR_SALE</td>\n",
       "      <td>1.0</td>\n",
       "      <td>1.0</td>\n",
       "      <td>500000</td>\n",
       "      <td>833.0</td>\n",
       "      <td>1978.0</td>\n",
       "      <td>...</td>\n",
       "      <td>Acres</td>\n",
       "      <td>409 Evelyn Ave #301</td>\n",
       "      <td>94706</td>\n",
       "      <td>Albany CA 94706</td>\n",
       "      <td>CONDO</td>\n",
       "      <td>tpoperealestate@gmail.com</td>\n",
       "      <td>Thomas A Pope</td>\n",
       "      <td>707-410-7818</td>\n",
       "      <td>Pope Real Estate, Inc</td>\n",
       "      <td>707-425-2121</td>\n",
       "    </tr>\n",
       "    <tr>\n",
       "      <th>622</th>\n",
       "      <td>622</td>\n",
       "      <td>2061968144</td>\n",
       "      <td>Albany</td>\n",
       "      <td>CA</td>\n",
       "      <td>FOR_SALE</td>\n",
       "      <td>2.0</td>\n",
       "      <td>1.0</td>\n",
       "      <td>575000</td>\n",
       "      <td>673.0</td>\n",
       "      <td>1978.0</td>\n",
       "      <td>...</td>\n",
       "      <td>Acres</td>\n",
       "      <td>409 Evelyn Ave #304</td>\n",
       "      <td>94706</td>\n",
       "      <td>Albany CA 94706</td>\n",
       "      <td>CONDO</td>\n",
       "      <td>tpoperealestate@gmail.com</td>\n",
       "      <td>Thomas A Pope</td>\n",
       "      <td>707-410-7818</td>\n",
       "      <td>Pope Real Estate, Inc</td>\n",
       "      <td>707-425-2121</td>\n",
       "    </tr>\n",
       "    <tr>\n",
       "      <th>623</th>\n",
       "      <td>623</td>\n",
       "      <td>2062248601</td>\n",
       "      <td>Albany</td>\n",
       "      <td>CA</td>\n",
       "      <td>FOR_SALE</td>\n",
       "      <td>2.0</td>\n",
       "      <td>2.0</td>\n",
       "      <td>650000</td>\n",
       "      <td>650.0</td>\n",
       "      <td>1978.0</td>\n",
       "      <td>...</td>\n",
       "      <td>Acres</td>\n",
       "      <td>409 Evelyn Ave #305</td>\n",
       "      <td>94706</td>\n",
       "      <td>Albany CA 94706</td>\n",
       "      <td>CONDO</td>\n",
       "      <td>tpoperealestate@gmail.com</td>\n",
       "      <td>Thomas A Pope</td>\n",
       "      <td>707-410-7818</td>\n",
       "      <td>Pope Real Estate, Inc</td>\n",
       "      <td>707-425-2121</td>\n",
       "    </tr>\n",
       "    <tr>\n",
       "      <th>624</th>\n",
       "      <td>624</td>\n",
       "      <td>2062248604</td>\n",
       "      <td>Albany</td>\n",
       "      <td>CA</td>\n",
       "      <td>FOR_SALE</td>\n",
       "      <td>1.0</td>\n",
       "      <td>1.0</td>\n",
       "      <td>520000</td>\n",
       "      <td>743.0</td>\n",
       "      <td>1978.0</td>\n",
       "      <td>...</td>\n",
       "      <td>Acres</td>\n",
       "      <td>409 Evelyn Ave #308</td>\n",
       "      <td>94706</td>\n",
       "      <td>Albany CA 94706</td>\n",
       "      <td>CONDO</td>\n",
       "      <td>tpoperealestate@gmail.com</td>\n",
       "      <td>Thomas A Pope</td>\n",
       "      <td>707-410-7818</td>\n",
       "      <td>Pope Real Estate, Inc</td>\n",
       "      <td>707-425-2121</td>\n",
       "    </tr>\n",
       "    <tr>\n",
       "      <th>...</th>\n",
       "      <td>...</td>\n",
       "      <td>...</td>\n",
       "      <td>...</td>\n",
       "      <td>...</td>\n",
       "      <td>...</td>\n",
       "      <td>...</td>\n",
       "      <td>...</td>\n",
       "      <td>...</td>\n",
       "      <td>...</td>\n",
       "      <td>...</td>\n",
       "      <td>...</td>\n",
       "      <td>...</td>\n",
       "      <td>...</td>\n",
       "      <td>...</td>\n",
       "      <td>...</td>\n",
       "      <td>...</td>\n",
       "      <td>...</td>\n",
       "      <td>...</td>\n",
       "      <td>...</td>\n",
       "      <td>...</td>\n",
       "      <td>...</td>\n",
       "    </tr>\n",
       "    <tr>\n",
       "      <th>171</th>\n",
       "      <td>171</td>\n",
       "      <td>15597312</td>\n",
       "      <td>Woodside</td>\n",
       "      <td>CA</td>\n",
       "      <td>FOR_SALE</td>\n",
       "      <td>0.0</td>\n",
       "      <td>0.0</td>\n",
       "      <td>1950000</td>\n",
       "      <td>NaN</td>\n",
       "      <td>NaN</td>\n",
       "      <td>...</td>\n",
       "      <td>Acres</td>\n",
       "      <td>14051 Skyline Blvd</td>\n",
       "      <td>94062</td>\n",
       "      <td>Woodside CA 94062</td>\n",
       "      <td>LOT</td>\n",
       "      <td>scott@scottdancer.com</td>\n",
       "      <td>Scott Dancer</td>\n",
       "      <td>650-888-8199</td>\n",
       "      <td>Compass</td>\n",
       "      <td>650-529-1111</td>\n",
       "    </tr>\n",
       "    <tr>\n",
       "      <th>571</th>\n",
       "      <td>571</td>\n",
       "      <td>181464708</td>\n",
       "      <td>Woodside</td>\n",
       "      <td>CA</td>\n",
       "      <td>FOR_SALE</td>\n",
       "      <td>0.0</td>\n",
       "      <td>0.0</td>\n",
       "      <td>695000</td>\n",
       "      <td>NaN</td>\n",
       "      <td>NaN</td>\n",
       "      <td>...</td>\n",
       "      <td>Acres</td>\n",
       "      <td>3600 Partition Rd</td>\n",
       "      <td>94062</td>\n",
       "      <td>Woodside CA 94062</td>\n",
       "      <td>LOT</td>\n",
       "      <td>scott@scottdancer.com</td>\n",
       "      <td>Scott Dancer</td>\n",
       "      <td>650-888-8199</td>\n",
       "      <td>Compass</td>\n",
       "      <td>650-529-1111</td>\n",
       "    </tr>\n",
       "    <tr>\n",
       "      <th>181</th>\n",
       "      <td>181</td>\n",
       "      <td>15589374</td>\n",
       "      <td>Woodside</td>\n",
       "      <td>CA</td>\n",
       "      <td>FOR_SALE</td>\n",
       "      <td>3.0</td>\n",
       "      <td>3.0</td>\n",
       "      <td>1495000</td>\n",
       "      <td>686.0</td>\n",
       "      <td>1945.0</td>\n",
       "      <td>...</td>\n",
       "      <td>Acres</td>\n",
       "      <td>144 Huckleberry Trl</td>\n",
       "      <td>94062</td>\n",
       "      <td>Woodside CA 94062</td>\n",
       "      <td>SINGLE_FAMILY</td>\n",
       "      <td>homes@margotlockwood.com</td>\n",
       "      <td>Margot Lockwood</td>\n",
       "      <td>650-400-2528</td>\n",
       "      <td>Golden Gate Sotheby's International Realty</td>\n",
       "      <td>650-847-1141</td>\n",
       "    </tr>\n",
       "    <tr>\n",
       "      <th>242</th>\n",
       "      <td>242</td>\n",
       "      <td>15589328</td>\n",
       "      <td>Woodside</td>\n",
       "      <td>CA</td>\n",
       "      <td>FOR_SALE</td>\n",
       "      <td>4.0</td>\n",
       "      <td>4.0</td>\n",
       "      <td>2398000</td>\n",
       "      <td>769.0</td>\n",
       "      <td>1974.0</td>\n",
       "      <td>...</td>\n",
       "      <td>Acres</td>\n",
       "      <td>165 Old Ranch Rd</td>\n",
       "      <td>94062</td>\n",
       "      <td>Woodside CA 94062</td>\n",
       "      <td>SINGLE_FAMILY</td>\n",
       "      <td>scott@scottphayes.com</td>\n",
       "      <td>Scott Hayes</td>\n",
       "      <td>650-245-5044</td>\n",
       "      <td>Compass</td>\n",
       "      <td>650-529-1111</td>\n",
       "    </tr>\n",
       "    <tr>\n",
       "      <th>124</th>\n",
       "      <td>124</td>\n",
       "      <td>15589425</td>\n",
       "      <td>Woodside</td>\n",
       "      <td>CA</td>\n",
       "      <td>FOR_SALE</td>\n",
       "      <td>3.0</td>\n",
       "      <td>2.0</td>\n",
       "      <td>1495000</td>\n",
       "      <td>965.0</td>\n",
       "      <td>1981.0</td>\n",
       "      <td>...</td>\n",
       "      <td>Acres</td>\n",
       "      <td>125 Ridge Rd</td>\n",
       "      <td>94062</td>\n",
       "      <td>Woodside CA 94062</td>\n",
       "      <td>SINGLE_FAMILY</td>\n",
       "      <td>liam.brennan@compass.com</td>\n",
       "      <td>Liam Brennan</td>\n",
       "      <td>650-290-2172</td>\n",
       "      <td>Compass</td>\n",
       "      <td>408-883-0588</td>\n",
       "    </tr>\n",
       "  </tbody>\n",
       "</table>\n",
       "<p>781 rows × 24 columns</p>\n",
       "</div>"
      ],
      "text/plain": [
       "     Unnamed: 0        zpid      city state homeStatus  bedrooms  bathrooms  \\\n",
       "619         619  2061968146    Albany    CA   FOR_SALE       1.0        1.0   \n",
       "621         621  2062248603    Albany    CA   FOR_SALE       1.0        1.0   \n",
       "622         622  2061968144    Albany    CA   FOR_SALE       2.0        1.0   \n",
       "623         623  2062248601    Albany    CA   FOR_SALE       2.0        2.0   \n",
       "624         624  2062248604    Albany    CA   FOR_SALE       1.0        1.0   \n",
       "..          ...         ...       ...   ...        ...       ...        ...   \n",
       "171         171    15597312  Woodside    CA   FOR_SALE       0.0        0.0   \n",
       "571         571   181464708  Woodside    CA   FOR_SALE       0.0        0.0   \n",
       "181         181    15589374  Woodside    CA   FOR_SALE       3.0        3.0   \n",
       "242         242    15589328  Woodside    CA   FOR_SALE       4.0        4.0   \n",
       "124         124    15589425  Woodside    CA   FOR_SALE       3.0        2.0   \n",
       "\n",
       "       price  resoFacts_pricePerSquareFoot  yearBuilt  ...  lotAreaUnits  \\\n",
       "619   520000                         743.0     1978.0  ...         Acres   \n",
       "621   500000                         833.0     1978.0  ...         Acres   \n",
       "622   575000                         673.0     1978.0  ...         Acres   \n",
       "623   650000                         650.0     1978.0  ...         Acres   \n",
       "624   520000                         743.0     1978.0  ...         Acres   \n",
       "..       ...                           ...        ...  ...           ...   \n",
       "171  1950000                           NaN        NaN  ...         Acres   \n",
       "571   695000                           NaN        NaN  ...         Acres   \n",
       "181  1495000                         686.0     1945.0  ...         Acres   \n",
       "242  2398000                         769.0     1974.0  ...         Acres   \n",
       "124  1495000                         965.0     1981.0  ...         Acres   \n",
       "\n",
       "           streetAddress  zipcode       regionString       homeType  \\\n",
       "619  409 Evelyn Ave #108    94706    Albany CA 94706          CONDO   \n",
       "621  409 Evelyn Ave #301    94706    Albany CA 94706          CONDO   \n",
       "622  409 Evelyn Ave #304    94706    Albany CA 94706          CONDO   \n",
       "623  409 Evelyn Ave #305    94706    Albany CA 94706          CONDO   \n",
       "624  409 Evelyn Ave #308    94706    Albany CA 94706          CONDO   \n",
       "..                   ...      ...                ...            ...   \n",
       "171   14051 Skyline Blvd    94062  Woodside CA 94062            LOT   \n",
       "571    3600 Partition Rd    94062  Woodside CA 94062            LOT   \n",
       "181  144 Huckleberry Trl    94062  Woodside CA 94062  SINGLE_FAMILY   \n",
       "242     165 Old Ranch Rd    94062  Woodside CA 94062  SINGLE_FAMILY   \n",
       "124         125 Ridge Rd    94062  Woodside CA 94062  SINGLE_FAMILY   \n",
       "\n",
       "    attributionInfo_agentEmail  attributionInfo_agentName  \\\n",
       "619  tpoperealestate@gmail.com              Thomas A Pope   \n",
       "621  tpoperealestate@gmail.com              Thomas A Pope   \n",
       "622  tpoperealestate@gmail.com              Thomas A Pope   \n",
       "623  tpoperealestate@gmail.com              Thomas A Pope   \n",
       "624  tpoperealestate@gmail.com              Thomas A Pope   \n",
       "..                         ...                        ...   \n",
       "171      scott@scottdancer.com               Scott Dancer   \n",
       "571      scott@scottdancer.com               Scott Dancer   \n",
       "181   homes@margotlockwood.com            Margot Lockwood   \n",
       "242      scott@scottphayes.com                Scott Hayes   \n",
       "124   liam.brennan@compass.com               Liam Brennan   \n",
       "\n",
       "    attributionInfo_agentPhoneNumber  \\\n",
       "619                     707-410-7818   \n",
       "621                     707-410-7818   \n",
       "622                     707-410-7818   \n",
       "623                     707-410-7818   \n",
       "624                     707-410-7818   \n",
       "..                               ...   \n",
       "171                     650-888-8199   \n",
       "571                     650-888-8199   \n",
       "181                     650-400-2528   \n",
       "242                     650-245-5044   \n",
       "124                     650-290-2172   \n",
       "\n",
       "                     attributionInfo_brokerName  \\\n",
       "619                       Pope Real Estate, Inc   \n",
       "621                       Pope Real Estate, Inc   \n",
       "622                       Pope Real Estate, Inc   \n",
       "623                       Pope Real Estate, Inc   \n",
       "624                       Pope Real Estate, Inc   \n",
       "..                                          ...   \n",
       "171                                     Compass   \n",
       "571                                     Compass   \n",
       "181  Golden Gate Sotheby's International Realty   \n",
       "242                                     Compass   \n",
       "124                                     Compass   \n",
       "\n",
       "    attributionInfo_brokerPhoneNumber  \n",
       "619                      707-425-2121  \n",
       "621                      707-425-2121  \n",
       "622                      707-425-2121  \n",
       "623                      707-425-2121  \n",
       "624                      707-425-2121  \n",
       "..                                ...  \n",
       "171                      650-529-1111  \n",
       "571                      650-529-1111  \n",
       "181                      650-847-1141  \n",
       "242                      650-529-1111  \n",
       "124                      408-883-0588  \n",
       "\n",
       "[781 rows x 24 columns]"
      ]
     },
     "execution_count": 136,
     "metadata": {},
     "output_type": "execute_result"
    }
   ],
   "source": [
    "df_sorted = df.sort_values('city')\n",
    "df = df_sorted\n",
    "df"
   ]
  },
  {
   "cell_type": "code",
   "execution_count": 137,
   "id": "212d41e0",
   "metadata": {},
   "outputs": [],
   "source": [
    "df.to_excel('C:\\\\Users\\\\STSC\\\\Downloads\\\\Cleaned Data.xlsx')"
   ]
  },
  {
   "cell_type": "code",
   "execution_count": null,
   "id": "0066eae2",
   "metadata": {},
   "outputs": [],
   "source": []
  }
 ],
 "metadata": {
  "kernelspec": {
   "display_name": "Python 3 (ipykernel)",
   "language": "python",
   "name": "python3"
  },
  "language_info": {
   "codemirror_mode": {
    "name": "ipython",
    "version": 3
   },
   "file_extension": ".py",
   "mimetype": "text/x-python",
   "name": "python",
   "nbconvert_exporter": "python",
   "pygments_lexer": "ipython3",
   "version": "3.9.12"
  }
 },
 "nbformat": 4,
 "nbformat_minor": 5
}
